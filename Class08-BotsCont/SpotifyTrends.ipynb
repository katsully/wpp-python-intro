{
 "cells": [
  {
   "cell_type": "code",
   "execution_count": null,
   "id": "8ca2a71c",
   "metadata": {},
   "outputs": [],
   "source": [
    "import spotipy\n",
    "import webbrowser\n",
    "import json\n",
    "import urllib.request\n",
    "import geocoder\n",
    "from nltk.corpus import stopwords\n",
    "import spotipy.util as util\n",
    "import random"
   ]
  },
  {
   "cell_type": "code",
   "execution_count": null,
   "id": "0582baa4",
   "metadata": {},
   "outputs": [],
   "source": [
    "with open(\"bbc_key.txt\", \"r\") as file:\n",
    "    key = file.read()"
   ]
  },
  {
   "cell_type": "code",
   "execution_count": null,
   "id": "01e9b204",
   "metadata": {},
   "outputs": [],
   "source": [
    "country = 'us'\n",
    "url = ('https://newsapi.org/v2/top-headlines?country=' + country + '&apiKey=' + key)\n",
    "request = urllib.request.Request(url)\n",
    "response = urllib.request.urlopen(request)"
   ]
  },
  {
   "cell_type": "code",
   "execution_count": null,
   "id": "0c974a44",
   "metadata": {},
   "outputs": [],
   "source": [
    "headlines = json.loads(response.read())"
   ]
  },
  {
   "cell_type": "code",
   "execution_count": null,
   "id": "84e9bc09",
   "metadata": {},
   "outputs": [],
   "source": [
    "unique_words = set()\n",
    "for headline in headlines['articles']:\n",
    "    for word in headline['title'].lower().split():\n",
    "        if word not in stopwords.words('english') and word.isalpha():\n",
    "            unique_words.add(word)\n",
    "            \n",
    "unique_words"
   ]
  },
  {
   "cell_type": "code",
   "execution_count": null,
   "id": "68e95206",
   "metadata": {},
   "outputs": [],
   "source": [
    "# open file with keys and set the path to your credentials JSON file\n",
    "credentials = \"spotify_keys.json\"\n",
    "with open(credentials, \"r\") as keys:\n",
    "    api_tokens = json.load(keys)"
   ]
  },
  {
   "cell_type": "code",
   "execution_count": null,
   "id": "4d5ed639",
   "metadata": {},
   "outputs": [],
   "source": [
    "client_id = api_tokens[\"client_id\"]\n",
    "client_secret = api_tokens[\"client_secret\"]\n",
    "redirectURI = api_tokens[\"redirect\"]\n",
    "username = api_tokens[\"username\"]"
   ]
  },
  {
   "cell_type": "code",
   "execution_count": null,
   "id": "adce7714",
   "metadata": {},
   "outputs": [],
   "source": [
    "scope = 'user-read-private user-read-playback-state user-modify-playback-state playlist-modify-public user-library-read'\n",
    "token = util.prompt_for_user_token(username, scope, client_id=client_id,\n",
    "                           client_secret=client_secret,\n",
    "                           redirect_uri=redirectURI)"
   ]
  },
  {
   "cell_type": "code",
   "execution_count": null,
   "id": "2995c66d",
   "metadata": {},
   "outputs": [],
   "source": [
    "sp = spotipy.Spotify(auth=token)"
   ]
  },
  {
   "cell_type": "code",
   "execution_count": null,
   "id": "0fc2c5d7",
   "metadata": {},
   "outputs": [],
   "source": [
    "import random\n",
    "songs = []\n",
    "for x in range(50):\n",
    "    search_term = random.choice(list(unique_words))\n",
    "    searchResults = sp.search(q=\"artist:\" + search_term, type=\"track\")\n",
    "    if len(searchResults['tracks']['items']) > 0:\n",
    "        first_song = searchResults['tracks']['items'][0]\n",
    "        songs.append(first_song['uri'])"
   ]
  },
  {
   "cell_type": "code",
   "execution_count": null,
   "id": "d6c8b0d1",
   "metadata": {},
   "outputs": [],
   "source": [
    "my_playlist = sp.user_playlist_create(user=username, name=\"Todays News\", public=True,\n",
    "                                      description=\"Songs for the news\")\n",
    "results = sp.user_playlist_add_tracks(username, my_playlist['id'], songs)\n",
    "print(results)"
   ]
  },
  {
   "cell_type": "code",
   "execution_count": null,
   "id": "d78c0e96",
   "metadata": {},
   "outputs": [],
   "source": [
    "webbrowser.open(my_playlist['external_urls']['spotify'])"
   ]
  },
  {
   "cell_type": "code",
   "execution_count": null,
   "id": "a6c33646",
   "metadata": {},
   "outputs": [],
   "source": [
    "tracks = sp.current_user_saved_tracks(limit=50)"
   ]
  },
  {
   "cell_type": "code",
   "execution_count": null,
   "id": "fa976c76",
   "metadata": {},
   "outputs": [],
   "source": [
    "len(tracks['items'])"
   ]
  },
  {
   "cell_type": "code",
   "execution_count": null,
   "id": "ec90a4fd",
   "metadata": {},
   "outputs": [],
   "source": []
  }
 ],
 "metadata": {
  "kernelspec": {
   "display_name": "Python 3 (ipykernel)",
   "language": "python",
   "name": "python3"
  },
  "language_info": {
   "codemirror_mode": {
    "name": "ipython",
    "version": 3
   },
   "file_extension": ".py",
   "mimetype": "text/x-python",
   "name": "python",
   "nbconvert_exporter": "python",
   "pygments_lexer": "ipython3",
   "version": "3.7.9"
  }
 },
 "nbformat": 4,
 "nbformat_minor": 5
}

{
 "cells": [
  {
   "cell_type": "code",
   "execution_count": 1,
   "id": "ddd2b5bb",
   "metadata": {},
   "outputs": [
    {
     "name": "stdout",
     "output_type": "stream",
     "text": [
      "Hello World\n"
     ]
    }
   ],
   "source": [
    "# print text to the console\n",
    "# in programming we call text a \"string\"\n",
    "# hit shift + enter to execute\n",
    "print(\"Hello World\")"
   ]
  },
  {
   "cell_type": "code",
   "execution_count": 3,
   "id": "fd069c12",
   "metadata": {},
   "outputs": [
    {
     "name": "stdout",
     "output_type": "stream",
     "text": [
      "Hello again\n",
      "My old friend\n",
      "Together again\n"
     ]
    }
   ],
   "source": [
    "# print a bunch of text to the console\n",
    "# note these comments are not printed\n",
    "print(\"Hello again\")\n",
    "print(\"My old friend\")\n",
    "print(\"Together again\")"
   ]
  },
  {
   "cell_type": "code",
   "execution_count": 5,
   "id": "613a24cd",
   "metadata": {},
   "outputs": [
    {
     "name": "stdout",
     "output_type": "stream",
     "text": [
      "100\n"
     ]
    }
   ],
   "source": [
    "# python can do math as well\n",
    "# in programming, we call a numbers with no decimal an \"integer\"\n",
    "print(4 * 25)"
   ]
  },
  {
   "cell_type": "code",
   "execution_count": 14,
   "id": "49a01a12",
   "metadata": {},
   "outputs": [
    {
     "name": "stdout",
     "output_type": "stream",
     "text": [
      "How many seconds in a day? 86400\n",
      "How many seconds in a day?, 24 * 60 * 60\n"
     ]
    }
   ],
   "source": [
    "# python let's you print strings and integers together\n",
    "# note the how the placement of quotations changes things\n",
    "print(\"How many seconds in a day?\", 24 * 60 * 60)\n",
    "print(\"How many seconds in a day?, 24 * 60 * 60\")"
   ]
  },
  {
   "cell_type": "code",
   "execution_count": 9,
   "id": "b5c4d27a",
   "metadata": {},
   "outputs": [
    {
     "name": "stdout",
     "output_type": "stream",
     "text": [
      "False\n"
     ]
    }
   ],
   "source": [
    "# python can also evaluate if a statement is true of false\n",
    "# in programming, we call true or false a \"boolean\"\n",
    "print(4 > 5)"
   ]
  },
  {
   "cell_type": "code",
   "execution_count": 13,
   "id": "1e52acf1",
   "metadata": {},
   "outputs": [
    {
     "name": "stdout",
     "output_type": "stream",
     "text": [
      "Is 10 multiplied by 2 equal to 30? False\n",
      "Is 10 multiplied by 2 equal to 20? True\n"
     ]
    }
   ],
   "source": [
    "# we use \"==\" to evaluate if one value to equal to another\n",
    "# '=' is used to assign value, '==' is used to compare one value to another\n",
    "print(\"Is 10 multiplied by 2 equal to 30?\", 10 * 2 == 30)\n",
    "print(\"Is 10 multiplied by 2 equal to 20?\", 10 * 2 == 20)"
   ]
  },
  {
   "cell_type": "code",
   "execution_count": 16,
   "id": "c4c467ad",
   "metadata": {},
   "outputs": [
    {
     "name": "stdout",
     "output_type": "stream",
     "text": [
      "1\n",
      "0\n"
     ]
    }
   ],
   "source": [
    "# the '%' symbol is called modulus. It tells us the remainder when you divide two numbers\n",
    "# 10 % 2 = 0 because 10 / 2 = 5 with no remainder\n",
    "# 9 % 2 = 1 because 9 / 2 = 4 with 1 remainder. \n",
    "# This will be very handy later!!\n",
    "print(36 % 5)\n",
    "print(12 % 4)"
   ]
  },
  {
   "cell_type": "code",
   "execution_count": 19,
   "id": "1ec5bea7",
   "metadata": {},
   "outputs": [
    {
     "name": "stdout",
     "output_type": "stream",
     "text": [
      "8\n",
      "12\n"
     ]
    }
   ],
   "source": [
    "# A reminder on order of operations\n",
    "# PEMDAS (parthenses, exponents, multiply, divide, add, subtract) <-- that's the order of operations\n",
    "print(4 + 2 * 2)\n",
    "print( (4 + 2) * 2)"
   ]
  },
  {
   "cell_type": "code",
   "execution_count": 20,
   "id": "75eacc68",
   "metadata": {},
   "outputs": [
    {
     "name": "stdout",
     "output_type": "stream",
     "text": [
      "5\n"
     ]
    }
   ],
   "source": [
    "# VARIABLES\n",
    "# In python, we can assign values to variables\n",
    "x = 5\n",
    "print(x)"
   ]
  },
  {
   "cell_type": "code",
   "execution_count": 23,
   "id": "8cba7cf3",
   "metadata": {},
   "outputs": [
    {
     "name": "stdout",
     "output_type": "stream",
     "text": [
      "10\n",
      "Hello\n",
      "True\n"
     ]
    }
   ],
   "source": [
    "# Because python is a DYNAMICALLY typed language a single variable can be an integer, then a string, then a boolean \n",
    "x = 10\n",
    "print(x)\n",
    "x = \"Hello\"\n",
    "print(x)\n",
    "x = True\n",
    "print(x)"
   ]
  },
  {
   "cell_type": "code",
   "execution_count": 25,
   "id": "5080e374",
   "metadata": {},
   "outputs": [
    {
     "name": "stdout",
     "output_type": "stream",
     "text": [
      "11\n",
      "1.0\n"
     ]
    }
   ],
   "source": [
    "# expressions can also be assigned to variables\n",
    "x = 5+6\n",
    "y = (4-2) / 2\n",
    "print(x)\n",
    "print(y) # note dividing an integer by an integer will result in a number with a decimal place, also called a \"float\""
   ]
  },
  {
   "cell_type": "code",
   "execution_count": 2,
   "id": "55d4bc3c",
   "metadata": {},
   "outputs": [
    {
     "name": "stdout",
     "output_type": "stream",
     "text": [
      "My favorite number is 8\n",
      "My friend's favorite number is 2.0\n"
     ]
    }
   ],
   "source": [
    "# as your code gets more complex, x and y won't cut it for variable names\n",
    "# make sure your variable names are descriptive (this will be VERY helpful later)\n",
    "# naming conventions in python for variable names are all lowercase, with underscrores seperating words\n",
    "# you never want to use spaces when naming variables!\n",
    "# note while variable names can include numbers, they cannot begin with one\n",
    "my_favorite_number = 4 * 2\n",
    "friend_favorite_number = 6 / 3\n",
    "print(\"My favorite number is\", my_favorite_number)\n",
    "print(\"My friend's favorite number is\", friend_favorite_number)"
   ]
  },
  {
   "cell_type": "code",
   "execution_count": 4,
   "id": "f1dcc535",
   "metadata": {},
   "outputs": [
    {
     "name": "stdout",
     "output_type": "stream",
     "text": [
      "My dog's age is 6, my cat's age is 7, and their combined age is 13\n"
     ]
    }
   ],
   "source": [
    "# you can also insert variables in the middle of print strings\n",
    "dog_age = 6\n",
    "cat_age = 7\n",
    "combined_age = dog_age + cat_age\n",
    "print(f\"My dog's age is {dog_age}, my cat's age is {cat_age}, and their combined age is {combined_age}\")"
   ]
  },
  {
   "cell_type": "code",
   "execution_count": 12,
   "id": "06aaac24",
   "metadata": {},
   "outputs": [
    {
     "name": "stdout",
     "output_type": "stream",
     "text": [
      "catdog\n",
      "ab\n",
      "False\n"
     ]
    }
   ],
   "source": [
    "# programming is fun because you can do math with strings\n",
    "cat_str = \"cat\"\n",
    "dog_str = \"dog\"\n",
    "catdog_str = cat_str + dog_str\n",
    "print(catdog_str)\n",
    "end1 = \"a\"\n",
    "end2 = \"b\"\n",
    "print(end1 + end2)\n",
    "print(end1 == end2)"
   ]
  },
  {
   "cell_type": "code",
   "execution_count": 14,
   "id": "2e19a404",
   "metadata": {},
   "outputs": [
    {
     "name": "stdout",
     "output_type": "stream",
     "text": [
      "My example string is 47 characters long\n"
     ]
    }
   ],
   "source": [
    "# we can also determine the length of our strings\n",
    "example_str = \"This is a sentence of some amount of characters\"\n",
    "len_str = len(example_str)\n",
    "print(f\"My example string is {len_str} characters long\")"
   ]
  },
  {
   "cell_type": "code",
   "execution_count": null,
   "id": "3318ea76",
   "metadata": {},
   "outputs": [],
   "source": []
  }
 ],
 "metadata": {
  "kernelspec": {
   "display_name": "Python 3 (ipykernel)",
   "language": "python",
   "name": "python3"
  },
  "language_info": {
   "codemirror_mode": {
    "name": "ipython",
    "version": 3
   },
   "file_extension": ".py",
   "mimetype": "text/x-python",
   "name": "python",
   "nbconvert_exporter": "python",
   "pygments_lexer": "ipython3",
   "version": "3.7.8"
  }
 },
 "nbformat": 4,
 "nbformat_minor": 5
}

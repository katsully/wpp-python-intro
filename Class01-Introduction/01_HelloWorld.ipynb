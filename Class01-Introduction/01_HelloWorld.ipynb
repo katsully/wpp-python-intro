{
 "cells": [
  {
   "cell_type": "code",
   "execution_count": 1,
   "id": "ade50809",
   "metadata": {},
   "outputs": [
    {
     "name": "stdout",
     "output_type": "stream",
     "text": [
      "Hello World\n"
     ]
    }
   ],
   "source": [
    "# print text to the console\n",
    "# hit shift + enter to execute\n",
    "print(\"Hello World\")"
   ]
  },
  {
   "cell_type": "code",
   "execution_count": 3,
   "id": "278435d6",
   "metadata": {},
   "outputs": [
    {
     "name": "stdout",
     "output_type": "stream",
     "text": [
      "Hello again\n",
      "My old friend\n",
      "Together again\n"
     ]
    }
   ],
   "source": [
    "# print a bunch of text to the console\n",
    "# note these comments are not printed\n",
    "print(\"Hello again\")\n",
    "print(\"My old friend\")\n",
    "print(\"Together again\")"
   ]
  },
  {
   "cell_type": "code",
   "execution_count": 5,
   "id": "81fbe50d",
   "metadata": {},
   "outputs": [
    {
     "name": "stdout",
     "output_type": "stream",
     "text": [
      "100\n"
     ]
    }
   ],
   "source": [
    "# python can do math as well\n",
    "print(4 * 25)"
   ]
  },
  {
   "cell_type": "code",
   "execution_count": null,
   "id": "7fccf6d4",
   "metadata": {},
   "outputs": [],
   "source": []
  }
 ],
 "metadata": {
  "kernelspec": {
   "display_name": "Python 3 (ipykernel)",
   "language": "python",
   "name": "python3"
  },
  "language_info": {
   "codemirror_mode": {
    "name": "ipython",
    "version": 3
   },
   "file_extension": ".py",
   "mimetype": "text/x-python",
   "name": "python",
   "nbconvert_exporter": "python",
   "pygments_lexer": "ipython3",
   "version": "3.7.8"
  }
 },
 "nbformat": 4,
 "nbformat_minor": 5
}

{
 "cells": [
  {
   "cell_type": "code",
   "execution_count": null,
   "id": "ddd2b5bb",
   "metadata": {},
   "outputs": [],
   "source": [
    "# print text to the console\n",
    "# in programming we call text a string or \"str\"\n",
    "# hit shift + enter to execute\n",
    "print(\"Hello World\")"
   ]
  },
  {
   "cell_type": "code",
   "execution_count": null,
   "id": "fd069c12",
   "metadata": {},
   "outputs": [],
   "source": [
    "# print a bunch of text to the console\n",
    "# note these comments are not printed\n",
    "print(\"Hello again\")\n",
    "print(\"My old friend\")\n",
    "print(\"Together again\")"
   ]
  },
  {
   "cell_type": "code",
   "execution_count": null,
   "id": "613a24cd",
   "metadata": {},
   "outputs": [],
   "source": [
    "# python can do math as well\n",
    "# in programming, we call a numbers with no decimal an integer or \"int\"\n",
    "print(4 * 25)"
   ]
  },
  {
   "cell_type": "code",
   "execution_count": null,
   "id": "49a01a12",
   "metadata": {},
   "outputs": [],
   "source": [
    "# python let's you print strings and integers together\n",
    "# note the how the placement of quotations changes things\n",
    "print(\"How many seconds in a day?\", 24 * 60 * 60)\n",
    "print(\"How many seconds in a day?, 24 * 60 * 60\")"
   ]
  },
  {
   "cell_type": "code",
   "execution_count": null,
   "id": "b5c4d27a",
   "metadata": {},
   "outputs": [],
   "source": [
    "# python can also evaluate if a statement is true of false\n",
    "# in programming, we call true or false a boolean or \"bool\"\n",
    "print(4 > 5)"
   ]
  },
  {
   "cell_type": "code",
   "execution_count": null,
   "id": "1e52acf1",
   "metadata": {},
   "outputs": [],
   "source": [
    "# we use \"==\" is the equal to operator to evaluate if one value to equal to another\n",
    "# '=' is used to assign value, '==' is used to compare one value to another\n",
    "# '!=' is the operator not equal\n",
    "print(\"Is 10 multiplied by 2 equal to 30?\", 10 * 2 == 30)\n",
    "print(\"Is 10 multiplied by 2 equal to 20?\", 10 * 2 == 20)\n",
    "print(\"Is 10 multiplied by 2 not equal to 30?\", 10 * 2 != 30)\n",
    "print(\"Is 10 multiplied by 2 not equal to 20?\", 10 * 2 != 20)"
   ]
  },
  {
   "cell_type": "code",
   "execution_count": null,
   "id": "c4c467ad",
   "metadata": {},
   "outputs": [],
   "source": [
    "# the '%' symbol is called modulus. It tells us the remainder when you divide two numbers\n",
    "# 10 % 2 = 0 because 10 / 2 = 5 with no remainder\n",
    "# 9 % 2 = 1 because 9 / 2 = 4 with 1 remainder. \n",
    "# This will be very handy later!!\n",
    "print(36 % 5)\n",
    "print(12 % 4)"
   ]
  },
  {
   "cell_type": "code",
   "execution_count": null,
   "id": "1ec5bea7",
   "metadata": {},
   "outputs": [],
   "source": [
    "# A reminder on order of operations\n",
    "# PEMDAS (parenthesis, exponents, multiply, divide, add, subtract) <-- that's the order of operations\n",
    "print(4 + 2 * 2)\n",
    "print( (4 + 2) * 2)"
   ]
  },
  {
   "cell_type": "code",
   "execution_count": null,
   "id": "75eacc68",
   "metadata": {},
   "outputs": [],
   "source": [
    "# VARIABLES\n",
    "# In python, we can assign values to variables\n",
    "x = 5\n",
    "print(x)"
   ]
  },
  {
   "cell_type": "code",
   "execution_count": null,
   "id": "8cba7cf3",
   "metadata": {},
   "outputs": [],
   "source": [
    "# Because python is a DYNAMICALLY typed language a single variable can be an integer, then a string, then a boolean \n",
    "# not sure what type of variable something is? use the type() function\n",
    "x = 10\n",
    "print(x)\n",
    "print(type(x))\n",
    "x = \"Hello\"\n",
    "print(x)\n",
    "print(type(x))\n",
    "x = True\n",
    "print(x)\n",
    "print(type(x))"
   ]
  },
  {
   "cell_type": "code",
   "execution_count": null,
   "id": "5080e374",
   "metadata": {},
   "outputs": [],
   "source": [
    "# expressions can also be assigned to variables\n",
    "x = 5+6\n",
    "y = (4-2) / 2\n",
    "print(x)\n",
    "print(y) # note dividing an integer by an integer will result in a number with a decimal place, also called a \"float\""
   ]
  },
  {
   "cell_type": "code",
   "execution_count": null,
   "id": "55d4bc3c",
   "metadata": {},
   "outputs": [],
   "source": [
    "# as your code gets more complex, x and y won't cut it for variable names\n",
    "# make sure your variable names are descriptive (this will be VERY helpful later)\n",
    "# naming conventions in python for variable names are all lowercase, with underscrores seperating words\n",
    "# you never want to use spaces when naming variables!\n",
    "# note while variable names can include numbers, they cannot begin with one\n",
    "my_favorite_number = 4 * 2\n",
    "friend_favorite_number = 6 / 3\n",
    "print(\"My favorite number is\", my_favorite_number)\n",
    "print(\"My friend's favorite number is\", friend_favorite_number)"
   ]
  },
  {
   "cell_type": "code",
   "execution_count": null,
   "id": "f1dcc535",
   "metadata": {},
   "outputs": [],
   "source": [
    "# you can also insert variables in the middle of print strings\n",
    "dog_age = 6\n",
    "cat_age = 7\n",
    "combined_age = dog_age + cat_age\n",
    "print(f\"My dog's age is {dog_age}, my cat's age is {cat_age}, and their combined age is {combined_age}\")"
   ]
  },
  {
   "cell_type": "code",
   "execution_count": null,
   "id": "affbb5e0",
   "metadata": {},
   "outputs": [],
   "source": [
    "# programming is fun because you can do math with strings\n",
    "cat_str = \"cat\"\n",
    "dog_str = \"dog\"\n",
    "catdog_str = cat_str + dog_str\n",
    "print(catdog_str)\n",
    "end1 = \"a\"\n",
    "end2 = \"b\"\n",
    "print(end1 + end2)\n",
    "print(end1 == end2)"
   ]
  },
  {
   "cell_type": "code",
   "execution_count": null,
   "id": "7f737bf1",
   "metadata": {},
   "outputs": [],
   "source": [
    "# we can also determine the length of our strings\n",
    "example_str = \"This is a sentence of some amount of characters\"\n",
    "len_str = len(example_str)\n",
    "print(f\"My example string is {len_str} characters long\")"
   ]
  },
  {
   "cell_type": "code",
   "execution_count": null,
   "id": "c48333a4",
   "metadata": {},
   "outputs": [],
   "source": [
    "# we can determine the position of a specific character or substring within a string using the find method\n",
    "# remember in computer programming, we start counting at 0\n",
    "# these functions may seem trivial but they will be VERY useful later!\n",
    "example_string = \"Here is a sentence where I never use the letter o...darn\"\n",
    "print(example_string.find('o'))"
   ]
  },
  {
   "cell_type": "code",
   "execution_count": null,
   "id": "aa7894e3",
   "metadata": {},
   "outputs": [],
   "source": [
    "# when dealing with data from outside sources you may often find lots of extra whitespace\n",
    "# we can handle that by using the strip\n",
    "whitespace_text = \"    here's a string with lots of space                   \"\n",
    "stripped_text = whitespace_text.strip()\n",
    "print(stripped_text)"
   ]
  },
  {
   "cell_type": "code",
   "execution_count": null,
   "id": "4fe74b1b",
   "metadata": {},
   "outputs": [],
   "source": [
    "# we can also convert strings to all uppercases or lowercases\n",
    "upper_text = stripped_text.upper()\n",
    "print(upper_text)\n",
    "print(upper_text.lower())"
   ]
  },
  {
   "cell_type": "code",
   "execution_count": null,
   "id": "23f625b7",
   "metadata": {},
   "outputs": [],
   "source": [
    "# in python's mind, strings are simply a list of characters\n",
    "# take the string \"apple\", 0=a, 1=p, 2=p, 3=l, 4=e\n",
    "# we can show this using string indexing\n",
    "ex_str = \"apple\"\n",
    "print(ex_str[0])\n",
    "print(ex_str[1])\n",
    "print(ex_str[2])\n",
    "print(ex_str[3])\n",
    "print(ex_str[4])"
   ]
  },
  {
   "cell_type": "code",
   "execution_count": null,
   "id": "b68b10e8",
   "metadata": {},
   "outputs": [],
   "source": [
    "# we can use string indexing to create substrings, or parts of a string\n",
    "# to do this we do my_string[beginning_idx : ending_idx]\n",
    "# the ending_idx signfies what index to stop at, the character at that index will not be included\n",
    "compound_str = \"whatsoever\"\n",
    "what_str = compound_str[:4] # if you leave out the beginning index it will start at 0\n",
    "so_str = compound_str[4:6]\n",
    "ever_str = compound_str[6:] # if you leave out the ending index it will end at the end of string\n",
    "print(what_str, so_str, ever_str)"
   ]
  },
  {
   "cell_type": "code",
   "execution_count": null,
   "id": "2cd18129",
   "metadata": {},
   "outputs": [],
   "source": [
    "# Casting\n",
    "# sometimes you'll want to convert a float to an int, or a str to an int orrr\n",
    "# you can do this with a process called casting\n",
    "print(int(14.0))\n",
    "print(\"14\" + \"15\")\n",
    "print(int(\"14\") + int(\"15\"))\n",
    "print(float(14))"
   ]
  }
 ],
 "metadata": {
  "kernelspec": {
   "display_name": "Python 3 (ipykernel)",
   "language": "python",
   "name": "python3"
  },
  "language_info": {
   "codemirror_mode": {
    "name": "ipython",
    "version": 3
   },
   "file_extension": ".py",
   "mimetype": "text/x-python",
   "name": "python",
   "nbconvert_exporter": "python",
   "pygments_lexer": "ipython3",
   "version": "3.7.8"
  }
 },
 "nbformat": 4,
 "nbformat_minor": 5
}

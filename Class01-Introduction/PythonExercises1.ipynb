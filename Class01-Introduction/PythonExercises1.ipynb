{
 "cells": [
  {
   "cell_type": "markdown",
   "id": "08d5ac0b",
   "metadata": {},
   "source": [
    "<h2>Introduction to Creative Code: Homework 1</h2>\n",
    "To complete this assignment, download this notebook and edit the code to produce the expected output. Be sure to upload the file to the shared drive before next class."
   ]
  },
  {
   "cell_type": "code",
   "execution_count": null,
   "id": "8db5dfac",
   "metadata": {},
   "outputs": [],
   "source": [
    "<h3>Problem 1</h3>\n"
   ]
  },
  {
   "cell_type": "markdown",
   "id": "1bb90fe5",
   "metadata": {},
   "source": [
    "<h3>Problem 2</h3>\n",
    "Fix the following code so the numerical value is printed, not the variable name\n",
    "Expected output: '''How many days are in 50 years? 18262'''"
   ]
  },
  {
   "cell_type": "code",
   "execution_count": 4,
   "id": "a47c14cd",
   "metadata": {},
   "outputs": [
    {
     "name": "stdout",
     "output_type": "stream",
     "text": [
      "How many days are in 50 years? 18262\n"
     ]
    }
   ],
   "source": [
    "days_in_50_years = 365 * 50 + (50/4)   # adding in leap days\n",
    "print(\"How many days are in 50 years?\", int(days_in_50_years))"
   ]
  },
  {
   "cell_type": "code",
   "execution_count": null,
   "id": "814bb794",
   "metadata": {},
   "outputs": [],
   "source": []
  }
 ],
 "metadata": {
  "kernelspec": {
   "display_name": "Python 3 (ipykernel)",
   "language": "python",
   "name": "python3"
  },
  "language_info": {
   "codemirror_mode": {
    "name": "ipython",
    "version": 3
   },
   "file_extension": ".py",
   "mimetype": "text/x-python",
   "name": "python",
   "nbconvert_exporter": "python",
   "pygments_lexer": "ipython3",
   "version": "3.7.8"
  }
 },
 "nbformat": 4,
 "nbformat_minor": 5
}

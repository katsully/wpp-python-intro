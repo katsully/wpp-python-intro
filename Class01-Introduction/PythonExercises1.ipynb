{
 "cells": [
  {
   "cell_type": "markdown",
   "id": "d895d7eb",
   "metadata": {},
   "source": [
    "<h2>Introduction to Creative Code: Homework 1</h2>\n",
    "To complete this assignment, download this notebook and edit the code to produce the expected output. Be sure to upload the file to the shared drive before next class."
   ]
  },
  {
   "cell_type": "markdown",
   "id": "2ec51903",
   "metadata": {},
   "source": [
    "<h3>Problem 1</h3>\n",
    "Fix the following code by adding parentheses so that you print out 18</br>\n",
    "Expected output: <code>18</code>"
   ]
  },
  {
   "cell_type": "code",
   "execution_count": 8,
   "id": "a3d10032",
   "metadata": {},
   "outputs": [
    {
     "name": "stdout",
     "output_type": "stream",
     "text": [
      "18\n"
     ]
    }
   ],
   "source": [
    "print((4 + 2) * 3)"
   ]
  },
  {
   "cell_type": "markdown",
   "id": "7080a0ec",
   "metadata": {},
   "source": [
    "<h3>Problem 2</h3>\n",
    "Change the operators (not the numbers!) in the following code so you print out true, false, true\n",
    "</br>Expected output:</br><code>True\n",
    "False\n",
    "True</code>"
   ]
  },
  {
   "cell_type": "code",
   "execution_count": 13,
   "id": "e8844491",
   "metadata": {},
   "outputs": [
    {
     "name": "stdout",
     "output_type": "stream",
     "text": [
      "True\n",
      "False\n",
      "True\n"
     ]
    }
   ],
   "source": [
    "print(4<5)\n",
    "print(12 % 2 == 1)\n",
    "print(2<6)"
   ]
  },
  {
   "cell_type": "markdown",
   "id": "0c7312b4",
   "metadata": {},
   "source": [
    "<h3>Problem 3</h3>\n",
    "Fix the following code so the numerical value is printed, not the variable name\n",
    "You'll also want to round the value to an integer.\n",
    "</br>Expected output: <code>How many days are in 50 years? 18262</code>"
   ]
  },
  {
   "cell_type": "code",
   "execution_count": 4,
   "id": "a2d47e99",
   "metadata": {},
   "outputs": [
    {
     "name": "stdout",
     "output_type": "stream",
     "text": [
      "How many days are in 50 years? 18262\n"
     ]
    }
   ],
   "source": [
    "days_in_50_years = 365 * 50 + (50/4)   # adding in leap days\n",
    "print(\"How many days are in 50 years?\", int(days_in_50_years))"
   ]
  },
  {
   "cell_type": "markdown",
   "id": "78bd430a",
   "metadata": {},
   "source": [
    "<h3>Problem 4</h3>\n",
    "Assign values to the following three variables so you print out the expected output.\n",
    "</br>Expected output:</br>\n",
    "<code>&ltclass 'int'&gt\n",
    "&ltclass 'float'&gt\n",
    "&ltclass 'str'&gt</code>"
   ]
  },
  {
   "cell_type": "code",
   "execution_count": 17,
   "id": "ab59ab61",
   "metadata": {},
   "outputs": [
    {
     "name": "stdout",
     "output_type": "stream",
     "text": [
      "<class 'int'>\n",
      "<class 'float'>\n",
      "<class 'str'>\n"
     ]
    }
   ],
   "source": [
    "int_var = 5\n",
    "float_var = 5.0 \n",
    "str_var = \"hello\"\n",
    "print(type(int_var))\n",
    "print(type(float_var))\n",
    "print(type(str_var))"
   ]
  },
  {
   "cell_type": "markdown",
   "id": "199cd398",
   "metadata": {},
   "source": [
    "<h3>Problem 5</h3>\n",
    "Using the defined variables, print the phrase \"Time After Time\" (note the spaces). Do not change the variables' values! Hint: use +</br>\n",
    "Expected Output: <code>Time After Time</code>"
   ]
  },
  {
   "cell_type": "code",
   "execution_count": 3,
   "id": "055dfa5a",
   "metadata": {},
   "outputs": [
    {
     "name": "stdout",
     "output_type": "stream",
     "text": [
      "Time After Time\n"
     ]
    }
   ],
   "source": [
    "time_str = \"Time\"\n",
    "after_str = \"After\"\n",
    "print(time_str + \" \" + after_str + \" \" + time_str)"
   ]
  },
  {
   "cell_type": "markdown",
   "id": "f6947e19",
   "metadata": {},
   "source": [
    "<h3>Problem 6</h3>\n",
    "Using the following two variables, print the total number of characters between the phrases. </br>\n",
    "Expected outcome: <code>37</code>"
   ]
  },
  {
   "cell_type": "code",
   "execution_count": 4,
   "id": "5338988c",
   "metadata": {},
   "outputs": [
    {
     "name": "stdout",
     "output_type": "stream",
     "text": [
      "37\n"
     ]
    }
   ],
   "source": [
    "str1 = \"I'm a great string\"\n",
    "str2 = \"I'm a better string\"\n",
    "print(len(str1+str2))"
   ]
  },
  {
   "cell_type": "markdown",
   "id": "d52eea0e",
   "metadata": {},
   "source": [
    "<h3>Problem 7</h3>\n"
   ]
  },
  {
   "cell_type": "code",
   "execution_count": 8,
   "id": "a90ad8ef",
   "metadata": {},
   "outputs": [
    {
     "name": "stdout",
     "output_type": "stream",
     "text": [
      "22\n"
     ]
    }
   ],
   "source": [
    "str_with_o = \"I am a string and at somewhere in here is the character u are seeking\"\n",
    "idx_of_o = str_with_o.find('o')\n",
    "print(idx_of_o)"
   ]
  },
  {
   "cell_type": "markdown",
   "id": "e586e735",
   "metadata": {},
   "source": [
    "<h3>Problem 8</h3>\n",
    "Using the previously defined idx_of_o variable print the str_with_o string starting from the first 'o' and ending before the first 'k'</br>\n",
    "Expected outcome: <code>omewhere in here is the character u are see</code>"
   ]
  },
  {
   "cell_type": "code",
   "execution_count": 10,
   "id": "d5acfded",
   "metadata": {},
   "outputs": [
    {
     "name": "stdout",
     "output_type": "stream",
     "text": [
      "omewhere in here is the character u are see\n"
     ]
    }
   ],
   "source": [
    "print(str_with_o[idx_of_o: str_with_o.find('k')])"
   ]
  },
  {
   "cell_type": "markdown",
   "id": "f3040214",
   "metadata": {},
   "source": [
    "<h3>Problem 9</h3>\n",
    "Using the following defined string, print out the 1st and 21st characters matching the expected outcome format. Remember in programming we start counting at 0! </br>\n",
    "Expected Outcome: <code>The first character is T and the twenty-first character is j</code>"
   ]
  },
  {
   "cell_type": "code",
   "execution_count": 13,
   "id": "06a5166d",
   "metadata": {},
   "outputs": [
    {
     "name": "stdout",
     "output_type": "stream",
     "text": [
      "The first character is T and the twenty-first character is j\n"
     ]
    }
   ],
   "source": [
    "my_example_string = \"The quick brown fox jumps over the lazy dog\"\n",
    "print(f\"The first character is {my_example_string[0]} and the twenty-first character is {my_example_string[20]}\")"
   ]
  },
  {
   "cell_type": "code",
   "execution_count": null,
   "id": "7df2b585",
   "metadata": {},
   "outputs": [],
   "source": [
    "<h3>Problem 10</h3>\n"
   ]
  }
 ],
 "metadata": {
  "kernelspec": {
   "display_name": "Python 3 (ipykernel)",
   "language": "python",
   "name": "python3"
  },
  "language_info": {
   "codemirror_mode": {
    "name": "ipython",
    "version": 3
   },
   "file_extension": ".py",
   "mimetype": "text/x-python",
   "name": "python",
   "nbconvert_exporter": "python",
   "pygments_lexer": "ipython3",
   "version": "3.7.8"
  }
 },
 "nbformat": 4,
 "nbformat_minor": 5
}

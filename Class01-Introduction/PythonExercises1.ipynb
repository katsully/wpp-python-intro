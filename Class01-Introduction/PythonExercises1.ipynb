{
 "cells": [
  {
   "cell_type": "markdown",
   "id": "d895d7eb",
   "metadata": {},
   "source": [
    "<h2>Introduction to Creative Coding: Homework 1</h2>\n",
    "To complete this assignment, download this notebook and edit the code to produce the expected output. Be sure to upload the file to the shared drive before next class."
   ]
  },
  {
   "cell_type": "markdown",
   "id": "2ec51903",
   "metadata": {},
   "source": [
    "<h3>Problem 1</h3>\n",
    "Fix the following code by adding parentheses so that you print out 18<br/>\n",
    "Expected Output: <code>18</code>"
   ]
  },
  {
   "cell_type": "code",
   "execution_count": null,
   "id": "a3d10032",
   "metadata": {},
   "outputs": [],
   "source": [
    "print(4 + 2 * 3)"
   ]
  },
  {
   "cell_type": "markdown",
   "id": "7080a0ec",
   "metadata": {},
   "source": [
    "<h3>Problem 2</h3>\n",
    "Change the operators (not the numbers!) in the following code so you print out true, false, true\n",
    "<br/>Expected Output:<br/><code>True\n",
    "False\n",
    "True</code>"
   ]
  },
  {
   "cell_type": "code",
   "execution_count": null,
   "id": "e8844491",
   "metadata": {},
   "outputs": [],
   "source": [
    "print(4>5)\n",
    "print(12 % 2 != 1)\n",
    "print(2>6)"
   ]
  },
  {
   "cell_type": "markdown",
   "id": "0c7312b4",
   "metadata": {},
   "source": [
    "<h3>Problem 3</h3>\n",
    "Fix the following code so the numerical value is printed, not the variable name.\n",
    "You'll also want to round the value to an integer.\n",
    "<br/>Expected Output: <code>How many days are in 50 years? 18262</code>"
   ]
  },
  {
   "cell_type": "code",
   "execution_count": null,
   "id": "a2d47e99",
   "metadata": {},
   "outputs": [],
   "source": [
    "days_in_50_years = 365 * 50 + (50/4)   # adding in leap days\n",
    "print(\"How many days are in 50 years? days_in_50_years\")"
   ]
  },
  {
   "cell_type": "markdown",
   "id": "78bd430a",
   "metadata": {},
   "source": [
    "<h3>Problem 4</h3>\n",
    "Assign values to the following three variables so you print out the expected output.\n",
    "<br/>Expected Output:<br/>\n",
    "<code>&lt;class 'int'><br/>",
    "&lt; class 'float'><br/>",
    "&lt; class 'str'><br/></code>"
   ]
  },
  {
   "cell_type": "code",
   "execution_count": null,
   "id": "ab59ab61",
   "metadata": {},
   "outputs": [],
   "source": [
    "int_var = \n",
    "float_var = \n",
    "str_var = \n",
    "print(type(int_var))\n",
    "print(type(float_var))\n",
    "print(type(str_var))"
   ]
  },
  {
   "cell_type": "markdown",
   "id": "199cd398",
   "metadata": {},
   "source": [
    "<h3>Problem 5</h3>\n",
    "Using the defined variables, print the phrase \"Time After Time\" (note the spaces). Do not change the variables' values! Hint: use + to add the spaces<br/>\n",
    "Expected Output: <code>Time After Time</code>"
   ]
  },
  {
   "cell_type": "code",
   "execution_count": null,
   "id": "055dfa5a",
   "metadata": {},
   "outputs": [],
   "source": [
    "time_str = \"Time\"\n",
    "after_str = \"After\"\n",
    "print()"
   ]
  },
  {
   "cell_type": "markdown",
   "id": "f6947e19",
   "metadata": {},
   "source": [
    "<h3>Problem 6</h3>\n",
    "Using the following two variables, print the total number of characters between the phrases. <br/>\n",
    "Expected Output: <code>37</code>"
   ]
  },
  {
   "cell_type": "code",
   "execution_count": null,
   "id": "5338988c",
   "metadata": {},
   "outputs": [],
   "source": [
    "str1 = \"I'm a great string\"\n",
    "str2 = \"I'm a better string\"\n",
    "print()"
   ]
  },
  {
   "cell_type": "markdown",
   "id": "d52eea0e",
   "metadata": {},
   "source": [
    "<h3>Problem 7</h3>\n",
    "Print the index of the first instance of the letter 't'<br/>\n",
    "Expected Output: <code>22</code>"
   ]
  },
  {
   "cell_type": "code",
   "execution_count": null,
   "id": "a90ad8ef",
   "metadata": {},
   "outputs": [],
   "source": [
    "str_with_o = \"I am a string and somewhere in here is the character u are seeking\"\n",
    "idx_of_o = \n",
    "print(idx_of_o)"
   ]
  },
  {
   "cell_type": "markdown",
   "id": "e586e735",
   "metadata": {},
   "source": [
    "<h3>Problem 8</h3>\n",
    "Using the previously defined idx_of_o variable print str_with_o starting from the first 'o' and ending before the first 'k'. Use string indexing.<br/>\n",
    "Expected Output: <code>omewhere in here is the character u are see</code>"
   ]
  },
  {
   "cell_type": "code",
   "execution_count": null,
   "id": "d5acfded",
   "metadata": {},
   "outputs": [],
   "source": [
    "print()"
   ]
  },
  {
   "cell_type": "markdown",
   "id": "f3040214",
   "metadata": {},
   "source": [
    "<h3>Problem 9</h3>\n",
    "Using the following defined string, print out the 1st and 21st characters matching the expected outcome format. Use string indexing. Remember in programming we start counting at 0! <br/>\n",
    "Expected Output: <code>The first character is T and the twenty-first character is j</code>"
   ]
  },
  {
   "cell_type": "code",
   "execution_count": null,
   "id": "06a5166d",
   "metadata": {},
   "outputs": [],
   "source": [
    "my_example_string = \"The quick brown fox jumps over the lazy dog\"\n",
    "print(f\"The first character is .... and the twenty-first character is ...\")"
   ]
  },
  {
   "cell_type": "markdown",
   "id": "cc19c0d9",
   "metadata": {},
   "source": [
    "<h3>Problem 10</h3>\n",
    "Using the find method, assign values to y_idx, f_idx, and m_idx that returns the first instance of y, f, and m respectively. \n",
    "<br/>Expected Output: <code>10 24 55</code>"
   ]
  },
  {
   "cell_type": "code",
   "execution_count": null,
   "id": "23f474e7",
   "metadata": {},
   "outputs": [],
   "source": [
    "long_str = \"Just when you think you found the answer, you find all meaning is lost\"\n",
    "y_idx = \n",
    "f_idx = \n",
    "m_idx = \n",
    "print(y_idx, f_idx, m_idx)"
   ]
  },
  {
   "cell_type": "markdown",
   "id": "bbafa5a8",
   "metadata": {},
   "source": [
    "<h3>Problem 11</h3>\n",
    "Assign values to you_str, found_str, and me_str that uses the previous three variables and string indexing to return the substring 'you', 'found', and 'me' respectively. Hint: addition would be helpful here. \n",
    "<br/>Expected Outcome: <code>you found me</code>"
   ]
  },
  {
   "cell_type": "code",
   "execution_count": null,
   "id": "13152864",
   "metadata": {},
   "outputs": [],
   "source": [
    "you_str = \n",
    "found_str = \n",
    "me_str = \n",
    "print(you_str + \" \" + found_str + \" \" + me_str)"
   ]
  }
 ],
 "metadata": {
  "kernelspec": {
   "display_name": "Python 3 (ipykernel)",
   "language": "python",
   "name": "python3"
  },
  "language_info": {
   "codemirror_mode": {
    "name": "ipython",
    "version": 3
   },
   "file_extension": ".py",
   "mimetype": "text/x-python",
   "name": "python",
   "nbconvert_exporter": "python",
   "pygments_lexer": "ipython3",
   "version": "3.7.8"
  }
 },
 "nbformat": 4,
 "nbformat_minor": 5
}

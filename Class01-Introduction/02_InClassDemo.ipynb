{
 "cells": [
  {
   "cell_type": "code",
   "execution_count": 22,
   "id": "ea27e3c7",
   "metadata": {},
   "outputs": [
    {
     "name": "stdout",
     "output_type": "stream",
     "text": [
      "Hi I'm Kat, I'm showing a demo\n"
     ]
    }
   ],
   "source": [
    "print(\"Hi I'm Kat, I'm showing a demo\")"
   ]
  },
  {
   "cell_type": "code",
   "execution_count": 23,
   "id": "3ab544b9",
   "metadata": {},
   "outputs": [
    {
     "name": "stdout",
     "output_type": "stream",
     "text": [
      "395930584308509438530485035\n"
     ]
    }
   ],
   "source": [
    "print(395930584308509438530485035)"
   ]
  },
  {
   "cell_type": "code",
   "execution_count": 3,
   "id": "248b035d",
   "metadata": {},
   "outputs": [
    {
     "data": {
      "text/plain": [
       "9"
      ]
     },
     "execution_count": 3,
     "metadata": {},
     "output_type": "execute_result"
    }
   ],
   "source": [
    "4 + 5"
   ]
  },
  {
   "cell_type": "code",
   "execution_count": 4,
   "id": "5dbf54cc",
   "metadata": {},
   "outputs": [
    {
     "data": {
      "text/plain": [
       "10"
      ]
     },
     "execution_count": 4,
     "metadata": {},
     "output_type": "execute_result"
    }
   ],
   "source": [
    "4 + 2 * 3"
   ]
  },
  {
   "cell_type": "code",
   "execution_count": 5,
   "id": "1a611234",
   "metadata": {},
   "outputs": [],
   "source": [
    "# I'm a comment!\n",
    "# Comments are for humans, not computers\n",
    "a = 5\n",
    "b = 3\n",
    "c = 4"
   ]
  },
  {
   "cell_type": "code",
   "execution_count": 6,
   "id": "d16cc7f6",
   "metadata": {},
   "outputs": [
    {
     "data": {
      "text/plain": [
       "5"
      ]
     },
     "execution_count": 6,
     "metadata": {},
     "output_type": "execute_result"
    }
   ],
   "source": [
    "a"
   ]
  },
  {
   "cell_type": "code",
   "execution_count": 8,
   "id": "a47ef7ff",
   "metadata": {},
   "outputs": [],
   "source": [
    "# good variable names!\n",
    "# descriptive, all lowercase, spaces -> underscores, can't start a name with a number\n",
    "my_first_str = \"Hello, this is my first string\""
   ]
  },
  {
   "cell_type": "code",
   "execution_count": 9,
   "id": "51d7a76f",
   "metadata": {},
   "outputs": [],
   "source": [
    "string_with_double = \"Hi, I'm a string\""
   ]
  },
  {
   "cell_type": "code",
   "execution_count": 11,
   "id": "78d191f1",
   "metadata": {},
   "outputs": [
    {
     "data": {
      "text/plain": [
       "\"Hi, I'm string\""
      ]
     },
     "execution_count": 11,
     "metadata": {},
     "output_type": "execute_result"
    }
   ],
   "source": [
    "string_with_single = \"Hi, I'm string\"\n",
    "string_with_single"
   ]
  },
  {
   "cell_type": "code",
   "execution_count": 12,
   "id": "0493278f",
   "metadata": {},
   "outputs": [],
   "source": [
    "string_with_single_quotes = 'wont use single quotes inside this string'"
   ]
  },
  {
   "cell_type": "code",
   "execution_count": 13,
   "id": "f6d74077",
   "metadata": {},
   "outputs": [
    {
     "data": {
      "text/plain": [
       "'wont use single quotes inside this string'"
      ]
     },
     "execution_count": 13,
     "metadata": {},
     "output_type": "execute_result"
    }
   ],
   "source": [
    "string_with_single_quotes"
   ]
  },
  {
   "cell_type": "code",
   "execution_count": 14,
   "id": "dbebac70",
   "metadata": {},
   "outputs": [
    {
     "name": "stdout",
     "output_type": "stream",
     "text": [
      "2\n"
     ]
    }
   ],
   "source": [
    "# the modulus - ie remainder from division\n",
    "print(14 % 3)"
   ]
  },
  {
   "cell_type": "code",
   "execution_count": 15,
   "id": "8ef360c8",
   "metadata": {},
   "outputs": [
    {
     "name": "stdout",
     "output_type": "stream",
     "text": [
      "2\n"
     ]
    }
   ],
   "source": [
    "# 14 divided by 3 = 4 with a remainder of 2\n",
    "print(14 % 3)"
   ]
  },
  {
   "cell_type": "code",
   "execution_count": 20,
   "id": "31002b2a",
   "metadata": {},
   "outputs": [
    {
     "name": "stdout",
     "output_type": "stream",
     "text": [
      "1978\n"
     ]
    }
   ],
   "source": [
    "string_with_numbers = \"19\"  # in quotes ---> that's a string!\n",
    "string_with_numbers2 = \"78\"\n",
    "# not adding numbers, adding string\n",
    "print(string_with_numbers + string_with_numbers2)"
   ]
  },
  {
   "cell_type": "code",
   "execution_count": 17,
   "id": "f257a320",
   "metadata": {},
   "outputs": [
    {
     "data": {
      "text/plain": [
       "79"
      ]
     },
     "execution_count": 17,
     "metadata": {},
     "output_type": "execute_result"
    }
   ],
   "source": [
    "my_int = 23\n",
    "my_int2 = 56\n",
    "my_int + my_int2"
   ]
  },
  {
   "cell_type": "code",
   "execution_count": 21,
   "id": "14164c24",
   "metadata": {},
   "outputs": [
    {
     "data": {
      "text/plain": [
       "97"
      ]
     },
     "execution_count": 21,
     "metadata": {},
     "output_type": "execute_result"
    }
   ],
   "source": [
    "# casting -> convert my string into an int\n",
    "new_int = int(string_with_numbers)\n",
    "new_int2 = int(string_with_numbers2)\n",
    "new_int + new_int2"
   ]
  },
  {
   "cell_type": "code",
   "execution_count": 19,
   "id": "c7dc6fc2",
   "metadata": {},
   "outputs": [],
   "source": [
    "# enter gives new line\n",
    "# shift + enters executes the block"
   ]
  },
  {
   "cell_type": "code",
   "execution_count": 24,
   "id": "dc6affeb",
   "metadata": {},
   "outputs": [
    {
     "data": {
      "text/plain": [
       "str"
      ]
     },
     "execution_count": 24,
     "metadata": {},
     "output_type": "execute_result"
    }
   ],
   "source": [
    "demo_string = \"This is my demo string\"\n",
    "type(demo_string)"
   ]
  },
  {
   "cell_type": "code",
   "execution_count": 25,
   "id": "f6ec65aa",
   "metadata": {},
   "outputs": [
    {
     "data": {
      "text/plain": [
       "int"
      ]
     },
     "execution_count": 25,
     "metadata": {},
     "output_type": "execute_result"
    }
   ],
   "source": [
    "type(new_int)"
   ]
  },
  {
   "cell_type": "code",
   "execution_count": 26,
   "id": "30466c42",
   "metadata": {},
   "outputs": [
    {
     "data": {
      "text/plain": [
       "22"
      ]
     },
     "execution_count": 26,
     "metadata": {},
     "output_type": "execute_result"
    }
   ],
   "source": [
    "len(demo_string)"
   ]
  },
  {
   "cell_type": "code",
   "execution_count": 27,
   "id": "4d5053c8",
   "metadata": {},
   "outputs": [
    {
     "data": {
      "text/plain": [
       "'i'"
      ]
     },
     "execution_count": 27,
     "metadata": {},
     "output_type": "execute_result"
    }
   ],
   "source": [
    "# indexing - square brackets\n",
    "# show the first i\n",
    "demo_string[2]"
   ]
  },
  {
   "cell_type": "code",
   "execution_count": 28,
   "id": "2dc6c319",
   "metadata": {},
   "outputs": [
    {
     "data": {
      "text/plain": [
       "'T'"
      ]
     },
     "execution_count": 28,
     "metadata": {},
     "output_type": "execute_result"
    }
   ],
   "source": [
    "demo_string[0]"
   ]
  },
  {
   "cell_type": "code",
   "execution_count": 30,
   "id": "2e132495",
   "metadata": {},
   "outputs": [
    {
     "data": {
      "text/plain": [
       "' is my demo string'"
      ]
     },
     "execution_count": 30,
     "metadata": {},
     "output_type": "execute_result"
    }
   ],
   "source": [
    "# substring\n",
    "# includes the staring index (4), goes up to the ending index (14)\n",
    "demo_string[4:14]"
   ]
  },
  {
   "cell_type": "code",
   "execution_count": 31,
   "id": "2378088f",
   "metadata": {},
   "outputs": [
    {
     "data": {
      "text/plain": [
       "' is my demo string'"
      ]
     },
     "execution_count": 31,
     "metadata": {},
     "output_type": "execute_result"
    }
   ],
   "source": [
    "demo_string[4:len(demo_string)]"
   ]
  },
  {
   "cell_type": "code",
   "execution_count": 32,
   "id": "10ad3528",
   "metadata": {},
   "outputs": [
    {
     "data": {
      "text/plain": [
       "' is my demo string'"
      ]
     },
     "execution_count": 32,
     "metadata": {},
     "output_type": "execute_result"
    }
   ],
   "source": [
    "demo_string[4:]"
   ]
  },
  {
   "cell_type": "code",
   "execution_count": 33,
   "id": "e2d2aba2",
   "metadata": {},
   "outputs": [
    {
     "data": {
      "text/plain": [
       "'This is my d'"
      ]
     },
     "execution_count": 33,
     "metadata": {},
     "output_type": "execute_result"
    }
   ],
   "source": [
    "#substring [starting_index : ending_index]\n",
    "# if the starting_index not there, start at 0\n",
    "demo_string[:12]"
   ]
  },
  {
   "cell_type": "code",
   "execution_count": 34,
   "id": "7881a75c",
   "metadata": {},
   "outputs": [
    {
     "data": {
      "text/plain": [
       "'s my demo string'"
      ]
     },
     "execution_count": 34,
     "metadata": {},
     "output_type": "execute_result"
    }
   ],
   "source": [
    "# if the ending_index is blank, right to end\n",
    "demo_string[6:]"
   ]
  },
  {
   "cell_type": "code",
   "execution_count": 36,
   "id": "61b07515",
   "metadata": {},
   "outputs": [
    {
     "data": {
      "text/plain": [
       "16"
      ]
     },
     "execution_count": 36,
     "metadata": {},
     "output_type": "execute_result"
    }
   ],
   "source": [
    "# how many characters in my substring?\n",
    "len(demo_string[6:])"
   ]
  },
  {
   "cell_type": "code",
   "execution_count": 39,
   "id": "0fdcc281",
   "metadata": {},
   "outputs": [
    {
     "data": {
      "text/plain": [
       "'This is my demo string'"
      ]
     },
     "execution_count": 39,
     "metadata": {},
     "output_type": "execute_result"
    }
   ],
   "source": [
    "demo_string"
   ]
  },
  {
   "cell_type": "code",
   "execution_count": 38,
   "id": "e01a5755",
   "metadata": {},
   "outputs": [
    {
     "data": {
      "text/plain": [
       "2"
      ]
     },
     "execution_count": 38,
     "metadata": {},
     "output_type": "execute_result"
    }
   ],
   "source": [
    "demo_string.find('i')"
   ]
  },
  {
   "cell_type": "code",
   "execution_count": 45,
   "id": "d05afa3b",
   "metadata": {},
   "outputs": [],
   "source": [
    "toaster = demo_string.find('i')"
   ]
  },
  {
   "cell_type": "code",
   "execution_count": 46,
   "id": "b82dba7d",
   "metadata": {},
   "outputs": [],
   "source": [
    "rainbow = demo_string.find('d')"
   ]
  },
  {
   "cell_type": "code",
   "execution_count": 47,
   "id": "e11b1499",
   "metadata": {},
   "outputs": [
    {
     "data": {
      "text/plain": [
       "'is is my '"
      ]
     },
     "execution_count": 47,
     "metadata": {},
     "output_type": "execute_result"
    }
   ],
   "source": [
    "demo_string[toaster : rainbow]"
   ]
  },
  {
   "cell_type": "code",
   "execution_count": 43,
   "id": "5042c4f7",
   "metadata": {},
   "outputs": [
    {
     "data": {
      "text/plain": [
       "False"
      ]
     },
     "execution_count": 43,
     "metadata": {},
     "output_type": "execute_result"
    }
   ],
   "source": [
    "4 > 5"
   ]
  },
  {
   "cell_type": "code",
   "execution_count": 44,
   "id": "e1530bdf",
   "metadata": {},
   "outputs": [
    {
     "data": {
      "text/plain": [
       "True"
      ]
     },
     "execution_count": 44,
     "metadata": {},
     "output_type": "execute_result"
    }
   ],
   "source": [
    "# double equal - comparing\n",
    "4 == 4"
   ]
  },
  {
   "cell_type": "code",
   "execution_count": null,
   "id": "3b415aa1",
   "metadata": {},
   "outputs": [],
   "source": []
  }
 ],
 "metadata": {
  "kernelspec": {
   "display_name": "Python 3 (ipykernel)",
   "language": "python",
   "name": "python3"
  },
  "language_info": {
   "codemirror_mode": {
    "name": "ipython",
    "version": 3
   },
   "file_extension": ".py",
   "mimetype": "text/x-python",
   "name": "python",
   "nbconvert_exporter": "python",
   "pygments_lexer": "ipython3",
   "version": "3.7.8"
  }
 },
 "nbformat": 4,
 "nbformat_minor": 5
}

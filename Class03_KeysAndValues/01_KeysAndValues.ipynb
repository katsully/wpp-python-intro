{
 "cells": [
  {
   "cell_type": "code",
   "execution_count": 1,
   "id": "72e5679d",
   "metadata": {},
   "outputs": [
    {
     "data": {
      "text/plain": [
       "{'Python': 'Fun'}"
      ]
     },
     "execution_count": 1,
     "metadata": {},
     "output_type": "execute_result"
    }
   ],
   "source": [
    "# dictionaries are a key feature of Python, they feature key-value pairs\n",
    "# think of a mail room and lots of small compartments with number assignments\n",
    "# the number indicating which compartment is the key, the mail inside the compartment is the value\n",
    "# here's a simple example of a dictionary\n",
    "{\"Python\": \"Fun\"}"
   ]
  },
  {
   "cell_type": "code",
   "execution_count": 2,
   "id": "925f8df8",
   "metadata": {},
   "outputs": [
    {
     "name": "stdout",
     "output_type": "stream",
     "text": [
      "{'Python': 'Fun'}\n"
     ]
    }
   ],
   "source": [
    "# we can assign a dictionary to a variable as well\n",
    "my_first_dict = {'Python': 'Fun'}\n",
    "print(my_first_dict)"
   ]
  },
  {
   "cell_type": "code",
   "execution_count": 3,
   "id": "0506a2b5",
   "metadata": {},
   "outputs": [],
   "source": [
    "# we can have multiple key-value pairs in a single dictionary\n",
    "lang_dict = {\"Python\": \"Fun\", \"COBOL\": \"Old School\"}"
   ]
  },
  {
   "cell_type": "code",
   "execution_count": 4,
   "id": "82ca9c58",
   "metadata": {},
   "outputs": [
    {
     "data": {
      "text/plain": [
       "3"
      ]
     },
     "execution_count": 4,
     "metadata": {},
     "output_type": "execute_result"
    }
   ],
   "source": [
    "# let's look at indexing a list again\n",
    "my_list = [1, 2, 3, 4]\n",
    "my_list[2]"
   ]
  },
  {
   "cell_type": "code",
   "execution_count": 5,
   "id": "aa3a1038",
   "metadata": {},
   "outputs": [
    {
     "data": {
      "text/plain": [
       "'Old School'"
      ]
     },
     "execution_count": 5,
     "metadata": {},
     "output_type": "execute_result"
    }
   ],
   "source": [
    "# we can do something similar with a dictionary, but instead of using a number as an index, we use\n",
    "# a key\n",
    "lang_dict['COBOL']"
   ]
  },
  {
   "cell_type": "code",
   "execution_count": 6,
   "id": "0e5cd87f",
   "metadata": {},
   "outputs": [
    {
     "data": {
      "text/plain": [
       "{'Python': \"It's alright\", 'COBOL': 'Old School'}"
      ]
     },
     "execution_count": 6,
     "metadata": {},
     "output_type": "execute_result"
    }
   ],
   "source": [
    "# dictionary values are mutable (meaning we can change the value)\n",
    "# but note that keys are immutable (we can't change them)\n",
    "lang_dict['Python'] = \"It's alright\"\n",
    "lang_dict"
   ]
  },
  {
   "cell_type": "code",
   "execution_count": 13,
   "id": "0eb08279",
   "metadata": {},
   "outputs": [
    {
     "data": {
      "text/plain": [
       "{'Temp': 28, 'Rain': '50% chance', 'Pressue': 29.77}"
      ]
     },
     "execution_count": 13,
     "metadata": {},
     "output_type": "execute_result"
    }
   ],
   "source": [
    "# keys and values can be comprised of different types of variables\n",
    "weather = {'Temp': 28, 'Rain': '50% chance', 'Pressue': 29.77}\n",
    "weather"
   ]
  },
  {
   "cell_type": "code",
   "execution_count": 10,
   "id": "f10cfe2e",
   "metadata": {},
   "outputs": [
    {
     "data": {
      "text/plain": [
       "{}"
      ]
     },
     "execution_count": 10,
     "metadata": {},
     "output_type": "execute_result"
    }
   ],
   "source": [
    "# just like we can have an empty list [], we can have an empty dictionary\n",
    "{}"
   ]
  },
  {
   "cell_type": "code",
   "execution_count": 13,
   "id": "3e8c386d",
   "metadata": {},
   "outputs": [
    {
     "data": {
      "text/plain": [
       "dict_keys(['Temp', 'Rain', 'Pressue'])"
      ]
     },
     "execution_count": 13,
     "metadata": {},
     "output_type": "execute_result"
    }
   ],
   "source": [
    "# if you want to pull out all the keys, you can use the keys() method\n",
    "weather.keys()"
   ]
  },
  {
   "cell_type": "code",
   "execution_count": 10,
   "id": "2a2f933e",
   "metadata": {},
   "outputs": [
    {
     "name": "stdout",
     "output_type": "stream",
     "text": [
      "True\n",
      "False\n",
      "False\n",
      "True\n"
     ]
    }
   ],
   "source": [
    "# We can use the reserved word in to see if a dictionary contains a certain key (that's key, not value)\n",
    "# We can use the reserved words not in to see if a dictionary does NOT contain a certain key\n",
    "print('Temp' in weather)\n",
    "print('50% chance' in weather)\n",
    "print('Temp' not in weather)\n",
    "print('50% chance' not in weather)"
   ]
  },
  {
   "cell_type": "code",
   "execution_count": 14,
   "id": "358286df",
   "metadata": {},
   "outputs": [
    {
     "data": {
      "text/plain": [
       "{'Rain': '50% chance', 'Pressue': 29.77}"
      ]
     },
     "execution_count": 14,
     "metadata": {},
     "output_type": "execute_result"
    }
   ],
   "source": [
    "# you can delete a key value pair from a dictionary using the reserved word del and providing the key of the key-value pair\n",
    "del weather['Temp']\n",
    "weather"
   ]
  },
  {
   "cell_type": "code",
   "execution_count": 15,
   "id": "0bb3bee7",
   "metadata": {},
   "outputs": [
    {
     "name": "stdout",
     "output_type": "stream",
     "text": [
      "0\n",
      "1\n",
      "2\n",
      "3\n",
      "4\n",
      "5\n",
      "6\n",
      "7\n",
      "8\n",
      "9\n"
     ]
    }
   ],
   "source": [
    "# remember for loops from last class?\n",
    "for i in range(10):\n",
    "    print(i)"
   ]
  },
  {
   "cell_type": "code",
   "execution_count": 17,
   "id": "642c219d",
   "metadata": {},
   "outputs": [
    {
     "name": "stdout",
     "output_type": "stream",
     "text": [
      "UK\n",
      "Europe\n",
      "USA\n",
      "North American\n",
      "Taiwan\n",
      "Asia\n",
      "Kenya\n",
      "Africa\n"
     ]
    }
   ],
   "source": [
    "# we can also use for loops with dictionaries\n",
    "countries = {\"UK\": \"Europe\", \"USA\": \"North American\", \"Taiwan\": \"Asia\", \"Kenya\": \"Africa\"}\n",
    "for key in countries: # remember key is simply a variable, you can call it anything you want\n",
    "    print(key)\n",
    "    print(countries[key])"
   ]
  },
  {
   "cell_type": "code",
   "execution_count": null,
   "id": "137b3f7f",
   "metadata": {},
   "outputs": [],
   "source": []
  }
 ],
 "metadata": {
  "kernelspec": {
   "display_name": "Python 3 (ipykernel)",
   "language": "python",
   "name": "python3"
  },
  "language_info": {
   "codemirror_mode": {
    "name": "ipython",
    "version": 3
   },
   "file_extension": ".py",
   "mimetype": "text/x-python",
   "name": "python",
   "nbconvert_exporter": "python",
   "pygments_lexer": "ipython3",
   "version": "3.7.8"
  }
 },
 "nbformat": 4,
 "nbformat_minor": 5
}

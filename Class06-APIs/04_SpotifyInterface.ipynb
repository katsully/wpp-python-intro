{
 "cells": [
  {
   "cell_type": "code",
   "execution_count": null,
   "id": "59acc916",
   "metadata": {},
   "outputs": [],
   "source": [
    "import spotipy\n",
    "import json\n",
    "import webbrowser"
   ]
  },
  {
   "cell_type": "code",
   "execution_count": null,
   "id": "d3a8075e",
   "metadata": {},
   "outputs": [],
   "source": [
    "# open file with keys and set the path to your credentials JSON file\n",
    "credentials = \"spotify_keys.json\"\n",
    "with open(credentials, \"r\") as keys:\n",
    "    api_tokens = json.load(keys)"
   ]
  },
  {
   "cell_type": "code",
   "execution_count": null,
   "id": "3759385a",
   "metadata": {},
   "outputs": [],
   "source": [
    "# read the keys and assign each to a variable\n",
    "# A redirect URI, or reply URL, is the location where the authorization server sends the user once the app has been \n",
    "# successfully authorized and granted an authorization code or access token.\n",
    "client_id = api_tokens[\"client_id\"]\n",
    "client_secret = api_tokens[\"client_secret\"]\n",
    "redirectURI = api_tokens[\"redirect\"]\n",
    "username = api_tokens[\"username\"]"
   ]
  },
  {
   "cell_type": "code",
   "execution_count": null,
   "id": "65273b70",
   "metadata": {},
   "outputs": [],
   "source": [
    "# Create OAuth Object\n",
    "oauth_object = spotipy.SpotifyOAuth(client_id, client_secret, redirectURI)\n",
    "# Create token\n",
    "token_dict = oauth_object.get_access_token()\n",
    "token = token_dict['access_token']\n",
    "# Create Spotify Object\n",
    "spotifyObject = spotipy.Spotify(auth=token)"
   ]
  },
  {
   "cell_type": "code",
   "execution_count": null,
   "id": "a9c949cf",
   "metadata": {},
   "outputs": [],
   "source": [
    "user = spotifyObject.current_user()"
   ]
  },
  {
   "cell_type": "code",
   "execution_count": null,
   "id": "5d21d264",
   "metadata": {},
   "outputs": [],
   "source": [
    "track_results = spotifyObject.search(q='year:2021', type='track', limit=50)"
   ]
  },
  {
   "cell_type": "code",
   "execution_count": null,
   "id": "a9f60a68",
   "metadata": {},
   "outputs": [],
   "source": [
    "first_song = track_results['tracks']['items'][0]"
   ]
  },
  {
   "cell_type": "code",
   "execution_count": null,
   "id": "47ce89e7",
   "metadata": {},
   "outputs": [],
   "source": [
    "print(first_song)"
   ]
  },
  {
   "cell_type": "code",
   "execution_count": 20,
   "id": "deb4d855",
   "metadata": {},
   "outputs": [
    {
     "data": {
      "text/plain": [
       "True"
      ]
     },
     "execution_count": 20,
     "metadata": {},
     "output_type": "execute_result"
    }
   ],
   "source": [
    "# Open the Song in Web Browser\n",
    "webbrowser.open(first_song['external_urls']['spotify'])"
   ]
  }
 ],
 "metadata": {
  "kernelspec": {
   "display_name": "Python 3 (ipykernel)",
   "language": "python",
   "name": "python3"
  },
  "language_info": {
   "codemirror_mode": {
    "name": "ipython",
    "version": 3
   },
   "file_extension": ".py",
   "mimetype": "text/x-python",
   "name": "python",
   "nbconvert_exporter": "python",
   "pygments_lexer": "ipython3",
   "version": "3.11.0"
  }
 },
 "nbformat": 4,
 "nbformat_minor": 5
}

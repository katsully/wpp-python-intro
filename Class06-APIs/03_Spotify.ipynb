{
 "cells": [
  {
   "cell_type": "code",
   "execution_count": null,
   "id": "29ae22d5",
   "metadata": {},
   "outputs": [],
   "source": [
    "import spotipy\n",
    "import pandas as pd"
   ]
  },
  {
   "cell_type": "code",
   "execution_count": null,
   "id": "05fe7d22",
   "metadata": {},
   "outputs": [],
   "source": [
    "from spotipy.oauth2 import SpotifyClientCredentials\n",
    "import json"
   ]
  },
  {
   "cell_type": "code",
   "execution_count": null,
   "id": "ec598569",
   "metadata": {},
   "outputs": [],
   "source": [
    "# open file with keys and set the path to your credentials JSON file\n",
    "credentials = \"spotify_keys.json\"\n",
    "with open(credentials, \"r\") as keys:\n",
    "    api_tokens = json.load(keys)"
   ]
  },
  {
   "cell_type": "code",
   "execution_count": null,
   "id": "e580b45e",
   "metadata": {},
   "outputs": [],
   "source": [
    "# read the keys and assign each to a variable\n",
    "client_id = api_tokens[\"client_id\"]\n",
    "client_secret = api_tokens[\"client_secret\"]"
   ]
  },
  {
   "cell_type": "code",
   "execution_count": null,
   "id": "c39e3899",
   "metadata": {},
   "outputs": [],
   "source": [
    "client_credentials_manager = SpotifyClientCredentials(client_id, client_secret)"
   ]
  },
  {
   "cell_type": "code",
   "execution_count": null,
   "id": "935070d4",
   "metadata": {},
   "outputs": [],
   "source": [
    "sp = spotipy.Spotify(client_credentials_manager=client_credentials_manager)"
   ]
  },
  {
   "cell_type": "code",
   "execution_count": null,
   "id": "5bce6c22",
   "metadata": {},
   "outputs": [],
   "source": [
    "# learn about more query strings for spotify here: https://developer.spotify.com/documentation/web-api/reference/#/operations/search\n",
    "track_results = sp.search(q='year:2021', type='track', limit=50)"
   ]
  },
  {
   "cell_type": "code",
   "execution_count": null,
   "id": "8a67828a",
   "metadata": {},
   "outputs": [],
   "source": [
    "print(track_results)"
   ]
  },
  {
   "cell_type": "code",
   "execution_count": null,
   "id": "0d5e8552",
   "metadata": {},
   "outputs": [],
   "source": [
    "tracks = track_results['tracks']['items']"
   ]
  },
  {
   "cell_type": "code",
   "execution_count": null,
   "id": "098a57ba",
   "metadata": {},
   "outputs": [],
   "source": [
    "for song in tracks:\n",
    "    print(song['name'])"
   ]
  },
  {
   "cell_type": "code",
   "execution_count": null,
   "id": "d0d40ce4",
   "metadata": {},
   "outputs": [],
   "source": [
    "# convert list of dictionaries to pandas dataframe\n",
    "# will not work on nested data\n",
    "df = pd.DataFrame(tracks)"
   ]
  },
  {
   "cell_type": "code",
   "execution_count": null,
   "id": "2ed5a111",
   "metadata": {},
   "outputs": [],
   "source": [
    "df.head()"
   ]
  },
  {
   "cell_type": "code",
   "execution_count": null,
   "id": "5ac4c3d9",
   "metadata": {},
   "outputs": [],
   "source": [
    "df.iloc[0].artists[0]['name']"
   ]
  },
  {
   "cell_type": "code",
   "execution_count": null,
   "id": "85f91459",
   "metadata": {},
   "outputs": [],
   "source": [
    "df['artists'] = df"
   ]
  }
 ],
 "metadata": {
  "kernelspec": {
   "display_name": "Python 3 (ipykernel)",
   "language": "python",
   "name": "python3"
  },
  "language_info": {
   "codemirror_mode": {
    "name": "ipython",
    "version": 3
   },
   "file_extension": ".py",
   "mimetype": "text/x-python",
   "name": "python",
   "nbconvert_exporter": "python",
   "pygments_lexer": "ipython3",
   "version": "3.11.0"
  }
 },
 "nbformat": 4,
 "nbformat_minor": 5
}

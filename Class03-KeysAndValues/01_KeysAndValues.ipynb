{
 "cells": [
  {
   "cell_type": "code",
   "execution_count": 2,
   "id": "aa750929",
   "metadata": {},
   "outputs": [
    {
     "data": {
      "text/plain": [
       "['Hello', 'this', 'is', 'a', 'string']"
      ]
     },
     "execution_count": 2,
     "metadata": {},
     "output_type": "execute_result"
    }
   ],
   "source": [
    "# Let's cont with lists\n",
    "# we can transform a string into a list using the split() function\n",
    "my_string = \"Hello this is a string\"\n",
    "my_string.split()"
   ]
  },
  {
   "cell_type": "code",
   "execution_count": 3,
   "id": "73f48625",
   "metadata": {},
   "outputs": [
    {
     "data": {
      "text/plain": [
       "['23', '45', '465', '232', '45345', '234']"
      ]
     },
     "execution_count": 3,
     "metadata": {},
     "output_type": "execute_result"
    }
   ],
   "source": [
    "# the split function takes a character as a parameter, if there's no parameter, then by default it uses the space character\n",
    "a_string_of_nums = \"23/45/465/232/45345/234\"\n",
    "a_string_of_nums.split('/')"
   ]
  },
  {
   "cell_type": "code",
   "execution_count": 4,
   "id": "185fee02",
   "metadata": {},
   "outputs": [
    {
     "ename": "TypeError",
     "evalue": "unsupported operand type(s) for /: 'str' and 'int'",
     "output_type": "error",
     "traceback": [
      "\u001b[1;31m---------------------------------------------------------------------------\u001b[0m",
      "\u001b[1;31mTypeError\u001b[0m                                 Traceback (most recent call last)",
      "\u001b[1;32m~\\AppData\\Local\\Temp\\ipykernel_19916\\565840418.py\u001b[0m in \u001b[0;36m<module>\u001b[1;34m\u001b[0m\n\u001b[0;32m      3\u001b[0m \u001b[0mnew_list\u001b[0m \u001b[1;33m=\u001b[0m \u001b[0ma_string_of_nums\u001b[0m\u001b[1;33m.\u001b[0m\u001b[0msplit\u001b[0m\u001b[1;33m(\u001b[0m\u001b[1;34m'/'\u001b[0m\u001b[1;33m)\u001b[0m\u001b[1;33m\u001b[0m\u001b[1;33m\u001b[0m\u001b[0m\n\u001b[0;32m      4\u001b[0m \u001b[1;32mfor\u001b[0m \u001b[0mi\u001b[0m \u001b[1;32min\u001b[0m \u001b[0mnew_list\u001b[0m\u001b[1;33m:\u001b[0m\u001b[1;33m\u001b[0m\u001b[1;33m\u001b[0m\u001b[0m\n\u001b[1;32m----> 5\u001b[1;33m     \u001b[0mprint\u001b[0m\u001b[1;33m(\u001b[0m\u001b[0mi\u001b[0m \u001b[1;33m/\u001b[0m \u001b[1;36m2\u001b[0m\u001b[1;33m)\u001b[0m\u001b[1;33m\u001b[0m\u001b[1;33m\u001b[0m\u001b[0m\n\u001b[0m",
      "\u001b[1;31mTypeError\u001b[0m: unsupported operand type(s) for /: 'str' and 'int'"
     ]
    }
   ],
   "source": [
    "# however, this is still a list of strings\n",
    "# to prove this let's try and divide these numbers by 2\n",
    "new_list = a_string_of_nums.split('/')\n",
    "for i in new_list:\n",
    "    print(i / 2)\n",
    "\n",
    "# running this will result in an error because our list is a list of strings, not a list of integers"
   ]
  },
  {
   "cell_type": "code",
   "execution_count": 5,
   "id": "0abaf0cd",
   "metadata": {},
   "outputs": [
    {
     "name": "stdout",
     "output_type": "stream",
     "text": [
      "11.5\n",
      "22.5\n",
      "232.5\n",
      "116.0\n",
      "22672.5\n",
      "117.0\n"
     ]
    }
   ],
   "source": [
    "# we can use list comprehension to cast each string as int\n",
    "new_list_ints = [int(x) for x in a_string_of_nums.split('/')]\n",
    "for i in new_list_ints:\n",
    "    print(i / 2)"
   ]
  },
  {
   "cell_type": "code",
   "execution_count": 7,
   "id": "3b76dc3a",
   "metadata": {},
   "outputs": [
    {
     "data": {
      "text/plain": [
       "['Hello', 'this', 'is', 'a', 'string']"
      ]
     },
     "execution_count": 7,
     "metadata": {},
     "output_type": "execute_result"
    }
   ],
   "source": [
    "# now that we've split up strings into a list of elements, we need a way to put it back together\n",
    "# to do that, we're going to use the join() method\n",
    "# first, let's store our string as a list of words\n",
    "list_words = my_string.split()\n",
    "list_words"
   ]
  },
  {
   "cell_type": "code",
   "execution_count": 9,
   "id": "b095a4aa",
   "metadata": {},
   "outputs": [
    {
     "data": {
      "text/plain": [
       "'Hello this is a string'"
      ]
     },
     "execution_count": 9,
     "metadata": {},
     "output_type": "execute_result"
    }
   ],
   "source": [
    "# now we can put it back together\n",
    "reformed_str = \" \".join(list_words)\n",
    "reformed_str"
   ]
  },
  {
   "cell_type": "code",
   "execution_count": 11,
   "id": "5dc4381c",
   "metadata": {},
   "outputs": [
    {
     "data": {
      "text/plain": [
       "'feature python wonderful a off show to string wonderful A'"
      ]
     },
     "execution_count": 11,
     "metadata": {},
     "output_type": "execute_result"
    }
   ],
   "source": [
    "# this opens up a lot of possibilites\n",
    "# for example, we can reverse the words in a string\n",
    "ex_str = \"A wonderful string to show off a wonderful python feature\"\n",
    "ex_list = ex_str.split()\n",
    "ex_list.reverse()\n",
    "\" \".join(ex_list)"
   ]
  },
  {
   "cell_type": "code",
   "execution_count": 12,
   "id": "3f64e0ea",
   "metadata": {},
   "outputs": [],
   "source": [
    "# we can also introduce some randomness into our program\n",
    "# in order to do this we'll need the random libray which we will need to import\n",
    "# we don't need to do pip install because this is a default library, but we do need to explicity say we're using it\n",
    "import random"
   ]
  },
  {
   "cell_type": "code",
   "execution_count": 14,
   "id": "e2276d3d",
   "metadata": {},
   "outputs": [
    {
     "data": {
      "text/plain": [
       "['London', 'Toyoko', 'Cape Town', 'Bangkok', 'Paris', 'Santiago', 'Boston']"
      ]
     },
     "execution_count": 14,
     "metadata": {},
     "output_type": "execute_result"
    }
   ],
   "source": [
    "# now let's see what random can do for us\n",
    "# first we'll look at the shuffle function\n",
    "cities = [\"Paris\", \"Toyoko\", \"Boston\", \"Cape Town\", \"London\", \"Bangkok\", \"Santiago\"]\n",
    "random.shuffle(cities)\n",
    "cities"
   ]
  },
  {
   "cell_type": "code",
   "execution_count": 18,
   "id": "81bc3d28",
   "metadata": {},
   "outputs": [
    {
     "data": {
      "text/plain": [
       "'Paris'"
      ]
     },
     "execution_count": 18,
     "metadata": {},
     "output_type": "execute_result"
    }
   ],
   "source": [
    "# the choice function selects a single element at random\n",
    "# run this block multiple times and you'll see a different choice each time\n",
    "random.choice(cities)"
   ]
  },
  {
   "cell_type": "code",
   "execution_count": 1,
   "id": "72e5679d",
   "metadata": {},
   "outputs": [
    {
     "data": {
      "text/plain": [
       "{'Python': 'Fun'}"
      ]
     },
     "execution_count": 1,
     "metadata": {},
     "output_type": "execute_result"
    }
   ],
   "source": [
    "# dictionaries are a key feature of Python, they feature key-value pairs\n",
    "# think of a mail room and lots of small compartments with number assignments\n",
    "# the number indicating which compartment is the key, the mail inside the compartment is the value\n",
    "# here's a simple example of a dictionary\n",
    "{\"Python\": \"Fun\"}"
   ]
  },
  {
   "cell_type": "code",
   "execution_count": 2,
   "id": "925f8df8",
   "metadata": {},
   "outputs": [
    {
     "name": "stdout",
     "output_type": "stream",
     "text": [
      "{'Python': 'Fun'}\n"
     ]
    }
   ],
   "source": [
    "# we can assign a dictionary to a variable as well\n",
    "my_first_dict = {'Python': 'Fun'}\n",
    "print(my_first_dict)"
   ]
  },
  {
   "cell_type": "code",
   "execution_count": 3,
   "id": "0506a2b5",
   "metadata": {},
   "outputs": [],
   "source": [
    "# we can have multiple key-value pairs in a single dictionary\n",
    "lang_dict = {\"Python\": \"Fun\", \"COBOL\": \"Old School\"}"
   ]
  },
  {
   "cell_type": "code",
   "execution_count": 4,
   "id": "82ca9c58",
   "metadata": {},
   "outputs": [
    {
     "data": {
      "text/plain": [
       "3"
      ]
     },
     "execution_count": 4,
     "metadata": {},
     "output_type": "execute_result"
    }
   ],
   "source": [
    "# let's look at indexing a list again\n",
    "my_list = [1, 2, 3, 4]\n",
    "my_list[2]"
   ]
  },
  {
   "cell_type": "code",
   "execution_count": 5,
   "id": "aa3a1038",
   "metadata": {},
   "outputs": [
    {
     "data": {
      "text/plain": [
       "'Old School'"
      ]
     },
     "execution_count": 5,
     "metadata": {},
     "output_type": "execute_result"
    }
   ],
   "source": [
    "# we can do something similar with a dictionary, but instead of using a number as an index, we use\n",
    "# a key\n",
    "lang_dict['COBOL']"
   ]
  },
  {
   "cell_type": "code",
   "execution_count": 6,
   "id": "0e5cd87f",
   "metadata": {},
   "outputs": [
    {
     "data": {
      "text/plain": [
       "{'Python': \"It's alright\", 'COBOL': 'Old School'}"
      ]
     },
     "execution_count": 6,
     "metadata": {},
     "output_type": "execute_result"
    }
   ],
   "source": [
    "# dictionary values are mutable (meaning we can change the value)\n",
    "# but note that keys are immutable (we can't change them)\n",
    "lang_dict['Python'] = \"It's alright\"\n",
    "lang_dict"
   ]
  },
  {
   "cell_type": "code",
   "execution_count": 13,
   "id": "0eb08279",
   "metadata": {},
   "outputs": [
    {
     "data": {
      "text/plain": [
       "{'Temp': 28, 'Rain': '50% chance', 'Pressue': 29.77}"
      ]
     },
     "execution_count": 13,
     "metadata": {},
     "output_type": "execute_result"
    }
   ],
   "source": [
    "# keys and values can be comprised of different types of variables\n",
    "weather = {'Temp': 28, 'Rain': '50% chance', 'Pressue': 29.77}\n",
    "weather"
   ]
  },
  {
   "cell_type": "code",
   "execution_count": 10,
   "id": "f10cfe2e",
   "metadata": {},
   "outputs": [
    {
     "data": {
      "text/plain": [
       "{}"
      ]
     },
     "execution_count": 10,
     "metadata": {},
     "output_type": "execute_result"
    }
   ],
   "source": [
    "# just like we can have an empty list [], we can have an empty dictionary\n",
    "{}"
   ]
  },
  {
   "cell_type": "code",
   "execution_count": 13,
   "id": "3e8c386d",
   "metadata": {},
   "outputs": [
    {
     "data": {
      "text/plain": [
       "dict_keys(['Temp', 'Rain', 'Pressue'])"
      ]
     },
     "execution_count": 13,
     "metadata": {},
     "output_type": "execute_result"
    }
   ],
   "source": [
    "# if you want to pull out all the keys, you can use the keys() method\n",
    "weather.keys()"
   ]
  },
  {
   "cell_type": "code",
   "execution_count": 10,
   "id": "2a2f933e",
   "metadata": {},
   "outputs": [
    {
     "name": "stdout",
     "output_type": "stream",
     "text": [
      "True\n",
      "False\n",
      "False\n",
      "True\n"
     ]
    }
   ],
   "source": [
    "# We can use the reserved word in to see if a dictionary contains a certain key (that's key, not value)\n",
    "# We can use the reserved words not in to see if a dictionary does NOT contain a certain key\n",
    "print('Temp' in weather)\n",
    "print('50% chance' in weather)\n",
    "print('Temp' not in weather)\n",
    "print('50% chance' not in weather)"
   ]
  },
  {
   "cell_type": "code",
   "execution_count": 14,
   "id": "358286df",
   "metadata": {},
   "outputs": [
    {
     "data": {
      "text/plain": [
       "{'Rain': '50% chance', 'Pressue': 29.77}"
      ]
     },
     "execution_count": 14,
     "metadata": {},
     "output_type": "execute_result"
    }
   ],
   "source": [
    "# you can delete a key value pair from a dictionary using the reserved word del and providing the key of the key-value pair\n",
    "del weather['Temp']\n",
    "weather"
   ]
  },
  {
   "cell_type": "code",
   "execution_count": 15,
   "id": "0bb3bee7",
   "metadata": {},
   "outputs": [
    {
     "name": "stdout",
     "output_type": "stream",
     "text": [
      "0\n",
      "1\n",
      "2\n",
      "3\n",
      "4\n",
      "5\n",
      "6\n",
      "7\n",
      "8\n",
      "9\n"
     ]
    }
   ],
   "source": [
    "# remember for loops from last class?\n",
    "for i in range(10):\n",
    "    print(i)"
   ]
  },
  {
   "cell_type": "code",
   "execution_count": 17,
   "id": "642c219d",
   "metadata": {},
   "outputs": [
    {
     "name": "stdout",
     "output_type": "stream",
     "text": [
      "UK\n",
      "Europe\n",
      "USA\n",
      "North American\n",
      "Taiwan\n",
      "Asia\n",
      "Kenya\n",
      "Africa\n"
     ]
    }
   ],
   "source": [
    "# we can also use for loops with dictionaries\n",
    "countries = {\"UK\": \"Europe\", \"USA\": \"North American\", \"Taiwan\": \"Asia\", \"Kenya\": \"Africa\"}\n",
    "for key in countries: # remember key is simply a variable, you can call it anything you want\n",
    "    print(key)\n",
    "    print(countries[key])"
   ]
  },
  {
   "cell_type": "code",
   "execution_count": null,
   "id": "137b3f7f",
   "metadata": {},
   "outputs": [],
   "source": []
  }
 ],
 "metadata": {
  "kernelspec": {
   "display_name": "Python 3 (ipykernel)",
   "language": "python",
   "name": "python3"
  },
  "language_info": {
   "codemirror_mode": {
    "name": "ipython",
    "version": 3
   },
   "file_extension": ".py",
   "mimetype": "text/x-python",
   "name": "python",
   "nbconvert_exporter": "python",
   "pygments_lexer": "ipython3",
   "version": "3.7.8"
  }
 },
 "nbformat": 4,
 "nbformat_minor": 5
}

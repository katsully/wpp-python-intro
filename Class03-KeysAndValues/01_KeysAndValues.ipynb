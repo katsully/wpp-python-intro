{
 "cells": [
  {
   "cell_type": "code",
   "execution_count": null,
   "id": "37c7e108",
   "metadata": {},
   "outputs": [],
   "source": [
    "# Let's cont with lists\n",
    "# we can transform a string into a list using the split() function\n",
    "my_string = \"Hello this is a string\"\n",
    "my_string.split()"
   ]
  },
  {
   "cell_type": "code",
   "execution_count": null,
   "id": "94bed74a",
   "metadata": {},
   "outputs": [],
   "source": [
    "# the split function takes a character as a parameter, if there's no parameter, then by default it uses the space character\n",
    "a_string_of_nums = \"23/45/465/232/45345/234\"\n",
    "a_string_of_nums.split('/')"
   ]
  },
  {
   "cell_type": "code",
   "execution_count": null,
   "id": "f1a18291",
   "metadata": {},
   "outputs": [],
   "source": [
    "# however, this is still a list of strings\n",
    "# to prove this let's try and divide these numbers by 2\n",
    "new_list = a_string_of_nums.split('/')\n",
    "for i in new_list:\n",
    "    print(i / 2)\n",
    "\n",
    "# running this will result in an error because our list is a list of strings, not a list of integers"
   ]
  },
  {
   "cell_type": "code",
   "execution_count": null,
   "id": "70775191",
   "metadata": {},
   "outputs": [],
   "source": [
    "# we can use list comprehension to cast each string as int\n",
    "new_list_ints = [int(x) for x in a_string_of_nums.split('/')]\n",
    "for i in new_list_ints:\n",
    "    print(i / 2)"
   ]
  },
  {
   "cell_type": "code",
   "execution_count": null,
   "id": "83bd0709",
   "metadata": {},
   "outputs": [],
   "source": [
    "# now that we've split up strings into a list of elements, we need a way to put it back together\n",
    "# to do that, we're going to use the join() method\n",
    "# first, let's store our string as a list of words\n",
    "list_words = my_string.split()\n",
    "list_words"
   ]
  },
  {
   "cell_type": "code",
   "execution_count": null,
   "id": "d4f04ab6",
   "metadata": {},
   "outputs": [],
   "source": [
    "# now we can put it back together\n",
    "reformed_str = \" \".join(list_words)\n",
    "reformed_str"
   ]
  },
  {
   "cell_type": "code",
   "execution_count": null,
   "id": "b80927fe",
   "metadata": {},
   "outputs": [],
   "source": [
    "# this opens up a lot of possibilites\n",
    "# for example, we can reverse the words in a string\n",
    "ex_str = \"A wonderful string to show off a wonderful python feature\"\n",
    "ex_list = ex_str.split()\n",
    "ex_list.reverse()\n",
    "\" \".join(ex_list)"
   ]
  },
  {
   "cell_type": "code",
   "execution_count": null,
   "id": "8df3c9fe",
   "metadata": {},
   "outputs": [],
   "source": [
    "# we can also introduce some randomness into our program\n",
    "# in order to do this we'll need the random libray which we will need to import\n",
    "# we don't need to do pip install because this is a default library, but we do need to explicity say we're using it\n",
    "import random"
   ]
  },
  {
   "cell_type": "code",
   "execution_count": null,
   "id": "986a3424",
   "metadata": {},
   "outputs": [],
   "source": [
    "# now let's see what random can do for us\n",
    "# first we'll look at the shuffle function\n",
    "cities = [\"Paris\", \"Toyoko\", \"Boston\", \"Cape Town\", \"London\", \"Bangkok\", \"Santiago\"]\n",
    "random.shuffle(cities)\n",
    "cities"
   ]
  },
  {
   "cell_type": "code",
   "execution_count": null,
   "id": "80eeb3e7",
   "metadata": {},
   "outputs": [],
   "source": [
    "# the choice function selects a single element at random\n",
    "# run this block multiple times and you'll see a different choice each time\n",
    "random.choice(cities)"
   ]
  },
  {
   "cell_type": "code",
   "execution_count": null,
   "id": "1dca6c4d",
   "metadata": {},
   "outputs": [],
   "source": [
    "# there is also the sample function which will give you a list comprised of x number of randomly selected elements from the \n",
    "# source list\n",
    "# the first parameter is the source list, and the second parameter is the number of elements you want to select\n",
    "random.sample(cities, 3)"
   ]
  },
  {
   "cell_type": "code",
   "execution_count": null,
   "id": "72e5679d",
   "metadata": {},
   "outputs": [],
   "source": [
    "# dictionaries are a key feature of Python, they feature key-value pairs\n",
    "# think of a mail room and lots of small compartments with number assignments\n",
    "# the number indicating which compartment is the key, the mail inside the compartment is the value\n",
    "# here's a simple example of a dictionary\n",
    "{\"Python\": \"Fun\"}"
   ]
  },
  {
   "cell_type": "code",
   "execution_count": null,
   "id": "925f8df8",
   "metadata": {},
   "outputs": [],
   "source": [
    "# we can assign a dictionary to a variable as well\n",
    "my_first_dict = {'Python': 'Fun'}\n",
    "print(my_first_dict)"
   ]
  },
  {
   "cell_type": "code",
   "execution_count": null,
   "id": "0506a2b5",
   "metadata": {},
   "outputs": [],
   "source": [
    "# we can have multiple key-value pairs in a single dictionary\n",
    "lang_dict = {\"Python\": \"Fun\", \"COBOL\": \"Old School\"}"
   ]
  },
  {
   "cell_type": "code",
   "execution_count": null,
   "id": "82ca9c58",
   "metadata": {},
   "outputs": [],
   "source": [
    "# let's look at indexing a list again\n",
    "my_list = [1, 2, 3, 4]\n",
    "my_list[2]"
   ]
  },
  {
   "cell_type": "code",
   "execution_count": null,
   "id": "aa3a1038",
   "metadata": {},
   "outputs": [],
   "source": [
    "# we can do something similar with a dictionary, but instead of using a number as an index, we use\n",
    "# a key\n",
    "lang_dict['COBOL']"
   ]
  },
  {
   "cell_type": "code",
   "execution_count": null,
   "id": "0e5cd87f",
   "metadata": {},
   "outputs": [],
   "source": [
    "# dictionary values are mutable (meaning we can change the value)\n",
    "# but note that keys are immutable (we can't change them)\n",
    "lang_dict['Python'] = \"It's alright\"\n",
    "lang_dict"
   ]
  },
  {
   "cell_type": "code",
   "execution_count": null,
   "id": "0eb08279",
   "metadata": {},
   "outputs": [],
   "source": [
    "# keys and values can be comprised of different types of variables\n",
    "weather = {'Temp': 28, 'Rain': '50% chance', 'Pressue': 29.77}\n",
    "weather"
   ]
  },
  {
   "cell_type": "code",
   "execution_count": null,
   "id": "f10cfe2e",
   "metadata": {},
   "outputs": [],
   "source": [
    "# just like we can have an empty list [], we can have an empty dictionary\n",
    "{}"
   ]
  },
  {
   "cell_type": "code",
   "execution_count": null,
   "id": "3e8c386d",
   "metadata": {},
   "outputs": [],
   "source": [
    "# if you want to pull out all the keys, you can use the keys() method\n",
    "weather.keys()"
   ]
  },
  {
   "cell_type": "code",
   "execution_count": null,
   "id": "2a2f933e",
   "metadata": {},
   "outputs": [],
   "source": [
    "# We can use the reserved word in to see if a dictionary contains a certain key (that's key, not value)\n",
    "# We can use the reserved words not in to see if a dictionary does NOT contain a certain key\n",
    "print('Temp' in weather)\n",
    "print('50% chance' in weather)\n",
    "print('Temp' not in weather)\n",
    "print('50% chance' not in weather)"
   ]
  },
  {
   "cell_type": "code",
   "execution_count": null,
   "id": "358286df",
   "metadata": {},
   "outputs": [],
   "source": [
    "# you can delete a key value pair from a dictionary using the reserved word del and providing the key of the key-value pair\n",
    "del weather['Temp']\n",
    "weather"
   ]
  },
  {
   "cell_type": "code",
   "execution_count": null,
   "id": "0bb3bee7",
   "metadata": {},
   "outputs": [],
   "source": [
    "# remember for loops from last class?\n",
    "for i in range(10):\n",
    "    print(i)"
   ]
  },
  {
   "cell_type": "code",
   "execution_count": null,
   "id": "642c219d",
   "metadata": {},
   "outputs": [],
   "source": [
    "# we can also use for loops with dictionaries\n",
    "countries = {\"UK\": \"Europe\", \"USA\": \"North American\", \"Taiwan\": \"Asia\", \"Kenya\": \"Africa\"}\n",
    "for key in countries: # remember key is simply a variable, you can call it anything you want\n",
    "    print(key)\n",
    "    print(countries[key])"
   ]
  },
  {
   "cell_type": "code",
   "execution_count": null,
   "id": "137b3f7f",
   "metadata": {},
   "outputs": [],
   "source": [
    "# Dictionaries can be much more than 1:1 key-value relationships\n",
    "# Dictionaries are often used to represent complex, hierarchical data. It follows the same syntax as JSON (see README for \n",
    "# more info on JSON)\n",
    "# so let's have a more complex dictionary\n",
    "countries_categorized = {\"Asia\": [\"Taiwan\", \"Nepal\", \"Thailand\", \"Japan\"], \"Europe\": [\"UK\", \"France\", \"Germany\", \"Poland\"], \"South American\": [\"Chile\", \"Argentina\"], \"Africa\": [\"Kenya\", \"Ghana\", \"Sudan\"]}\n",
    "countries_categorized"
   ]
  },
  {
   "cell_type": "code",
   "execution_count": null,
   "id": "2d4656d9",
   "metadata": {},
   "outputs": [],
   "source": [
    "# countries_categorized has four keys, and each key has a list value\n",
    "# if we select one of the keys, it will return the associated list value\n",
    "countries_categorized['Europe']"
   ]
  },
  {
   "cell_type": "code",
   "execution_count": null,
   "id": "18e93c33",
   "metadata": {},
   "outputs": [],
   "source": [
    "# and remember if we want a certain element of a list we can use indexing\n",
    "# so if I want the third country in the 'Europe' key, I can select the 'Europe' key, then select the element at index 2 (remember we start counting at zero)\n",
    "countries_categorized['Europe'][2]"
   ]
  },
  {
   "cell_type": "code",
   "execution_count": null,
   "id": "0c309460",
   "metadata": {},
   "outputs": [],
   "source": [
    "# we'll be working with this type of data structure alot when we start using APIs so let's try a few more examples\n",
    "# we can add key-value pairs to a dictionary by assigning the dictionary key to a value\n",
    "countries_categorized['Australia'] = \"Australia\"\n",
    "countries_categorized['North America'] = ['Canada', 'USA', 'Mexico']\n",
    "countries_categorized"
   ]
  },
  {
   "cell_type": "code",
   "execution_count": null,
   "id": "370835ad",
   "metadata": {},
   "outputs": [],
   "source": [
    "# keys must be unique in a dictionary, so if you add a key that already exists, it will override the previous key's value\n",
    "countries_categorized['Europe'] = ['Finland', 'Spain']\n",
    "countries_categorized"
   ]
  }
 ],
 "metadata": {
  "kernelspec": {
   "display_name": "Python 3 (ipykernel)",
   "language": "python",
   "name": "python3"
  },
  "language_info": {
   "codemirror_mode": {
    "name": "ipython",
    "version": 3
   },
   "file_extension": ".py",
   "mimetype": "text/x-python",
   "name": "python",
   "nbconvert_exporter": "python",
   "pygments_lexer": "ipython3",
   "version": "3.7.8"
  }
 },
 "nbformat": 4,
 "nbformat_minor": 5
}

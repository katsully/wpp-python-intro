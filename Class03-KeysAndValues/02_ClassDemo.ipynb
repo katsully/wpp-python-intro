{
 "cells": [
  {
   "cell_type": "code",
   "execution_count": null,
   "id": "a5a8981e",
   "metadata": {},
   "outputs": [],
   "source": [
    "my_str = \"Hello nice to meet you\""
   ]
  },
  {
   "cell_type": "code",
   "execution_count": null,
   "id": "b201405a",
   "metadata": {},
   "outputs": [],
   "source": [
    "my_str[4]"
   ]
  },
  {
   "cell_type": "code",
   "execution_count": null,
   "id": "1d112718",
   "metadata": {},
   "outputs": [],
   "source": [
    "# break string into list of words\n",
    "my_str.split()"
   ]
  },
  {
   "cell_type": "code",
   "execution_count": null,
   "id": "bf5244d7",
   "metadata": {},
   "outputs": [],
   "source": [
    "list_words = my_str.split()"
   ]
  },
  {
   "cell_type": "code",
   "execution_count": null,
   "id": "29c34179",
   "metadata": {},
   "outputs": [],
   "source": [
    "list_words"
   ]
  },
  {
   "cell_type": "code",
   "execution_count": null,
   "id": "bbbdd85a",
   "metadata": {},
   "outputs": [],
   "source": [
    "# add the random library\n",
    "import random"
   ]
  },
  {
   "cell_type": "code",
   "execution_count": null,
   "id": "602ed4c6",
   "metadata": {},
   "outputs": [],
   "source": [
    "# mix up elements in a list\n",
    "random.shuffle(list_words)"
   ]
  },
  {
   "cell_type": "code",
   "execution_count": null,
   "id": "a6166b98",
   "metadata": {},
   "outputs": [],
   "source": [
    "list_words"
   ]
  },
  {
   "cell_type": "code",
   "execution_count": null,
   "id": "88f07488",
   "metadata": {},
   "outputs": [],
   "source": [
    "# convert elements in a list back into a string\n",
    "shuffled_string = \" \".join(list_words)"
   ]
  },
  {
   "cell_type": "code",
   "execution_count": null,
   "id": "c0dd32b4",
   "metadata": {},
   "outputs": [],
   "source": [
    "shuffled_string"
   ]
  },
  {
   "cell_type": "code",
   "execution_count": null,
   "id": "289e5782",
   "metadata": {},
   "outputs": [],
   "source": [
    "# put it all together\n",
    "my_str = \"Hello nice to meet you\"\n",
    "list_words = my_str.split()\n",
    "random.shuffle(list_words)\n",
    "shuffled_string = \" \".join(list_words)\n",
    "shuffled_string"
   ]
  },
  {
   "cell_type": "code",
   "execution_count": null,
   "id": "3da5861f",
   "metadata": {},
   "outputs": [],
   "source": [
    "# get a random sample of elements from a list\n",
    "# first parameter - the list\n",
    "# second parameter - the number of elements you want\n",
    "random.sample(list_words, 2)"
   ]
  },
  {
   "cell_type": "code",
   "execution_count": null,
   "id": "be14c949",
   "metadata": {},
   "outputs": [],
   "source": [
    "# dictionaries\n",
    "# key-value pair\n",
    "# python is our key\n",
    "# fun is our value\n",
    "my_first_dictionary = {\"Python\": \"fun\"}"
   ]
  },
  {
   "cell_type": "code",
   "execution_count": null,
   "id": "ecd64531",
   "metadata": {},
   "outputs": [],
   "source": [
    "# add a key-value pair\n",
    "my_first_dictionary[\"JavaScript\"] = \"chaos\""
   ]
  },
  {
   "cell_type": "code",
   "execution_count": null,
   "id": "daaba073",
   "metadata": {},
   "outputs": [],
   "source": [
    "my_first_dictionary"
   ]
  },
  {
   "cell_type": "code",
   "execution_count": null,
   "id": "c4e68a2e",
   "metadata": {},
   "outputs": [],
   "source": [
    "# if the key already exists, overwrite the value\n",
    "my_first_dictionary[\"JavaScript\"] = \"not java\""
   ]
  },
  {
   "cell_type": "code",
   "execution_count": null,
   "id": "e2d35518",
   "metadata": {},
   "outputs": [],
   "source": [
    "my_first_dictionary"
   ]
  },
  {
   "cell_type": "code",
   "execution_count": null,
   "id": "faac294c",
   "metadata": {},
   "outputs": [],
   "source": [
    "my_first_dictionary[\"JavaScript\"] = ['chaos', 'not java']"
   ]
  },
  {
   "cell_type": "code",
   "execution_count": null,
   "id": "395747b6",
   "metadata": {},
   "outputs": [],
   "source": [
    "my_first_dictionary"
   ]
  },
  {
   "cell_type": "code",
   "execution_count": null,
   "id": "24058c3e",
   "metadata": {},
   "outputs": [],
   "source": [
    "# add an element to the JavaScript value (we can do this because the value is a list)\n",
    "my_first_dictionary['JavaScript'].append('optional semi-colons')"
   ]
  },
  {
   "cell_type": "code",
   "execution_count": null,
   "id": "243c6740",
   "metadata": {},
   "outputs": [],
   "source": [
    "my_first_dictionary"
   ]
  },
  {
   "cell_type": "code",
   "execution_count": null,
   "id": "a4ffaedc",
   "metadata": {},
   "outputs": [],
   "source": [
    "normal_list = [4, 5, 6, 7]\n",
    "normal_list[1]"
   ]
  },
  {
   "cell_type": "code",
   "execution_count": null,
   "id": "40f8e386",
   "metadata": {},
   "outputs": [],
   "source": [
    "# putting the key in the index will return the value\n",
    "my_first_dictionary['Python']"
   ]
  },
  {
   "cell_type": "code",
   "execution_count": null,
   "id": "0b46c1a1",
   "metadata": {},
   "outputs": [],
   "source": [
    "for number in normal_list:\n",
    "    print(number)"
   ]
  },
  {
   "cell_type": "code",
   "execution_count": null,
   "id": "92f6eeaa",
   "metadata": {},
   "outputs": [],
   "source": [
    "for key in my_first_dictionary:\n",
    "    print(key)\n",
    "    print(type(key))"
   ]
  },
  {
   "cell_type": "code",
   "execution_count": null,
   "id": "61678175",
   "metadata": {},
   "outputs": [],
   "source": [
    "for key in my_first_dictionary:\n",
    "    # print values\n",
    "    print(my_first_dictionary[key]) # this is the value\n",
    "    print(type(my_first_dictionary[key]))"
   ]
  },
  {
   "cell_type": "code",
   "execution_count": null,
   "id": "3ace42dc",
   "metadata": {},
   "outputs": [],
   "source": [
    "my_list = [3,6,9,12] # think of each element as a value\n",
    "\n",
    "for number in range(4):    # think of 0,1,2,3 as keys!\n",
    "    print(my_list[number])"
   ]
  },
  {
   "cell_type": "code",
   "execution_count": null,
   "id": "cc288ead",
   "metadata": {},
   "outputs": [],
   "source": [
    "# the first index is my key, the second index is the index of the list\n",
    "print(my_first_dictionary)\n",
    "print(my_first_dictionary['JavaScript'][2])"
   ]
  },
  {
   "cell_type": "code",
   "execution_count": null,
   "id": "dbf0ce98",
   "metadata": {},
   "outputs": [],
   "source": [
    "second_dict = {\"four legs\": ['dogs', 'cats', 'lions', 'wolves', 'rats'], 'two legs': ['kangaroos', 'monkies']}"
   ]
  },
  {
   "cell_type": "code",
   "execution_count": null,
   "id": "3b812990",
   "metadata": {},
   "outputs": [],
   "source": [
    "second_dict"
   ]
  },
  {
   "cell_type": "code",
   "execution_count": null,
   "id": "466b711e",
   "metadata": {},
   "outputs": [],
   "source": [
    "for key in second_dict:\n",
    "    print(second_dict[key])"
   ]
  },
  {
   "cell_type": "code",
   "execution_count": null,
   "id": "54594882",
   "metadata": {},
   "outputs": [],
   "source": [
    "second_dict['four legs']"
   ]
  },
  {
   "cell_type": "code",
   "execution_count": null,
   "id": "d2b5c977",
   "metadata": {},
   "outputs": [],
   "source": [
    "# empty dictionary\n",
    "colors_dict = {}"
   ]
  },
  {
   "cell_type": "code",
   "execution_count": null,
   "id": "b85a0f87",
   "metadata": {},
   "outputs": [],
   "source": [
    "colors_dict['primary'] = ['red', 'yellow', 'blue']\n",
    "colors_dict"
   ]
  },
  {
   "cell_type": "code",
   "execution_count": null,
   "id": "b5c53f1c",
   "metadata": {},
   "outputs": [],
   "source": [
    "colors_dict['secondary'] = ['orange', 'green', 'blue']\n",
    "colors_dict"
   ]
  },
  {
   "cell_type": "code",
   "execution_count": null,
   "id": "00ead791",
   "metadata": {},
   "outputs": [],
   "source": [
    "colors_dict['secondary'][2] = 'purple'\n",
    "colors_dict"
   ]
  },
  {
   "cell_type": "code",
   "execution_count": null,
   "id": "ae3c5256",
   "metadata": {},
   "outputs": [],
   "source": [
    "colors_dict['primary'] = 'i forget'\n",
    "colors_dict"
   ]
  },
  {
   "cell_type": "code",
   "execution_count": null,
   "id": "1d1194ef",
   "metadata": {},
   "outputs": [],
   "source": [
    "# is the string in the keys of the dictionary?\n",
    "print('i forget' in colors_dict)"
   ]
  },
  {
   "cell_type": "code",
   "execution_count": null,
   "id": "64e6f6e2",
   "metadata": {},
   "outputs": [],
   "source": [
    "seasons = ['fall', 'fall', 'winter', 'Summer', 'summer', 'summer', 'summer']\n",
    "\n",
    "# if else statement inside list comprehension!\n",
    "# new_seasons = [ x.lower() if x[0] == 'S' else x for x in seasons ]\n",
    "\n",
    "new_seasons = [x.lower() for x in seasons]\n",
    "\n",
    "season_counter = {}\n",
    "\n",
    "for season in new_seasons:\n",
    "    # is key in dictionary?\n",
    "    if season in season_counter:\n",
    "        season_counter[season] += 1\n",
    "    else:\n",
    "        season_counter[season] = 1\n",
    "    \n",
    "print(season_counter)\n",
    "print(season_counter.keys())"
   ]
  },
  {
   "cell_type": "code",
   "execution_count": null,
   "id": "67945eea",
   "metadata": {},
   "outputs": [],
   "source": []
  }
 ],
 "metadata": {
  "kernelspec": {
   "display_name": "Python 3 (ipykernel)",
   "language": "python",
   "name": "python3"
  },
  "language_info": {
   "codemirror_mode": {
    "name": "ipython",
    "version": 3
   },
   "file_extension": ".py",
   "mimetype": "text/x-python",
   "name": "python",
   "nbconvert_exporter": "python",
   "pygments_lexer": "ipython3",
   "version": "3.11.0"
  }
 },
 "nbformat": 4,
 "nbformat_minor": 5
}

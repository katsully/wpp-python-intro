{
 "cells": [
  {
   "cell_type": "markdown",
   "id": "e6e3c8f5",
   "metadata": {},
   "source": [
    "<h2>Introduction to Creative Coding: Homework 3</h2><br/>\n",
    "To complete this assignment, download this notebook and edit the code to produce the expected output. Be sure to upload the file to the shared drive before next class."
   ]
  },
  {
   "cell_type": "markdown",
   "id": "61ec83a0",
   "metadata": {},
   "source": [
    "<h3>Problem 1</h3>\n",
    "Please assign the variable countries to a dictionary that contains key-value pairs of countries and abbreviations. You only need a few countries but be sure the last line of code results in 'Egypt'. If you need some help remembering country abbreviations look <a href=\"https://sustainablesources.com/resources/country-abbreviations/\">here</a>.\n",
    "<br />Expected Output: <code>Egypt</code>"
   ]
  },
  {
   "cell_type": "code",
   "execution_count": null,
   "id": "479bb09a",
   "metadata": {},
   "outputs": [],
   "source": [
    "countries = ...\n",
    "countries['EG']"
   ]
  },
  {
   "cell_type": "markdown",
   "id": "6a0c2f0e",
   "metadata": {},
   "source": [
    "<h3>Problem 2</h3>\n",
    "Add a new key-value pair to the dictionary you just initialized so that the last statement evaluates to Lithuania.\n",
    "<br/>Expected Output: <code>Lithuania</code>"
   ]
  },
  {
   "cell_type": "code",
   "execution_count": null,
   "id": "02d8b2cd",
   "metadata": {},
   "outputs": [],
   "source": [
    "new_key = ...\n",
    "new_val = ...\n",
    "countries[new_key] = new_val\n",
    "countries['LT']"
   ]
  },
  {
   "cell_type": "markdown",
   "id": "67b2a10c",
   "metadata": {},
   "source": [
    "<h3>Problem 3</h3>\n",
    "Change the value of the existing key \"coding\" from 2 to 10. Do not just rewrite the code in the first line! \n",
    "<br/>Expected Output: <code>10</code>"
   ]
  },
  {
   "cell_type": "code",
   "execution_count": null,
   "id": "62a1966d",
   "metadata": {},
   "outputs": [],
   "source": [
    "levels_of_fun = {\"dancing\": 10, \"coding\": 2, \"cooking\": 6, \"traveling\": 8}\n",
    "... # add your code\n",
    "print(levels_of_fun['coding'])"
   ]
  },
  {
   "cell_type": "markdown",
   "id": "0c2360ba",
   "metadata": {},
   "source": [
    "<h3>Problem 4</h3>\n",
    "Change the variable activity so that the following code prints 'Found it!\"\n",
    "<br/>Expected Output: <code>Found it!</code>"
   ]
  },
  {
   "cell_type": "code",
   "execution_count": null,
   "id": "d3295fef",
   "metadata": {},
   "outputs": [],
   "source": [
    "activity = ...\n",
    "if activity in levels_of_fun:\n",
    "    print(\"Found it!\")\n",
    "else:\n",
    "    print(\"Didn't find it\")"
   ]
  },
  {
   "cell_type": "markdown",
   "id": "46202674",
   "metadata": {},
   "source": [
    "<h3>Problem 5</h3>\n",
    "Print how many key-value pairs are in the dictionary levels_of_fun. Hint: use the len() function\n",
    "<br/>Expected Output: <code>4</code>"
   ]
  },
  {
   "cell_type": "code",
   "execution_count": null,
   "id": "5c7d47ed",
   "metadata": {},
   "outputs": [],
   "source": [
    "print(...)"
   ]
  },
  {
   "cell_type": "markdown",
   "id": "aaf3cca1",
   "metadata": {},
   "source": [
    "<h3>Problem 6</h3>\n",
    "Using a for loop, print out each country from your countries dictionary in all capital letters\n",
    "<br/>Expected Output (example - countries will vary based on your code): <code>\n",
    "EGYPT\n",
    "FRANCE\n",
    "LITHUANIA\n",
    "</code>"
   ]
  },
  {
   "cell_type": "code",
   "execution_count": null,
   "id": "a8c38ca2",
   "metadata": {},
   "outputs": [],
   "source": [
    "for key in countries:\n",
    "    print(...)"
   ]
  },
  {
   "cell_type": "markdown",
   "id": "42976822",
   "metadata": {},
   "source": [
    "<h3>Problem 7</h3>\n",
    "Below we have a new data structure, a list of dictionaries (don't panic!!). We want to make a list with just the company names. Replace 'pass' with code to append each company name to the list company_names\n",
    "<br/>Expected Ouput: <code>['Walmart', 'Amazon', 'Apple', 'CVS Health']</code>"
   ]
  },
  {
   "cell_type": "code",
   "execution_count": null,
   "id": "06866b40",
   "metadata": {},
   "outputs": [],
   "source": [
    "top_companies = [\n",
    "    {'name': 'Walmart', 'type': 'Retail', 'ranking': 1},\n",
    "    {'name': 'Amazon', 'type': 'Retail', 'ranking': 2},\n",
    "    {'name': 'Apple', 'type': 'Technology', 'ranking': 3},\n",
    "    {'name': 'CVS Health', 'type': 'Health Care', 'ranking': 4}\n",
    "]\n",
    "\n",
    "company_names = []\n",
    "for company in top_companies:\n",
    "    pass # <-- replace this!\n",
    "company_names"
   ]
  },
  {
   "cell_type": "markdown",
   "id": "2eb0f420",
   "metadata": {},
   "source": [
    "<h3>Problem 8</h3>\n",
    "Print out the company_names list, but in a random order. Hint: use the random library\n",
    "<br/>Expected Output (this is an example, exact order will vary): <code>['Apple', 'Amazon', 'CVS Health', 'Walmart']</code>"
   ]
  },
  {
   "cell_type": "code",
   "execution_count": null,
   "id": "7a28fce0",
   "metadata": {},
   "outputs": [],
   "source": [
    "import random\n",
    "# your code here\n",
    "print(company_names)"
   ]
  },
  {
   "cell_type": "markdown",
   "id": "10654f62",
   "metadata": {},
   "source": [
    "<h3>Problem 9</h3>\n",
    "Using the list we constructed in the previous problem, add an if statement to the end of the list comprehension to pull only company names that start with an 'A'.\n",
    "<br/>Expected Output: <code>Amazon, Apple</code>"
   ]
  },
  {
   "cell_type": "code",
   "execution_count": null,
   "id": "7af0a1e7",
   "metadata": {},
   "outputs": [],
   "source": [
    "companies_that_start_with_a = [x for x in company_names] # <-- add if expression\n",
    "print(', '.join(companies_that_start_with_a))"
   ]
  },
  {
   "cell_type": "markdown",
   "id": "22bd524a",
   "metadata": {},
   "source": [
    "<h3>Problem 10</h3>\n",
    "Print out a list of the middle part of each company name, starting with the 2nd character and ending with the 4th. Use list comprehension.\n",
    "<br/>Expected Output: <code>ppl, maz, VS , alm</code>"
   ]
  },
  {
   "cell_type": "code",
   "execution_count": null,
   "id": "e4fb9111",
   "metadata": {},
   "outputs": [],
   "source": [
    "company_midnames = ...\n",
    "print(', '.join(company_midnames))"
   ]
  }
 ],
 "metadata": {
  "kernelspec": {
   "display_name": "Python 3 (ipykernel)",
   "language": "python",
   "name": "python3"
  },
  "language_info": {
   "codemirror_mode": {
    "name": "ipython",
    "version": 3
   },
   "file_extension": ".py",
   "mimetype": "text/x-python",
   "name": "python",
   "nbconvert_exporter": "python",
   "pygments_lexer": "ipython3",
   "version": "3.7.8"
  }
 },
 "nbformat": 4,
 "nbformat_minor": 5
}

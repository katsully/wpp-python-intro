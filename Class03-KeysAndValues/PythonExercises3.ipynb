{
 "cells": [
  {
   "cell_type": "markdown",
   "id": "e6e3c8f5",
   "metadata": {},
   "source": [
    "<h2>Introduction to Creative Coding: Homework 3</h2></br>\n",
    "To complete this assignment, download this notebook and edit the code to produce the expected output. Be sure to upload the file to the shared drive before next class."
   ]
  },
  {
   "cell_type": "markdown",
   "id": "61ec83a0",
   "metadata": {},
   "source": [
    "<h3>Problem 1</h3>\n",
    "Please assign the variable my_dict to a dictionary that contains key-value pairs of countries and abbreviations. You don't need to do every country but be sure the last line results is 'Egypt'. If you need some help remember country abbreviations look <a href=\"https://sustainablesources.com/resources/country-abbreviations/\">here</a>.\n",
    "</br>Expected Output: <code>Egypt</code>"
   ]
  },
  {
   "cell_type": "code",
   "execution_count": 1,
   "id": "479bb09a",
   "metadata": {},
   "outputs": [
    {
     "data": {
      "text/plain": [
       "'Egypt'"
      ]
     },
     "execution_count": 1,
     "metadata": {},
     "output_type": "execute_result"
    }
   ],
   "source": [
    "my_dict = {'EG': 'Egypt', 'FR': 'France'}\n",
    "my_dict['EG']"
   ]
  },
  {
   "cell_type": "markdown",
   "id": "de63b14d",
   "metadata": {},
   "source": [
    "<h3>Problem 2</h3>\n",
    "Add a new key-value pair to the dictionary you just initialized so that the last statement evaluates to Lithuania.\n",
    "</br>Expected Output: <code>Lithuania</code>"
   ]
  },
  {
   "cell_type": "code",
   "execution_count": 2,
   "id": "02d8b2cd",
   "metadata": {},
   "outputs": [
    {
     "data": {
      "text/plain": [
       "'Lithuania'"
      ]
     },
     "execution_count": 2,
     "metadata": {},
     "output_type": "execute_result"
    }
   ],
   "source": [
    "new_key = 'LT'\n",
    "new_val = 'Lithuania'\n",
    "my_dict[new_key] = new_val\n",
    "my_dict['LT']"
   ]
  },
  {
   "cell_type": "markdown",
   "id": "76c6f4b9",
   "metadata": {},
   "source": [
    "<h3>Problem 3</h3>\n",
    "Change the key 'coding' from 2 to 10. \n",
    "</br>Expected Output: <code>10</code>"
   ]
  },
  {
   "cell_type": "code",
   "execution_count": 5,
   "id": "e57ef2f1",
   "metadata": {},
   "outputs": [
    {
     "name": "stdout",
     "output_type": "stream",
     "text": [
      "10\n"
     ]
    }
   ],
   "source": [
    "levels_of_fun = {\"dancing\": 10, \"coding\": 2, \"cooking\": 6, \"traveling\": 8}\n",
    "levels_of_fun['coding'] = 10\n",
    "print(levels_of_fun['coding'])"
   ]
  },
  {
   "cell_type": "markdown",
   "id": "c1853cb5",
   "metadata": {},
   "source": [
    "<h3>Problem 4</h3>"
   ]
  }
 ],
 "metadata": {
  "kernelspec": {
   "display_name": "Python 3 (ipykernel)",
   "language": "python",
   "name": "python3"
  },
  "language_info": {
   "codemirror_mode": {
    "name": "ipython",
    "version": 3
   },
   "file_extension": ".py",
   "mimetype": "text/x-python",
   "name": "python",
   "nbconvert_exporter": "python",
   "pygments_lexer": "ipython3",
   "version": "3.7.8"
  }
 },
 "nbformat": 4,
 "nbformat_minor": 5
}

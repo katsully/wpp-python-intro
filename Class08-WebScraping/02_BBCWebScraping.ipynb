{
 "cells": [
  {
   "cell_type": "code",
   "execution_count": 1,
   "id": "9b0a78c3",
   "metadata": {},
   "outputs": [],
   "source": [
    "import requests\n",
    "from bs4 import BeautifulSoup"
   ]
  },
  {
   "cell_type": "code",
   "execution_count": 5,
   "id": "52219fa9",
   "metadata": {},
   "outputs": [],
   "source": [
    "page = requests.get(\"https://www.bbc.co.uk/news\")\n",
    "soup = BeautifulSoup(page.content, 'html.parser')"
   ]
  },
  {
   "cell_type": "code",
   "execution_count": 6,
   "id": "b74a995e",
   "metadata": {},
   "outputs": [
    {
     "name": "stdout",
     "output_type": "stream",
     "text": [
      "Truss allies get top jobs as new cabinet announced\n",
      "Chris Mason: Truss's near total purge of Sunak backers\n",
      "Liz Truss outlines her three priorities\n",
      "New cabinet: Who is in Liz Truss's top team?\n",
      "Kwasi Kwarteng: Chancellor who likes a challenge\n",
      "In pictures: Liz Truss becomes UK's 56th PM\n",
      "Liz Truss set to cut energy bills for millions\n",
      "Coffey's abortion views concerning, charity says\n",
      "Canada community 'shattered' amid stabbings manhunt\n",
      "Olivia's killer must own up, says mum\n",
      "Sturgeon says rents will be frozen 'from today'\n",
      "Man shot dead by police after chase named\n",
      "Fresh wave of sewage blights Britain's beaches\n",
      "Fresh wave of sewage blights Britain's beaches\n",
      "Police apologise to man, 81, for arrest injuries\n",
      "Saudis warn Netflix for violating 'Islamic values'\n",
      "Teen needed surgery after Reading Festival burns\n",
      "Nuclear agency calls for Ukraine plant safety zone\n",
      "Body of missing heiress Eliza Fletcher identified\n",
      "Holiday Inn hit by cyber attack\n",
      "Truss allies get top jobs as new cabinet announced\n",
      "Truss allies get top jobs as new cabinet announced\n",
      "Liz Truss set to cut energy bills for millions\n",
      "Coffey's abortion views concerning, charity says\n",
      "Canada community 'shattered' amid stabbings manhunt\n",
      "Olivia's killer must own up, says mum\n",
      "Sturgeon says rents will be frozen 'from today'\n",
      "Man shot dead by police after chase named\n",
      "Man shot dead by police after chase named\n",
      "Fresh wave of sewage blights Britain's beaches\n",
      "Police apologise to man, 81, for arrest injuries\n",
      "Saudis warn Netflix for violating 'Islamic values'\n",
      "Teen needed surgery after Reading Festival burns\n",
      "Nuclear agency calls for Ukraine plant safety zone\n",
      "Truss allies get top jobs as new cabinet announced\n",
      "Truss allies get top jobs as new cabinet announced\n",
      "Liz Truss set to cut energy bills for millions\n",
      "Coffey's abortion views concerning, charity says\n",
      "Canada community 'shattered' amid stabbings manhunt\n",
      "Olivia's killer must own up, says mum\n",
      "Sturgeon says rents will be frozen 'from today'\n",
      "Man shot dead by police after chase named\n",
      "Man shot dead by police after chase named\n",
      "Fresh wave of sewage blights Britain's beaches\n",
      "Police apologise to man, 81, for arrest injuries\n",
      "Saudis warn Netflix for violating 'Islamic values'\n",
      "Teen needed surgery after Reading Festival burns\n",
      "Nuclear agency calls for Ukraine plant safety zone\n",
      "Truss allies get top jobs as new cabinet announced\n",
      "Truss allies get top jobs as new cabinet announced\n",
      "Liz Truss set to cut energy bills for millions\n",
      "Coffey's abortion views concerning, charity says\n",
      "Canada community 'shattered' amid stabbings manhunt\n",
      "Olivia's killer must own up, says mum\n",
      "Sturgeon says rents will be frozen 'from today'\n",
      "Man shot dead by police after chase named\n",
      "Man shot dead by police after chase named\n",
      "Fresh wave of sewage blights Britain's beaches\n",
      "Police apologise to man, 81, for arrest injuries\n",
      "Saudis warn Netflix for violating 'Islamic values'\n",
      "Teen needed surgery after Reading Festival burns\n",
      "Nuclear agency calls for Ukraine plant safety zone\n",
      "Truss allies get top jobs as new cabinet announced\n",
      "Truss allies get top jobs as new cabinet announced\n",
      "Liz Truss set to cut energy bills for millions\n",
      "Coffey's abortion views concerning, charity says\n",
      "Canada community 'shattered' amid stabbings manhunt\n",
      "Olivia's killer must own up, says mum\n",
      "Sturgeon says rents will be frozen 'from today'\n",
      "Man shot dead by police after chase named\n",
      "Man shot dead by police after chase named\n",
      "Fresh wave of sewage blights Britain's beaches\n",
      "Police apologise to man, 81, for arrest injuries\n",
      "Saudis warn Netflix for violating 'Islamic values'\n",
      "Teen needed surgery after Reading Festival burns\n",
      "Nuclear agency calls for Ukraine plant safety zone\n",
      "The Papers: 'We can ride out the storm' and 'hello Liz'\n",
      "BBC News Channel\n",
      "BBC Radio 5 Live\n",
      "New PM's team: Who's in and who's out\n",
      "A quick guide to Liz Truss\n",
      "Liz Truss’s Cabinet\n",
      "Russia bars actors Ben Stiller and Sean Penn\n",
      "Stunning shelf cloud captured before storm hit\n",
      "The prime ministers appointed by the Queen\n",
      "Liz Truss: From teenage Lib Dem to Tory PM\n",
      "How Truss won the race to become PM\n",
      "Octogenarian Alan Garner makes Booker shortlist\n",
      "Nuclear safety and N Korea weapons - Ukraine round-up\n",
      "Critics mixed on Harry Styles' latest film\n",
      "He was protecting the oceans - then he disappeared\n",
      "\n",
      "What happens for Boris Johnson now he's resigned?\n",
      "How Griff's gap year turned into a pop career\n",
      "What now for British wrestling after WWE's UK show?\n",
      "Is PrettyLittleThing's new app 'greenwashing'?\n",
      "Listen: WWE in Cardiff\n",
      "Bold Celtic outclassed by clinical Real Madrid\n",
      "Haaland scores twice as Man City thrash Sevilla\n",
      "Wales reach World Cup play-offs in Slovenia draw\n",
      "10-goal England celebrate Euros homecoming in style\n",
      "'Everything is missing' - Tuchel rues Chelsea loss\n",
      "Jabeur in semis but 'fired as Minister of Happiness'\n",
      "Watch: Is this most blatant own goal you've seen?\n",
      "News daily newsletter\n",
      "Mobile app\n",
      "Get in touch\n"
     ]
    }
   ],
   "source": [
    "# Using Inspect Element, find out which tags contain tags\n",
    "# I'm seeing h3\n",
    "\n",
    "headlines = soup.select(\"h3\")\n",
    "for headline in headlines:\n",
    "    print(headline.text)"
   ]
  },
  {
   "cell_type": "code",
   "execution_count": 7,
   "id": "3c19cc09",
   "metadata": {},
   "outputs": [],
   "source": [
    "# there's some stuff at the bottom I didn't want in this list\n",
    "# further inspection of the BBC (using Inspect Element) reveals gs-c-promo-heading starts all class names for h3 headers\n",
    "for headline in soup.select('h3[class*=\"gs-c-promo-heading-\"]'):\n",
    "    print(headline.text)"
   ]
  },
  {
   "cell_type": "code",
   "execution_count": 8,
   "id": "c292d515",
   "metadata": {},
   "outputs": [
    {
     "data": {
      "text/plain": [
       "[]"
      ]
     },
     "execution_count": 8,
     "metadata": {},
     "output_type": "execute_result"
    }
   ],
   "source": [
    "soup.select('h3[class*=\"gs-c-promo-heading-\"]')"
   ]
  },
  {
   "cell_type": "code",
   "execution_count": null,
   "id": "6068a6fb",
   "metadata": {},
   "outputs": [],
   "source": []
  }
 ],
 "metadata": {
  "kernelspec": {
   "display_name": "Python 3 (ipykernel)",
   "language": "python",
   "name": "python3"
  },
  "language_info": {
   "codemirror_mode": {
    "name": "ipython",
    "version": 3
   },
   "file_extension": ".py",
   "mimetype": "text/x-python",
   "name": "python",
   "nbconvert_exporter": "python",
   "pygments_lexer": "ipython3",
   "version": "3.7.8"
  }
 },
 "nbformat": 4,
 "nbformat_minor": 5
}

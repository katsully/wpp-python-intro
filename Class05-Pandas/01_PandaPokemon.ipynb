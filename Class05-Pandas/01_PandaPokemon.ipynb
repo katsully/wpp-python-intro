{
 "cells": [
  {
   "cell_type": "code",
   "execution_count": 1,
   "id": "4d926422",
   "metadata": {},
   "outputs": [
    {
     "name": "stdout",
     "output_type": "stream",
     "text": [
      "%pylab is deprecated, use %matplotlib inline and import the required libraries.\n",
      "Populating the interactive namespace from numpy and matplotlib\n"
     ]
    }
   ],
   "source": [
    "# You make have noticed using the vanilla CSV Reader has some limitations\n",
    "# So we're going to use a powerful Python library called Pandas\n",
    "import pandas as pd  # in the Python community, pd is the agreed shorthand for pandas\n",
    "# this will help us make graphs\n",
    "import matplotlib.pyplot as plt\n",
    "%pylab inline"
   ]
  },
  {
   "cell_type": "code",
   "execution_count": 2,
   "id": "d4f2ff41",
   "metadata": {},
   "outputs": [],
   "source": [
    "# read the csv file\n",
    "path = 'pokemon_data.csv'\n",
    "pokemon = pd.read_csv(path)    # Fun Fact: the plural form of Pokemon is Pokemon"
   ]
  },
  {
   "cell_type": "code",
   "execution_count": 3,
   "id": "96321b71",
   "metadata": {},
   "outputs": [
    {
     "data": {
      "text/html": [
       "<div>\n",
       "<style scoped>\n",
       "    .dataframe tbody tr th:only-of-type {\n",
       "        vertical-align: middle;\n",
       "    }\n",
       "\n",
       "    .dataframe tbody tr th {\n",
       "        vertical-align: top;\n",
       "    }\n",
       "\n",
       "    .dataframe thead th {\n",
       "        text-align: right;\n",
       "    }\n",
       "</style>\n",
       "<table border=\"1\" class=\"dataframe\">\n",
       "  <thead>\n",
       "    <tr style=\"text-align: right;\">\n",
       "      <th></th>\n",
       "      <th>abilities</th>\n",
       "      <th>against_bug</th>\n",
       "      <th>against_dark</th>\n",
       "      <th>against_dragon</th>\n",
       "      <th>against_electric</th>\n",
       "      <th>against_fairy</th>\n",
       "      <th>against_fight</th>\n",
       "      <th>against_fire</th>\n",
       "      <th>against_flying</th>\n",
       "      <th>against_ghost</th>\n",
       "      <th>...</th>\n",
       "      <th>percentage_male</th>\n",
       "      <th>pokedex_number</th>\n",
       "      <th>sp_attack</th>\n",
       "      <th>sp_defense</th>\n",
       "      <th>speed</th>\n",
       "      <th>type1</th>\n",
       "      <th>type2</th>\n",
       "      <th>weight_kg</th>\n",
       "      <th>generation</th>\n",
       "      <th>is_legendary</th>\n",
       "    </tr>\n",
       "  </thead>\n",
       "  <tbody>\n",
       "    <tr>\n",
       "      <th>0</th>\n",
       "      <td>['Overgrow', 'Chlorophyll']</td>\n",
       "      <td>1.0</td>\n",
       "      <td>1.0</td>\n",
       "      <td>1.0</td>\n",
       "      <td>0.5</td>\n",
       "      <td>0.5</td>\n",
       "      <td>0.5</td>\n",
       "      <td>2.0</td>\n",
       "      <td>2.0</td>\n",
       "      <td>1.0</td>\n",
       "      <td>...</td>\n",
       "      <td>88.1</td>\n",
       "      <td>1</td>\n",
       "      <td>65</td>\n",
       "      <td>65</td>\n",
       "      <td>45</td>\n",
       "      <td>grass</td>\n",
       "      <td>poison</td>\n",
       "      <td>6.9</td>\n",
       "      <td>1</td>\n",
       "      <td>0</td>\n",
       "    </tr>\n",
       "    <tr>\n",
       "      <th>1</th>\n",
       "      <td>['Overgrow', 'Chlorophyll']</td>\n",
       "      <td>1.0</td>\n",
       "      <td>1.0</td>\n",
       "      <td>1.0</td>\n",
       "      <td>0.5</td>\n",
       "      <td>0.5</td>\n",
       "      <td>0.5</td>\n",
       "      <td>2.0</td>\n",
       "      <td>2.0</td>\n",
       "      <td>1.0</td>\n",
       "      <td>...</td>\n",
       "      <td>88.1</td>\n",
       "      <td>2</td>\n",
       "      <td>80</td>\n",
       "      <td>80</td>\n",
       "      <td>60</td>\n",
       "      <td>grass</td>\n",
       "      <td>poison</td>\n",
       "      <td>13.0</td>\n",
       "      <td>1</td>\n",
       "      <td>0</td>\n",
       "    </tr>\n",
       "    <tr>\n",
       "      <th>2</th>\n",
       "      <td>['Overgrow', 'Chlorophyll']</td>\n",
       "      <td>1.0</td>\n",
       "      <td>1.0</td>\n",
       "      <td>1.0</td>\n",
       "      <td>0.5</td>\n",
       "      <td>0.5</td>\n",
       "      <td>0.5</td>\n",
       "      <td>2.0</td>\n",
       "      <td>2.0</td>\n",
       "      <td>1.0</td>\n",
       "      <td>...</td>\n",
       "      <td>88.1</td>\n",
       "      <td>3</td>\n",
       "      <td>122</td>\n",
       "      <td>120</td>\n",
       "      <td>80</td>\n",
       "      <td>grass</td>\n",
       "      <td>poison</td>\n",
       "      <td>100.0</td>\n",
       "      <td>1</td>\n",
       "      <td>0</td>\n",
       "    </tr>\n",
       "    <tr>\n",
       "      <th>3</th>\n",
       "      <td>['Blaze', 'Solar Power']</td>\n",
       "      <td>0.5</td>\n",
       "      <td>1.0</td>\n",
       "      <td>1.0</td>\n",
       "      <td>1.0</td>\n",
       "      <td>0.5</td>\n",
       "      <td>1.0</td>\n",
       "      <td>0.5</td>\n",
       "      <td>1.0</td>\n",
       "      <td>1.0</td>\n",
       "      <td>...</td>\n",
       "      <td>88.1</td>\n",
       "      <td>4</td>\n",
       "      <td>60</td>\n",
       "      <td>50</td>\n",
       "      <td>65</td>\n",
       "      <td>fire</td>\n",
       "      <td>NaN</td>\n",
       "      <td>8.5</td>\n",
       "      <td>1</td>\n",
       "      <td>0</td>\n",
       "    </tr>\n",
       "    <tr>\n",
       "      <th>4</th>\n",
       "      <td>['Blaze', 'Solar Power']</td>\n",
       "      <td>0.5</td>\n",
       "      <td>1.0</td>\n",
       "      <td>1.0</td>\n",
       "      <td>1.0</td>\n",
       "      <td>0.5</td>\n",
       "      <td>1.0</td>\n",
       "      <td>0.5</td>\n",
       "      <td>1.0</td>\n",
       "      <td>1.0</td>\n",
       "      <td>...</td>\n",
       "      <td>88.1</td>\n",
       "      <td>5</td>\n",
       "      <td>80</td>\n",
       "      <td>65</td>\n",
       "      <td>80</td>\n",
       "      <td>fire</td>\n",
       "      <td>NaN</td>\n",
       "      <td>19.0</td>\n",
       "      <td>1</td>\n",
       "      <td>0</td>\n",
       "    </tr>\n",
       "  </tbody>\n",
       "</table>\n",
       "<p>5 rows × 41 columns</p>\n",
       "</div>"
      ],
      "text/plain": [
       "                     abilities  against_bug  against_dark  against_dragon  \\\n",
       "0  ['Overgrow', 'Chlorophyll']          1.0           1.0             1.0   \n",
       "1  ['Overgrow', 'Chlorophyll']          1.0           1.0             1.0   \n",
       "2  ['Overgrow', 'Chlorophyll']          1.0           1.0             1.0   \n",
       "3     ['Blaze', 'Solar Power']          0.5           1.0             1.0   \n",
       "4     ['Blaze', 'Solar Power']          0.5           1.0             1.0   \n",
       "\n",
       "   against_electric  against_fairy  against_fight  against_fire  \\\n",
       "0               0.5            0.5            0.5           2.0   \n",
       "1               0.5            0.5            0.5           2.0   \n",
       "2               0.5            0.5            0.5           2.0   \n",
       "3               1.0            0.5            1.0           0.5   \n",
       "4               1.0            0.5            1.0           0.5   \n",
       "\n",
       "   against_flying  against_ghost  ...  percentage_male  pokedex_number  \\\n",
       "0             2.0            1.0  ...             88.1               1   \n",
       "1             2.0            1.0  ...             88.1               2   \n",
       "2             2.0            1.0  ...             88.1               3   \n",
       "3             1.0            1.0  ...             88.1               4   \n",
       "4             1.0            1.0  ...             88.1               5   \n",
       "\n",
       "   sp_attack  sp_defense  speed  type1   type2  weight_kg  generation  \\\n",
       "0         65          65     45  grass  poison        6.9           1   \n",
       "1         80          80     60  grass  poison       13.0           1   \n",
       "2        122         120     80  grass  poison      100.0           1   \n",
       "3         60          50     65   fire     NaN        8.5           1   \n",
       "4         80          65     80   fire     NaN       19.0           1   \n",
       "\n",
       "   is_legendary  \n",
       "0             0  \n",
       "1             0  \n",
       "2             0  \n",
       "3             0  \n",
       "4             0  \n",
       "\n",
       "[5 rows x 41 columns]"
      ]
     },
     "execution_count": 3,
     "metadata": {},
     "output_type": "execute_result"
    }
   ],
   "source": [
    "# let's look at the first five rows\n",
    "pokemon.head()"
   ]
  },
  {
   "cell_type": "code",
   "execution_count": null,
   "id": "aa6c317a",
   "metadata": {},
   "outputs": [],
   "source": [
    "# we can also use indexing, just like we've been using with strings and lists\n",
    "# so if we wanted to see rows 12-18 we can do\n",
    "pokemon[12:19]   # remember the ending index is exclusive, so if you want row 18, the ending index is 19"
   ]
  },
  {
   "cell_type": "code",
   "execution_count": 6,
   "id": "63c1481a",
   "metadata": {},
   "outputs": [
    {
     "data": {
      "text/plain": [
       "0        Grass\n",
       "1        Grass\n",
       "2        Grass\n",
       "3         Fire\n",
       "4         Fire\n",
       "        ...   \n",
       "796      Steel\n",
       "797      Grass\n",
       "798       Dark\n",
       "799    Psychic\n",
       "800      Steel\n",
       "Name: type1, Length: 801, dtype: object"
      ]
     },
     "execution_count": 6,
     "metadata": {},
     "output_type": "execute_result"
    }
   ],
   "source": [
    "pokemon.type1.str.capitalize()"
   ]
  },
  {
   "cell_type": "code",
   "execution_count": null,
   "id": "07fc722f",
   "metadata": {},
   "outputs": [],
   "source": [
    "# we can also look at just the headers\n",
    "pokemon.columns"
   ]
  },
  {
   "cell_type": "code",
   "execution_count": null,
   "id": "3595c101",
   "metadata": {},
   "outputs": [],
   "source": [
    "# Let's look at all of them\n",
    "display(pokemon)"
   ]
  },
  {
   "cell_type": "markdown",
   "id": "3ab4f720",
   "metadata": {},
   "source": [
    "<h4>Quick Pandas terminology overview</h4>\n",
    "<b>DataFrame</b> or df is a 2D structure (ie rows and columns), in this code, pokemon is a DataFrame\n",
    "<br/><b>Series</b> is a single column in a DataFrame\n"
   ]
  },
  {
   "cell_type": "code",
   "execution_count": null,
   "id": "118cca6d",
   "metadata": {},
   "outputs": [],
   "source": [
    "# Last class we needed the index to get a certain column, now we can call a column by name\n",
    "pokemon['name']"
   ]
  },
  {
   "cell_type": "code",
   "execution_count": null,
   "id": "0a5c5033",
   "metadata": {},
   "outputs": [],
   "source": [
    "# note we can use bracket notation (see above) OR if the column name has no spaces, we can use dot notation\n",
    "# when making building datasets, you'll see the benefits of not having spaces in the column name!\n",
    "pokemon.name"
   ]
  },
  {
   "cell_type": "code",
   "execution_count": null,
   "id": "8436feda",
   "metadata": {},
   "outputs": [],
   "source": [
    "# I can use the loc property to locate a row by a certain value\n",
    "# for example, I could find the row for the pokemon 'Pikachu'\n",
    "pokemon.loc[pokemon.name == 'Pikachu']"
   ]
  },
  {
   "cell_type": "code",
   "execution_count": null,
   "id": "edef0768",
   "metadata": {},
   "outputs": [],
   "source": [
    "# I could also use the loc property to just see the japense name of the pokemon 'Pikachu'\n",
    "# so the first parameter is my search query, the second parameter is the column value I want to return\n",
    "pokemon.loc[pokemon.name == 'Pikachu', 'japanese_name']"
   ]
  },
  {
   "cell_type": "code",
   "execution_count": null,
   "id": "1703c46b",
   "metadata": {},
   "outputs": [],
   "source": [
    "# Analyze data with Pandas\n",
    "# For example, I can see the highest and lowest values for HP\n",
    "print(pokemon.hp.max())\n",
    "print(pokemon.hp.min())"
   ]
  },
  {
   "cell_type": "code",
   "execution_count": null,
   "id": "c5289831",
   "metadata": {},
   "outputs": [],
   "source": [
    "# let's find out who these pokemon are!\n",
    "# we're going to use the loc property to locate any pokemon where HP equals 255 or 1!\n",
    "strong_pokemon = pokemon.loc[pokemon.hp == 255, 'name'].item()\n",
    "weak_pokemon = pokemon.loc[pokemon.hp == 1, 'name'].item()\n",
    "print(strong_pokemon)\n",
    "print(weak_pokemon)"
   ]
  },
  {
   "cell_type": "markdown",
   "id": "987b5ae4",
   "metadata": {},
   "source": [
    "<h4>Let's break down the above example</h4>\n",
    "<code>our_variable = our_data_frame.loc[our_data_frame.column_name == matching_value, 'other_column_name'].item()</code>\n",
    "\n",
    "So the **loc** property is finding the pokemon where the hp is equal to 255 (or 1). <br/>\n",
    "We are also telling the **loc** property that we want just the name of this matching pokemon, like we did above\n",
    "<br/><code>pokemon.loc[pokemon.hp == 255, 'name']</code> returns an object with some metadata that we don't care about (for now), such as dtype, so we use **item()** to just give us the value"
   ]
  },
  {
   "cell_type": "code",
   "execution_count": null,
   "id": "a2ea6ec9",
   "metadata": {},
   "outputs": [],
   "source": [
    "# let's make a DataFrame of the strongest pokemon\n",
    "# note the double brackets: the interior brackets are for list, and the outside brackets are indexing operator, \n",
    "# i.e. you must use double brackets if you select two or more columns.\n",
    "# double brackets also indicates that a DataFrame is being returned\n",
    "\n",
    "strongest_pokemon = pokemon[[p for p in pokemon.hp>125]]\n",
    "strongest_pokemon\n"
   ]
  },
  {
   "cell_type": "code",
   "execution_count": null,
   "id": "36e3d2d7",
   "metadata": {},
   "outputs": [],
   "source": [
    "# I can look at their names\n",
    "strongest_pokemon.name"
   ]
  },
  {
   "cell_type": "code",
   "execution_count": null,
   "id": "06efa976",
   "metadata": {},
   "outputs": [],
   "source": [
    "# let's see how many unique types there are among these pokemon\n",
    "print(strongest_pokemon.type1.unique())"
   ]
  },
  {
   "cell_type": "code",
   "execution_count": null,
   "id": "3ea95380",
   "metadata": {},
   "outputs": [],
   "source": [
    "plt.hist(pokemon.hp, bins=25)\n",
    "plt.xlabel('HP')\n",
    "plt.ylabel('Number of Pokemon')\n",
    "plt.title('Distribution of HP amongst Pokemon')\n",
    "plt.axvline(pokemon.hp.mean(), color='yellow', linestyle='dashed', linewidth=2)    # draw where the average is in yellow\n",
    "axvline(pokemon.hp.median(), color='red', linestyle='dashed', linewidth=2)  # draw where the median is in red"
   ]
  },
  {
   "cell_type": "code",
   "execution_count": null,
   "id": "606a3426",
   "metadata": {},
   "outputs": [],
   "source": [
    "# let's group our pokemon by type and see the differenes in HP\n",
    "# so we are going to split our pokemon DataFrame by 'type1' using the groupby() function \n",
    "# then we'll calculate the median HP for each type\n",
    "type_groupings = pokemon.groupby('type1')\n",
    "type_groupings.hp.median()"
   ]
  },
  {
   "cell_type": "code",
   "execution_count": null,
   "id": "20508825",
   "metadata": {},
   "outputs": [],
   "source": [
    "# we can also see a deeper analysis of these numbers by using describe()\n",
    "type_groupings.hp.describe()"
   ]
  },
  {
   "cell_type": "code",
   "execution_count": null,
   "id": "72f28407",
   "metadata": {},
   "outputs": [],
   "source": [
    "# let's graph water vs fire\n",
    "\n",
    "# make a dataframe of just water pokemon\n",
    "water_df = type_groupings.get_group('water')\n",
    "# make a dataframe of just fire pokemon\n",
    "fire_df = type_groupings.get_group('fire')\n",
    "plt.hist(water_df.hp, bins=20, label='water')\n",
    "plt.hist(fire_df.hp, bins=20, label='fire')\n",
    "plt.legend()\n",
    "plt.title(\"Distribution of HP by type\")\n",
    "plt.xlabel(\"HP\")\n",
    "plt.ylabel(\"Number of Pokemon\")"
   ]
  },
  {
   "cell_type": "code",
   "execution_count": null,
   "id": "123ece92",
   "metadata": {},
   "outputs": [],
   "source": []
  }
 ],
 "metadata": {
  "kernelspec": {
   "display_name": "Python 3 (ipykernel)",
   "language": "python",
   "name": "python3"
  },
  "language_info": {
   "codemirror_mode": {
    "name": "ipython",
    "version": 3
   },
   "file_extension": ".py",
   "mimetype": "text/x-python",
   "name": "python",
   "nbconvert_exporter": "python",
   "pygments_lexer": "ipython3",
   "version": "3.11.0"
  }
 },
 "nbformat": 4,
 "nbformat_minor": 5
}

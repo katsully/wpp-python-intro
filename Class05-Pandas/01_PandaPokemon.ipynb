{
 "cells": [
  {
   "cell_type": "code",
   "execution_count": null,
   "id": "4d926422",
   "metadata": {},
   "outputs": [],
   "source": [
    "# You make have noticed using the vanilla CSV Reader has some limitations\n",
    "# So we're going to use a powerful Python library called Pandas\n",
    "import pandas as pd  # in the Python community, pd is the agreed shorthand for pandas\n",
    "# this will help us make graphs\n",
    "import matplotlib\n",
    "%pylab inline"
   ]
  },
  {
   "cell_type": "code",
   "execution_count": null,
   "id": "d4f2ff41",
   "metadata": {},
   "outputs": [],
   "source": [
    "# read the csv file\n",
    "path = 'pokemon_data.csv'\n",
    "pokemon = pd.read_csv(path)    # Fun Fact: the plural form of Pokemon is Pokemon"
   ]
  },
  {
   "cell_type": "code",
   "execution_count": null,
   "id": "96321b71",
   "metadata": {},
   "outputs": [],
   "source": [
    "# let's look at the first five rows\n",
    "pokemon.head()"
   ]
  },
  {
   "cell_type": "code",
   "execution_count": null,
   "id": "aa6c317a",
   "metadata": {},
   "outputs": [],
   "source": [
    "# we can also use indexing, just like we've been using with strings and lists\n",
    "# so if we wanted to see rows 12-18 we can do\n",
    "pokemon[12:19]   # remember the ending index is exclusive, so if you want row 18, the ending index is 19"
   ]
  },
  {
   "cell_type": "code",
   "execution_count": null,
   "id": "07fc722f",
   "metadata": {},
   "outputs": [],
   "source": [
    "# we can also look at just the headers\n",
    "pokemon.columns"
   ]
  },
  {
   "cell_type": "code",
   "execution_count": null,
   "id": "3595c101",
   "metadata": {},
   "outputs": [],
   "source": [
    "# Let's look at all of them\n",
    "display(pokemon)"
   ]
  },
  {
   "cell_type": "markdown",
   "id": "3ab4f720",
   "metadata": {},
   "source": [
    "<h4>Quick Pandas terminology overview</h4>\n",
    "<b>DataFrame</b> or df is a 2D structure (ie rows and columns), in this code, pokemon is a DataFrame\n",
    "<br/><b>Series</b> is a single column in a DataFrame\n"
   ]
  },
  {
   "cell_type": "code",
   "execution_count": null,
   "id": "118cca6d",
   "metadata": {},
   "outputs": [],
   "source": [
    "# Last class we needed the index to get a certain column, now we can call a column by name\n",
    "pokemon['name']"
   ]
  },
  {
   "cell_type": "code",
   "execution_count": null,
   "id": "0a5c5033",
   "metadata": {},
   "outputs": [],
   "source": [
    "# note we can use bracket notation (see above) OR if the column name has no spaces, we can use dot notation\n",
    "# when making building datasets, you'll see the benefits of not having spaces in the column name!\n",
    "pokemon.name"
   ]
  },
  {
   "cell_type": "code",
   "execution_count": null,
   "id": "8436feda",
   "metadata": {},
   "outputs": [],
   "source": [
    "# I can use the loc property to locate a row by a certain value\n",
    "# for example, I could find the row for the pokemon 'Pikachu'\n",
    "pokemon.loc[pokemon.name == 'Pikachu']"
   ]
  },
  {
   "cell_type": "code",
   "execution_count": null,
   "id": "edef0768",
   "metadata": {},
   "outputs": [],
   "source": [
    "# I could also use the loc property to just see the japense name of the pokemon 'Pikachu'\n",
    "# so the first parameter is my search query, the second parameter is the column value I want to return\n",
    "pokemon.loc[pokemon.name == 'Pikachu', 'japanese_name']"
   ]
  },
  {
   "cell_type": "code",
   "execution_count": null,
   "id": "1703c46b",
   "metadata": {},
   "outputs": [],
   "source": [
    "# Analyze data with Pandas\n",
    "# For example, I can see the highest and lowest values for HP\n",
    "print(pokemon.hp.max())\n",
    "print(pokemon.hp.min())"
   ]
  },
  {
   "cell_type": "code",
   "execution_count": null,
   "id": "c5289831",
   "metadata": {},
   "outputs": [],
   "source": [
    "# let's find out who these pokemon are!\n",
    "# we're going to use the loc property to locate any pokemon where HP equals 255 or 1!\n",
    "strong_pokemon = pokemon.loc[pokemon.hp == 255, 'name'].item()\n",
    "weak_pokemon = pokemon.loc[pokemon.hp == 1, 'name'].item()\n",
    "print(strong_pokemon)\n",
    "print(weak_pokemon)"
   ]
  },
  {
   "cell_type": "markdown",
   "id": "987b5ae4",
   "metadata": {},
   "source": [
    "<h4>Let's break down the above example</h4>\n",
    "<code>our_variable = our_data_frame.loc[our_data_frame.column_name == matching_value, 'other_column_name'].item()</code>\n",
    "\n",
    "So the **loc** property is finding the pokemon where the hp is equal to 255 (or 1). <br/>\n",
    "We are also telling the **loc** property that we want just the name of this matching pokemon, like we did above\n",
    "<br/><code>pokemon.loc[pokemon.hp == 255, 'name']</code> returns an object with some metadata that we don't care about (for now), such as dtype, so we use **item()** to just give us the value"
   ]
  },
  {
   "cell_type": "code",
   "execution_count": null,
   "id": "a2ea6ec9",
   "metadata": {},
   "outputs": [],
   "source": [
    "# let's make a DataFrame of the strongest pokemon\n",
    "# note the double brackets: the interior brackets are for list, and the outside brackets are indexing operator, \n",
    "# i.e. you must use double brackets if you select two or more columns.\n",
    "# double brackets also indicates that a DataFrame is being returned\n",
    "\n",
    "strongest_pokemon = pokemon[[p for p in pokemon.hp>125]]\n",
    "strongest_pokemon\n"
   ]
  },
  {
   "cell_type": "code",
   "execution_count": null,
   "id": "36e3d2d7",
   "metadata": {},
   "outputs": [],
   "source": [
    "# I can look at their names\n",
    "strongest_pokemon.name"
   ]
  },
  {
   "cell_type": "code",
   "execution_count": null,
   "id": "06efa976",
   "metadata": {},
   "outputs": [],
   "source": [
    "# let's see how many unique types there are among these pokemon\n",
    "print(strongest_pokemon.type1.unique())"
   ]
  },
  {
   "cell_type": "code",
   "execution_count": null,
   "id": "03c16591",
   "metadata": {},
   "outputs": [],
   "source": [
    "# let's see the distribution of HP among all of our pokemon\n",
    "pokemon.hp.hist(bins=25, figsize=(10,6))\n",
    "xlabel('HP')\n",
    "ylabel('Number of Pokemon')\n",
    "title('Distribution of HP amongst Pokemon')\n",
    "axvline(pokemon.hp.mean(), color='yellow', linestyle='dashed', linewidth=2)    # draw where the average is in yellow\n",
    "axvline(pokemon.hp.median(), color='red', linestyle='dashed', linewidth=2)  # draw where the median is in red"
   ]
  },
  {
   "cell_type": "code",
   "execution_count": null,
   "id": "606a3426",
   "metadata": {},
   "outputs": [],
   "source": [
    "# let's group our pokemon by type and see the differenes in HP\n",
    "# so we are going to split our pokemon DataFrame by 'type1' using the groupby() function \n",
    "# then we'll calculate the median HP for each type\n",
    "type_groupings = pokemon.groupby('type1')\n",
    "type_groupings.hp.median()"
   ]
  },
  {
   "cell_type": "code",
   "execution_count": null,
   "id": "20508825",
   "metadata": {},
   "outputs": [],
   "source": [
    "# we can also see a deeper analysis of these numbers by using describe()\n",
    "type_groupings.hp.describe()"
   ]
  },
  {
   "cell_type": "code",
   "execution_count": null,
   "id": "72f28407",
   "metadata": {},
   "outputs": [],
   "source": [
    "# let's graph water vs fire\n",
    "type_groupings.get_group('water').hp.hist(bins=20, figsize=(12,6), label='water')\n",
    "type_groupings.get_group('fire').hp.hist(bins=20, label='fire')\n",
    "legend()\n",
    "title(\"Distribution of HP by type\")\n",
    "xlabel(\"HP\")\n",
    "ylabel(\"Number of Pokemon\")"
   ]
  }
 ],
 "metadata": {
  "kernelspec": {
   "display_name": "Python 3 (ipykernel)",
   "language": "python",
   "name": "python3"
  },
  "language_info": {
   "codemirror_mode": {
    "name": "ipython",
    "version": 3
   },
   "file_extension": ".py",
   "mimetype": "text/x-python",
   "name": "python",
   "nbconvert_exporter": "python",
   "pygments_lexer": "ipython3",
   "version": "3.7.8"
  }
 },
 "nbformat": 4,
 "nbformat_minor": 5
}

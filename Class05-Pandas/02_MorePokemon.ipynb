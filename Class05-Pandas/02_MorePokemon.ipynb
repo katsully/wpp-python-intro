{
 "cells": [
  {
   "cell_type": "code",
   "execution_count": null,
   "id": "a04915bc",
   "metadata": {},
   "outputs": [],
   "source": [
    "# import pandas and rename as pd\n",
    "import pandas as pd"
   ]
  },
  {
   "cell_type": "code",
   "execution_count": null,
   "id": "45640f2b",
   "metadata": {},
   "outputs": [],
   "source": [
    "import matplotlib.pyplot as plt\n",
    "# allows us to show graphs inside the notebook\n",
    "# %pylib is deprecated, use %matplotlib instead!\n",
    "%matplotlib inline"
   ]
  },
  {
   "cell_type": "code",
   "execution_count": null,
   "id": "6365a3cd",
   "metadata": {},
   "outputs": [],
   "source": [
    "# pokemon_data.csv needs to be in the same folder as this code for this line\n",
    "# to work\n",
    "path = 'pokemon_data.csv'\n",
    "pokemon = pd.read_csv(path)"
   ]
  },
  {
   "cell_type": "code",
   "execution_count": null,
   "id": "dac4b966",
   "metadata": {},
   "outputs": [],
   "source": [
    "# let's look at first five rows\n",
    "pokemon.head()"
   ]
  },
  {
   "cell_type": "code",
   "execution_count": null,
   "id": "d57ab133",
   "metadata": {},
   "outputs": [],
   "source": [
    "# I can use indexing with this DataFrame\n",
    "pokemon[456:461]"
   ]
  },
  {
   "cell_type": "code",
   "execution_count": null,
   "id": "4cc56f17",
   "metadata": {},
   "outputs": [],
   "source": [
    "# show all of the columns\n",
    "pokemon.columns"
   ]
  },
  {
   "cell_type": "code",
   "execution_count": null,
   "id": "b287caf5",
   "metadata": {},
   "outputs": [],
   "source": [
    "# look at the dataset\n",
    "display(pokemon)"
   ]
  },
  {
   "cell_type": "code",
   "execution_count": null,
   "id": "0a705477",
   "metadata": {},
   "outputs": [],
   "source": [
    "# i can use square brackets to get one column of values from a DataSet\n",
    "# in Pandas, we call one column of values a Series\n",
    "pokemon['name']"
   ]
  },
  {
   "cell_type": "code",
   "execution_count": null,
   "id": "0e67ea86",
   "metadata": {},
   "outputs": [],
   "source": [
    "# with Pandas, we can also use dot notation\n",
    "pokemon.name"
   ]
  },
  {
   "cell_type": "code",
   "execution_count": null,
   "id": "a298fc2d",
   "metadata": {},
   "outputs": [],
   "source": [
    "# locate the pokemon with the name Pikachu\n",
    "pokemon.loc[pokemon.name == 'Pikachu']"
   ]
  },
  {
   "cell_type": "code",
   "execution_count": null,
   "id": "a28abb61",
   "metadata": {},
   "outputs": [],
   "source": [
    "# locate the pokemon with the name Pikachu and also tell us their Japanese Name\n",
    "pokemon.loc[pokemon.name == 'Pikachu', 'japanese_name']"
   ]
  },
  {
   "cell_type": "code",
   "execution_count": null,
   "id": "902afd6b",
   "metadata": {},
   "outputs": [],
   "source": [
    "# print my strongest pokemon\n",
    "# pandas: a column is referred as a Series\n",
    "print(pokemon.hp.max())\n",
    "# print my weakness pokemon\n",
    "print(pokemon.hp.min())\n",
    "\n",
    "# print the pokemon that comes last alphabetically\n",
    "print(pokemon.name.max())\n",
    "# print the pokemon that comes first alphabetically\n",
    "print(pokemon.name.min())"
   ]
  },
  {
   "cell_type": "code",
   "execution_count": null,
   "id": "62f5cd7d",
   "metadata": {},
   "outputs": [],
   "source": [
    "# two parameters in the [] square brackets\n",
    "# first parameter: search query\n",
    "# second parameter: property or column name that we want\n",
    "strong_pokemon = pokemon.loc[pokemon.hp == 255, 'name']\n",
    "print(strong_pokemon)\n",
    "weak_pokemon = pokemon.loc[pokemon.hp == 1, 'name']\n",
    "print(weak_pokemon)"
   ]
  },
  {
   "cell_type": "code",
   "execution_count": null,
   "id": "17303957",
   "metadata": {},
   "outputs": [],
   "source": [
    "# show the column/series from 'type1'\n",
    "pokemon.type1"
   ]
  },
  {
   "cell_type": "code",
   "execution_count": null,
   "id": "5437201c",
   "metadata": {},
   "outputs": [],
   "source": [
    "# show all the unique pokemon types\n",
    "print(pokemon.type1.unique())"
   ]
  },
  {
   "cell_type": "code",
   "execution_count": null,
   "id": "02408001",
   "metadata": {},
   "outputs": [],
   "source": [
    "# look at distribution of HP of pokemon\n",
    "# bins = look at the distribution value ( 1 - 255, and break into pieces)\n",
    "# fig size = figure size, ie the size of the chart\n",
    "plt.hist(pokemon.hp, bins=25)\n",
    "plt.xlabel('HP')\n",
    "plt.ylabel('Number of Pokemon')\n",
    "plt.title('Distribution of HP amongst Pokemon')"
   ]
  },
  {
   "cell_type": "code",
   "execution_count": null,
   "id": "f34f054e",
   "metadata": {},
   "outputs": [],
   "source": [
    "# make groups based on the different values of type1\n",
    "type_groupings = pokemon.groupby('type1')\n",
    "# find the median hp among the different groups\n",
    "type_groupings.hp.median()"
   ]
  },
  {
   "cell_type": "code",
   "execution_count": null,
   "id": "28105373",
   "metadata": {},
   "outputs": [],
   "source": [
    "# type_groupings is clusters of pokemon based on ONE column (type)"
   ]
  },
  {
   "cell_type": "code",
   "execution_count": null,
   "id": "90a1f4d2",
   "metadata": {},
   "outputs": [],
   "source": [
    "# describe is a cool pandas function that gives us more info\n",
    "type_groupings.hp.describe()"
   ]
  },
  {
   "cell_type": "code",
   "execution_count": null,
   "id": "deef12ca",
   "metadata": {},
   "outputs": [],
   "source": [
    "# lets graph water vs fire\n",
    "\n",
    "# dataframe of water pokemon\n",
    "df_water = type_groupings.get_group('water')\n",
    "df_fire = type_groupings.get_group('fire')\n",
    "\n",
    "plt.hist(df_water.hp, bins=20, label='water')\n",
    "plt.hist(df_fire.hp, bins=20, label='fire')\n",
    "\n",
    "plt.legend()\n",
    "plt.title(\"Distribution of HP by type\")\n",
    "plt.xlabel(\"HP\")\n",
    "plt.ylabel(\"Number of Pokemon\")"
   ]
  },
  {
   "cell_type": "code",
   "execution_count": null,
   "id": "a1bde944",
   "metadata": {},
   "outputs": [],
   "source": []
  }
 ],
 "metadata": {
  "kernelspec": {
   "display_name": "Python 3 (ipykernel)",
   "language": "python",
   "name": "python3"
  },
  "language_info": {
   "codemirror_mode": {
    "name": "ipython",
    "version": 3
   },
   "file_extension": ".py",
   "mimetype": "text/x-python",
   "name": "python",
   "nbconvert_exporter": "python",
   "pygments_lexer": "ipython3",
   "version": "3.11.0"
  }
 },
 "nbformat": 4,
 "nbformat_minor": 5
}

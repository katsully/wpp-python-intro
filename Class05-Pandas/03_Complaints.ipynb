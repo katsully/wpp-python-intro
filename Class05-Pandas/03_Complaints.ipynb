{
 "cells": [
  {
   "cell_type": "code",
   "execution_count": null,
   "id": "b0908972",
   "metadata": {},
   "outputs": [],
   "source": [
    "# import our libraries\n",
    "import pandas as pd\n",
    "%pylab inline"
   ]
  },
  {
   "cell_type": "code",
   "execution_count": null,
   "id": "478880c9",
   "metadata": {},
   "outputs": [],
   "source": [
    "# tell python where the file is\n",
    "# you can download this dataset here: https://data.cityofnewyork.us/Housing-Development/DOB-Complaints-Received/eabe-havv\n",
    "path = 'DOB_Complaints_Received.csv'\n",
    "# read the csv file and convert to a pandas DataFrame, store the DataFrame in \n",
    "# variable complaints\n",
    "complaints = pd.read_csv(path)"
   ]
  },
  {
   "cell_type": "code",
   "execution_count": null,
   "id": "bae8df94",
   "metadata": {},
   "outputs": [],
   "source": [
    "complaints"
   ]
  },
  {
   "cell_type": "code",
   "execution_count": null,
   "id": "45bf69b8",
   "metadata": {},
   "outputs": [],
   "source": [
    "# we can use indexing with DataFrames\n",
    "complaints[0:10]"
   ]
  },
  {
   "cell_type": "code",
   "execution_count": null,
   "id": "18fb45c1",
   "metadata": {},
   "outputs": [],
   "source": [
    "# print out one column from our DataFrame - this is called a Series\n",
    "# pandas allows us to use dot notation\n",
    "complaints.Status"
   ]
  },
  {
   "cell_type": "code",
   "execution_count": null,
   "id": "ce9aeb18",
   "metadata": {},
   "outputs": [],
   "source": [
    "# dot notation does not work for column names with spaces\n",
    "# if spaces in column name, need to use [] square brackets and quotes\n",
    "complaints['House Number']"
   ]
  },
  {
   "cell_type": "code",
   "execution_count": null,
   "id": "74d11118",
   "metadata": {},
   "outputs": [],
   "source": [
    "# print out all the unique values from this Series (ie column)\n",
    "complaints.Status.unique()"
   ]
  },
  {
   "cell_type": "code",
   "execution_count": null,
   "id": "c4cebc83",
   "metadata": {},
   "outputs": [],
   "source": [
    "# making a sub dataset of all active complaints\n",
    "# my sub dataset is still a pandas DataFrame because it will \n",
    "# still have rows and columns\n",
    "\n",
    "# complaints is a DataFrame (two dimensions) so we need two sets of brackets\n",
    "# to do list comprehension\n",
    "active_complaints = complaints[[x for x in complaints.Status == 'ACTIVE']]"
   ]
  },
  {
   "cell_type": "code",
   "execution_count": null,
   "id": "47d7bac0",
   "metadata": {},
   "outputs": [],
   "source": [
    "active_complaints"
   ]
  },
  {
   "cell_type": "code",
   "execution_count": null,
   "id": "150ff0ee",
   "metadata": {},
   "outputs": [],
   "source": [
    "# active_complaints is my DataFrame of active complaints\n",
    "# find more Complaint Categories here: https://www1.nyc.gov/assets/buildings/pdf/complaint_category.pdf\n",
    "active_elevator_accidents = active_complaints[[ x for x in active_complaints['Complaint Category'] == '81']]"
   ]
  },
  {
   "cell_type": "code",
   "execution_count": null,
   "id": "f0a104a8",
   "metadata": {},
   "outputs": [],
   "source": [
    "# preview our elevator dataset\n",
    "active_elevator_accidents"
   ]
  },
  {
   "cell_type": "code",
   "execution_count": null,
   "id": "88e93725",
   "metadata": {},
   "outputs": [],
   "source": [
    "# making a list of streets i don't want to visit\n",
    "# tolist() makes a Series (ie a column) a python list\n",
    "addresses = active_elevator_accidents['House Street'].tolist()"
   ]
  },
  {
   "cell_type": "code",
   "execution_count": null,
   "id": "a4fff209",
   "metadata": {},
   "outputs": [],
   "source": [
    "addresses"
   ]
  },
  {
   "cell_type": "code",
   "execution_count": null,
   "id": "982c8bd4",
   "metadata": {},
   "outputs": [],
   "source": [
    "# all elevator accidents regardless of status (ie ACTIVE or CLOSED)\n",
    "# I looked up DOB Complaint Categories and discovered category 81 was \n",
    "# elevator accidents\n",
    "elevator_accidents = complaints[[ x for x in complaints['Complaint Category'] == '81']]"
   ]
  },
  {
   "cell_type": "code",
   "execution_count": null,
   "id": "cf7da5eb",
   "metadata": {},
   "outputs": [],
   "source": [
    "elevator_accidents"
   ]
  },
  {
   "cell_type": "code",
   "execution_count": null,
   "id": "f8a782de",
   "metadata": {},
   "outputs": [],
   "source": [
    "# re-doing addresses with our newest DataFrame\n",
    "all_addresses = elevator_accidents['House Street'].tolist()"
   ]
  },
  {
   "cell_type": "code",
   "execution_count": null,
   "id": "e1c556bc",
   "metadata": {},
   "outputs": [],
   "source": [
    "all_addresses"
   ]
  },
  {
   "cell_type": "code",
   "execution_count": null,
   "id": "85a225d8",
   "metadata": {},
   "outputs": [],
   "source": [
    "# strip() gets rid of excess of whitespace\n",
    "new_addresses = [address.strip() for address in all_addresses]"
   ]
  },
  {
   "cell_type": "code",
   "execution_count": null,
   "id": "b32d2fe6",
   "metadata": {},
   "outputs": [],
   "source": [
    "new_addresses"
   ]
  },
  {
   "cell_type": "code",
   "execution_count": null,
   "id": "60851dbc",
   "metadata": {},
   "outputs": [],
   "source": [
    "# do the same for house numbers\n",
    "house_numbers = elevator_accidents['House Number'].tolist()\n",
    "new_house_numbers = [num.strip() for num in house_numbers]"
   ]
  },
  {
   "cell_type": "code",
   "execution_count": null,
   "id": "bd0e321d",
   "metadata": {},
   "outputs": [],
   "source": [
    "new_house_numbers"
   ]
  },
  {
   "cell_type": "code",
   "execution_count": null,
   "id": "4820550e",
   "metadata": {},
   "outputs": [],
   "source": [
    "# a list of places not to visit\n",
    "\n",
    "# zip combines our lists\n",
    "# zip(new_house_numbers, new_addresses)\n",
    "\n",
    "bad_places = [x + \" \" + y for x,y in zip(new_house_numbers, new_addresses)]\n",
    "print(bad_places)"
   ]
  },
  {
   "cell_type": "code",
   "execution_count": null,
   "id": "e219a77b",
   "metadata": {},
   "outputs": [],
   "source": [
    "from collections import Counter\n",
    "# get the five places that have the most elevator accidents \n",
    "worst_places = Counter(bad_places).most_common(5)\n",
    "print(worst_places)"
   ]
  }
 ],
 "metadata": {
  "kernelspec": {
   "display_name": "Python 3 (ipykernel)",
   "language": "python",
   "name": "python3"
  },
  "language_info": {
   "codemirror_mode": {
    "name": "ipython",
    "version": 3
   },
   "file_extension": ".py",
   "mimetype": "text/x-python",
   "name": "python",
   "nbconvert_exporter": "python",
   "pygments_lexer": "ipython3",
   "version": "3.11.0"
  }
 },
 "nbformat": 4,
 "nbformat_minor": 5
}

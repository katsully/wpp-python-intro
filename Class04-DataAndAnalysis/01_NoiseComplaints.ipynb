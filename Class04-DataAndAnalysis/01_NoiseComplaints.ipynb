{
 "cells": [
  {
   "cell_type": "code",
   "execution_count": 1,
   "id": "4fcd8d4c",
   "metadata": {},
   "outputs": [
    {
     "name": "stdout",
     "output_type": "stream",
     "text": [
      "Populating the interactive namespace from numpy and matplotlib\n"
     ]
    }
   ],
   "source": [
    "%pylab inline\n",
    "# this installs the pandas library and creates a shorthand for it\n",
    "import pandas as pd"
   ]
  },
  {
   "cell_type": "code",
   "execution_count": 4,
   "id": "545169bd",
   "metadata": {},
   "outputs": [],
   "source": [
    "# read all the complaints from the CSV file and store it in the complaints variable\n",
    "path = 'noise_calls.csv'\n",
    "# complaints is a DataFrame\n",
    "complaints = pd.read_csv(path)"
   ]
  },
  {
   "cell_type": "code",
   "execution_count": 7,
   "id": "43f55e19",
   "metadata": {},
   "outputs": [
    {
     "data": {
      "text/html": [
       "<div>\n",
       "<style scoped>\n",
       "    .dataframe tbody tr th:only-of-type {\n",
       "        vertical-align: middle;\n",
       "    }\n",
       "\n",
       "    .dataframe tbody tr th {\n",
       "        vertical-align: top;\n",
       "    }\n",
       "\n",
       "    .dataframe thead th {\n",
       "        text-align: right;\n",
       "    }\n",
       "</style>\n",
       "<table border=\"1\" class=\"dataframe\">\n",
       "  <thead>\n",
       "    <tr style=\"text-align: right;\">\n",
       "      <th></th>\n",
       "      <th>Created</th>\n",
       "      <th>Caller</th>\n",
       "      <th>Noise Postcode</th>\n",
       "      <th>Type of Noise Causing a Nuisance</th>\n",
       "      <th>Sr_Num</th>\n",
       "      <th>Enq Type</th>\n",
       "    </tr>\n",
       "  </thead>\n",
       "  <tbody>\n",
       "    <tr>\n",
       "      <th>0</th>\n",
       "      <td>01/01/2021</td>\n",
       "      <td>LS6</td>\n",
       "      <td>LS6 1</td>\n",
       "      <td>MUSIC</td>\n",
       "      <td>Out ofHours</td>\n",
       "      <td>Out ofHours</td>\n",
       "    </tr>\n",
       "    <tr>\n",
       "      <th>1</th>\n",
       "      <td>02/01/2021</td>\n",
       "      <td>LS12</td>\n",
       "      <td>LS12 2</td>\n",
       "      <td>DOG BARKING</td>\n",
       "      <td>Out ofHours</td>\n",
       "      <td>Out ofHours</td>\n",
       "    </tr>\n",
       "    <tr>\n",
       "      <th>2</th>\n",
       "      <td>02/01/2021</td>\n",
       "      <td>LS9</td>\n",
       "      <td>LS9 7</td>\n",
       "      <td>MUSIC</td>\n",
       "      <td>Out ofHours</td>\n",
       "      <td>Out ofHours</td>\n",
       "    </tr>\n",
       "    <tr>\n",
       "      <th>3</th>\n",
       "      <td>02/01/2021</td>\n",
       "      <td>LS9</td>\n",
       "      <td>LS9 6</td>\n",
       "      <td>SHOUTING</td>\n",
       "      <td>Out ofHours</td>\n",
       "      <td>Out ofHours</td>\n",
       "    </tr>\n",
       "    <tr>\n",
       "      <th>4</th>\n",
       "      <td>02/01/2021</td>\n",
       "      <td>LS28</td>\n",
       "      <td>LS28 5</td>\n",
       "      <td>MUSIC</td>\n",
       "      <td>Out ofHours</td>\n",
       "      <td>Out ofHours</td>\n",
       "    </tr>\n",
       "    <tr>\n",
       "      <th>5</th>\n",
       "      <td>02/01/2021</td>\n",
       "      <td>LS16</td>\n",
       "      <td>LS16 6</td>\n",
       "      <td>MUSIC</td>\n",
       "      <td>Out ofHours</td>\n",
       "      <td>Out ofHours</td>\n",
       "    </tr>\n",
       "    <tr>\n",
       "      <th>6</th>\n",
       "      <td>02/01/2021</td>\n",
       "      <td>LS14</td>\n",
       "      <td>LS14 1</td>\n",
       "      <td>MUSIC</td>\n",
       "      <td>Out ofHours</td>\n",
       "      <td>Out ofHours</td>\n",
       "    </tr>\n",
       "    <tr>\n",
       "      <th>7</th>\n",
       "      <td>02/01/2021</td>\n",
       "      <td>LS6</td>\n",
       "      <td>LS6 3</td>\n",
       "      <td>SHOUTING</td>\n",
       "      <td>Out ofHours</td>\n",
       "      <td>Out ofHours</td>\n",
       "    </tr>\n",
       "    <tr>\n",
       "      <th>8</th>\n",
       "      <td>02/01/2021</td>\n",
       "      <td>LS17</td>\n",
       "      <td>LS17 5</td>\n",
       "      <td>BANGING ON WALLS/CEILING/FLOOR</td>\n",
       "      <td>Out ofHours</td>\n",
       "      <td>Out ofHours</td>\n",
       "    </tr>\n",
       "    <tr>\n",
       "      <th>9</th>\n",
       "      <td>03/01/2021</td>\n",
       "      <td>LS18</td>\n",
       "      <td>LS18 4</td>\n",
       "      <td>DOG BARKING</td>\n",
       "      <td>Out ofHours</td>\n",
       "      <td>Out ofHours</td>\n",
       "    </tr>\n",
       "  </tbody>\n",
       "</table>\n",
       "</div>"
      ],
      "text/plain": [
       "      Created Caller  Noise Postcode Type of Noise Causing a Nuisance  \\\n",
       "0  01/01/2021    LS6           LS6 1                            MUSIC   \n",
       "1  02/01/2021   LS12          LS12 2                      DOG BARKING   \n",
       "2  02/01/2021    LS9           LS9 7                            MUSIC   \n",
       "3  02/01/2021    LS9           LS9 6                         SHOUTING   \n",
       "4  02/01/2021   LS28          LS28 5                            MUSIC   \n",
       "5  02/01/2021   LS16          LS16 6                            MUSIC   \n",
       "6  02/01/2021   LS14          LS14 1                            MUSIC   \n",
       "7  02/01/2021    LS6           LS6 3                         SHOUTING   \n",
       "8  02/01/2021   LS17          LS17 5   BANGING ON WALLS/CEILING/FLOOR   \n",
       "9  03/01/2021   LS18          LS18 4                      DOG BARKING   \n",
       "\n",
       "        Sr_Num     Enq Type  \n",
       "0  Out ofHours  Out ofHours  \n",
       "1  Out ofHours  Out ofHours  \n",
       "2  Out ofHours  Out ofHours  \n",
       "3  Out ofHours  Out ofHours  \n",
       "4  Out ofHours  Out ofHours  \n",
       "5  Out ofHours  Out ofHours  \n",
       "6  Out ofHours  Out ofHours  \n",
       "7  Out ofHours  Out ofHours  \n",
       "8  Out ofHours  Out ofHours  \n",
       "9  Out ofHours  Out ofHours  "
      ]
     },
     "execution_count": 7,
     "metadata": {},
     "output_type": "execute_result"
    }
   ],
   "source": [
    "# see the first 10 complaints from the data set\n",
    "complaints[0:10]"
   ]
  },
  {
   "cell_type": "code",
   "execution_count": 12,
   "id": "3f7dea2e",
   "metadata": {},
   "outputs": [
    {
     "data": {
      "text/plain": [
       "LS6 1     998\n",
       "LS6 3     360\n",
       "LS9 6     174\n",
       "LS9 7     139\n",
       "LS14 1    136\n",
       "LS4 2     136\n",
       "LS6 2     114\n",
       "LS12 1    112\n",
       "LS13 2     95\n",
       "LS8 5      93\n",
       "Name: Noise Postcode, dtype: int64"
      ]
     },
     "execution_count": 12,
     "metadata": {},
     "output_type": "execute_result"
    }
   ],
   "source": [
    "# gives us the number of complaints in each postcode (top 10)\n",
    "complaints['Noise Postcode'].value_counts()[:10].sort_values(ascending=False)"
   ]
  },
  {
   "cell_type": "code",
   "execution_count": null,
   "id": "4ee2f296",
   "metadata": {},
   "outputs": [],
   "source": []
  }
 ],
 "metadata": {
  "kernelspec": {
   "display_name": "Python 3 (ipykernel)",
   "language": "python",
   "name": "python3"
  },
  "language_info": {
   "codemirror_mode": {
    "name": "ipython",
    "version": 3
   },
   "file_extension": ".py",
   "mimetype": "text/x-python",
   "name": "python",
   "nbconvert_exporter": "python",
   "pygments_lexer": "ipython3",
   "version": "3.7.8"
  }
 },
 "nbformat": 4,
 "nbformat_minor": 5
}

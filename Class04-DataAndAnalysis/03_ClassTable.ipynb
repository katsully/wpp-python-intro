{
 "cells": [
  {
   "cell_type": "code",
   "execution_count": 1,
   "id": "28a7a7ee",
   "metadata": {},
   "outputs": [],
   "source": [
    "# comma seperated values\n",
    "import csv"
   ]
  },
  {
   "cell_type": "code",
   "execution_count": 6,
   "id": "e86084a8",
   "metadata": {},
   "outputs": [
    {
     "name": "stdout",
     "output_type": "stream",
     "text": [
      "['Timestamp', 'Which is your favorite animal?', 'How many years have you lived in London?', 'How do you travel to WPP?', 'How do you spend your time during your commute?']\n",
      "['8/30/2022 17:24:41', 'Dog', '0', 'Underground', 'Listening to a Podcast']\n",
      "['8/30/2022 17:39:04', 'Dog', '7', 'Bike', \"Focusing on the road because I'm biking!\"]\n",
      "['8/30/2022 18:03:17', 'Dog', '5', 'Underground', 'Social Media']\n"
     ]
    }
   ],
   "source": [
    "# csvfile is my variable name\n",
    "with open('DemoTable.csv', newline='') as csvfile:\n",
    "    # using our variable csvfile to read the csv\n",
    "    csv_reader = csv.reader(csvfile)\n",
    "    for row in csv_reader:\n",
    "        print(row)"
   ]
  },
  {
   "cell_type": "code",
   "execution_count": 7,
   "id": "78213598",
   "metadata": {},
   "outputs": [
    {
     "name": "stdout",
     "output_type": "stream",
     "text": [
      "['8/30/2022 17:24:41', 'Dog', '0', 'Underground', 'Listening to a Podcast']\n",
      "['8/30/2022 17:39:04', 'Dog', '7', 'Bike', \"Focusing on the road because I'm biking!\"]\n",
      "['8/30/2022 18:03:17', 'Dog', '5', 'Underground', 'Social Media']\n"
     ]
    }
   ],
   "source": [
    "# csvfile is my variable name\n",
    "with open('Data/DemoTable.csv', newline='') as csvfile:\n",
    "    # using our variable csvfile to read the csv\n",
    "    csv_reader = csv.reader(csvfile)\n",
    "    # save our headers! (ie save the questions)\n",
    "    # next is giving me the next (in this case - first) row\n",
    "    headers = next(csv_reader)\n",
    "    for row in csv_reader:\n",
    "        print(row)"
   ]
  },
  {
   "cell_type": "code",
   "execution_count": 8,
   "id": "c2788094",
   "metadata": {},
   "outputs": [
    {
     "data": {
      "text/plain": [
       "['Timestamp',\n",
       " 'Which is your favorite animal?',\n",
       " 'How many years have you lived in London?',\n",
       " 'How do you travel to WPP?',\n",
       " 'How do you spend your time during your commute?']"
      ]
     },
     "execution_count": 8,
     "metadata": {},
     "output_type": "execute_result"
    }
   ],
   "source": [
    "headers"
   ]
  },
  {
   "cell_type": "code",
   "execution_count": 9,
   "id": "cc54feab",
   "metadata": {},
   "outputs": [
    {
     "data": {
      "text/plain": [
       "['8/30/2022 18:03:17', 'Dog', '5', 'Underground', 'Social Media']"
      ]
     },
     "execution_count": 9,
     "metadata": {},
     "output_type": "execute_result"
    }
   ],
   "source": [
    "# our variable row only saves the last element from our for loop (ie the last row in the dataset)\n",
    "row"
   ]
  },
  {
   "cell_type": "code",
   "execution_count": 10,
   "id": "09d6745b",
   "metadata": {},
   "outputs": [],
   "source": [
    "# csvfile is my variable name\n",
    "with open('Data/DemoTable.csv', newline='') as csvfile:\n",
    "    # using our variable csvfile to read the csv\n",
    "    csv_reader = csv.reader(csvfile)\n",
    "    # save our headers! (ie save the questions)\n",
    "    # next is giving me the next (in this case - first) row\n",
    "    headers = next(csv_reader)\n",
    "    # save my data!\n",
    "    data = []\n",
    "    for row in csv_reader:\n",
    "        data.append(row)"
   ]
  },
  {
   "cell_type": "code",
   "execution_count": 13,
   "id": "0c901193",
   "metadata": {},
   "outputs": [
    {
     "data": {
      "text/plain": [
       "['8/30/2022 18:03:17', 'Dog', '5', 'Underground', 'Social Media']"
      ]
     },
     "execution_count": 13,
     "metadata": {},
     "output_type": "execute_result"
    }
   ],
   "source": [
    "# data is now a list of every row in our dataset (except the headers)\n",
    "data[2]"
   ]
  },
  {
   "cell_type": "code",
   "execution_count": 14,
   "id": "ad801050",
   "metadata": {},
   "outputs": [
    {
     "data": {
      "text/plain": [
       "3"
      ]
     },
     "execution_count": 14,
     "metadata": {},
     "output_type": "execute_result"
    }
   ],
   "source": [
    "len(data)"
   ]
  },
  {
   "cell_type": "code",
   "execution_count": 19,
   "id": "bf5b1bdc",
   "metadata": {},
   "outputs": [
    {
     "name": "stdout",
     "output_type": "stream",
     "text": [
      "{'Underground': 2, 'Bike': 1}\n"
     ]
    }
   ],
   "source": [
    "# create an empty dictionary\n",
    "community_choices = {}\n",
    "\n",
    "for row in data:\n",
    "#     print(row[3])\n",
    "    # if key in dictionary, add 1 to number of folks (ie the value)\n",
    "    if row[3] in community_choices:\n",
    "        community_choices[row[3]] += 1\n",
    "    # if not, add the option (ie key) to the dictionary\n",
    "    else:\n",
    "        community_choices[row[3]] = 1\n",
    "\n",
    "print(community_choices)"
   ]
  },
  {
   "cell_type": "code",
   "execution_count": 22,
   "id": "9f0ef4ec",
   "metadata": {},
   "outputs": [
    {
     "data": {
      "text/plain": [
       "['0', '7', '5']"
      ]
     },
     "execution_count": 22,
     "metadata": {},
     "output_type": "execute_result"
    }
   ],
   "source": [
    "# using a list comprehension to grab the third column from every row\n",
    "how_many_years = [x[2] for x in data]\n",
    "\n",
    "\n",
    "how_many_years"
   ]
  },
  {
   "cell_type": "code",
   "execution_count": 23,
   "id": "35cf347e",
   "metadata": {},
   "outputs": [
    {
     "data": {
      "text/plain": [
       "'7'"
      ]
     },
     "execution_count": 23,
     "metadata": {},
     "output_type": "execute_result"
    }
   ],
   "source": [
    "# what is the largest element in the list?\n",
    "max(how_many_years)"
   ]
  },
  {
   "cell_type": "code",
   "execution_count": 24,
   "id": "c9bc4f4c",
   "metadata": {},
   "outputs": [
    {
     "data": {
      "text/plain": [
       "'0'"
      ]
     },
     "execution_count": 24,
     "metadata": {},
     "output_type": "execute_result"
    }
   ],
   "source": [
    "# what is the smallest element in the list?\n",
    "min(how_many_years)"
   ]
  }
 ],
 "metadata": {
  "kernelspec": {
   "display_name": "Python 3 (ipykernel)",
   "language": "python",
   "name": "python3"
  },
  "language_info": {
   "codemirror_mode": {
    "name": "ipython",
    "version": 3
   },
   "file_extension": ".py",
   "mimetype": "text/x-python",
   "name": "python",
   "nbconvert_exporter": "python",
   "pygments_lexer": "ipython3",
   "version": "3.11.0"
  }
 },
 "nbformat": 4,
 "nbformat_minor": 5
}

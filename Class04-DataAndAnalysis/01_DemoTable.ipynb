{
 "cells": [
  {
   "cell_type": "code",
   "execution_count": 9,
   "id": "04abd7df",
   "metadata": {},
   "outputs": [],
   "source": [
    "import csv\n",
    "import pandas as pd"
   ]
  },
  {
   "cell_type": "code",
   "execution_count": 2,
   "id": "1dd82a89",
   "metadata": {},
   "outputs": [
    {
     "name": "stdout",
     "output_type": "stream",
     "text": [
      "['Timestamp', 'Which is your favorite animal?', 'How many years have you lived in London?', 'How do you travel to WPP?', 'How do you spend your time during your commute?']\n",
      "['8/30/2022 17:24:41', 'Dog', '0', 'Underground', 'Listening to a Podcast']\n",
      "['8/30/2022 17:39:04', 'Dog', '7', 'Bike', \"Focusing on the road because I'm biking!\"]\n",
      "['8/30/2022 18:03:17', 'Dog', '5', 'Underground', 'Social Media']\n"
     ]
    }
   ],
   "source": [
    "# let's open the file and print each line\n",
    "with open('DemoTable.csv', newline='') as csvfile:\n",
    "        cvs_reader = csv.reader(csvfile) # returns a reader object which will iterate each row of the file\n",
    "        for row in cvs_reader:\n",
    "            print(row) # note each row will be returned as a list"
   ]
  },
  {
   "cell_type": "code",
   "execution_count": 12,
   "id": "0dd945db",
   "metadata": {},
   "outputs": [
    {
     "name": "stdout",
     "output_type": "stream",
     "text": [
      "['8/30/2022 17:24:41', 'Dog', '0', 'Underground', 'Listening to a Podcast']\n",
      "['8/30/2022 17:39:04', 'Dog', '7', 'Bike', \"Focusing on the road because I'm biking!\"]\n",
      "['8/30/2022 18:03:17', 'Dog', '5', 'Underground', 'Social Media']\n"
     ]
    }
   ],
   "source": [
    "# let's do that again and pull out the headers\n",
    "with open('DemoTable.csv', newline='') as csvfile:\n",
    "        cvs_reader = csv.reader(csvfile) \n",
    "        headers = next(cvs_reader) # skip the first row and store it in the variable headers\n",
    "        for row in cvs_reader:\n",
    "            print(row) "
   ]
  },
  {
   "cell_type": "code",
   "execution_count": 13,
   "id": "d00bffda",
   "metadata": {},
   "outputs": [
    {
     "data": {
      "text/plain": [
       "['Timestamp',\n",
       " 'animal',\n",
       " 'How many years have you lived in London?',\n",
       " 'How do you travel to WPP?',\n",
       " 'How do you spend your time during your commute?']"
      ]
     },
     "execution_count": 13,
     "metadata": {},
     "output_type": "execute_result"
    }
   ],
   "source": [
    "# now we can just print the headers as well\n",
    "headers"
   ]
  },
  {
   "cell_type": "code",
   "execution_count": null,
   "id": "63bfebad",
   "metadata": {},
   "outputs": [],
   "source": [
    "# let's see all the commuting selections\n",
    "row[3]"
   ]
  },
  {
   "cell_type": "code",
   "execution_count": 18,
   "id": "410026d3",
   "metadata": {},
   "outputs": [],
   "source": [
    "# hmmm, can only access the last row (do you know why?)\n",
    "# let's try this one more time and save the rows in a nested list (ie a list of lists)\n",
    "with open('DemoTable.csv', newline='') as csvfile:\n",
    "        cvs_reader = csv.reader(csvfile) \n",
    "#         headers = next(cvs_reader) \n",
    "        data = [] # this will hold all of the rows\n",
    "        for row in cvs_reader:\n",
    "            data.append(row)"
   ]
  },
  {
   "cell_type": "code",
   "execution_count": null,
   "id": "cd8c63c7",
   "metadata": {},
   "outputs": [],
   "source": [
    "# I can see how many folks completed the questions\n",
    "len(data)"
   ]
  },
  {
   "cell_type": "code",
   "execution_count": 19,
   "id": "e779fad5",
   "metadata": {},
   "outputs": [],
   "source": [
    "df= pd.DataFrame.from_dict(data)"
   ]
  },
  {
   "cell_type": "code",
   "execution_count": 20,
   "id": "5a4acf89",
   "metadata": {},
   "outputs": [
    {
     "data": {
      "text/html": [
       "<div>\n",
       "<style scoped>\n",
       "    .dataframe tbody tr th:only-of-type {\n",
       "        vertical-align: middle;\n",
       "    }\n",
       "\n",
       "    .dataframe tbody tr th {\n",
       "        vertical-align: top;\n",
       "    }\n",
       "\n",
       "    .dataframe thead th {\n",
       "        text-align: right;\n",
       "    }\n",
       "</style>\n",
       "<table border=\"1\" class=\"dataframe\">\n",
       "  <thead>\n",
       "    <tr style=\"text-align: right;\">\n",
       "      <th></th>\n",
       "      <th>0</th>\n",
       "      <th>1</th>\n",
       "      <th>2</th>\n",
       "      <th>3</th>\n",
       "      <th>4</th>\n",
       "    </tr>\n",
       "  </thead>\n",
       "  <tbody>\n",
       "    <tr>\n",
       "      <th>0</th>\n",
       "      <td>Timestamp</td>\n",
       "      <td>animal</td>\n",
       "      <td>How many years have you lived in London?</td>\n",
       "      <td>How do you travel to WPP?</td>\n",
       "      <td>How do you spend your time during your commute?</td>\n",
       "    </tr>\n",
       "    <tr>\n",
       "      <th>1</th>\n",
       "      <td>8/30/2022 17:24:41</td>\n",
       "      <td>Dog</td>\n",
       "      <td>0</td>\n",
       "      <td>Underground</td>\n",
       "      <td>Listening to a Podcast</td>\n",
       "    </tr>\n",
       "    <tr>\n",
       "      <th>2</th>\n",
       "      <td>8/30/2022 17:39:04</td>\n",
       "      <td>Dog</td>\n",
       "      <td>7</td>\n",
       "      <td>Bike</td>\n",
       "      <td>Focusing on the road because I'm biking!</td>\n",
       "    </tr>\n",
       "    <tr>\n",
       "      <th>3</th>\n",
       "      <td>8/30/2022 18:03:17</td>\n",
       "      <td>Dog</td>\n",
       "      <td>5</td>\n",
       "      <td>Underground</td>\n",
       "      <td>Social Media</td>\n",
       "    </tr>\n",
       "  </tbody>\n",
       "</table>\n",
       "</div>"
      ],
      "text/plain": [
       "                    0       1                                         2  \\\n",
       "0           Timestamp  animal  How many years have you lived in London?   \n",
       "1  8/30/2022 17:24:41     Dog                                         0   \n",
       "2  8/30/2022 17:39:04     Dog                                         7   \n",
       "3  8/30/2022 18:03:17     Dog                                         5   \n",
       "\n",
       "                           3                                                4  \n",
       "0  How do you travel to WPP?  How do you spend your time during your commute?  \n",
       "1                Underground                           Listening to a Podcast  \n",
       "2                       Bike         Focusing on the road because I'm biking!  \n",
       "3                Underground                                     Social Media  "
      ]
     },
     "execution_count": 20,
     "metadata": {},
     "output_type": "execute_result"
    }
   ],
   "source": [
    "df"
   ]
  },
  {
   "cell_type": "code",
   "execution_count": 4,
   "id": "014fe837",
   "metadata": {},
   "outputs": [
    {
     "ename": "TypeError",
     "evalue": "list indices must be integers or slices, not str",
     "output_type": "error",
     "traceback": [
      "\u001b[1;31m---------------------------------------------------------------------------\u001b[0m",
      "\u001b[1;31mTypeError\u001b[0m                                 Traceback (most recent call last)",
      "Cell \u001b[1;32mIn [4], line 1\u001b[0m\n\u001b[1;32m----> 1\u001b[0m \u001b[43mdata\u001b[49m\u001b[43m[\u001b[49m\u001b[38;5;124;43m'\u001b[39;49m\u001b[38;5;124;43mWhich is your favorite animal?\u001b[39;49m\u001b[38;5;124;43m'\u001b[39;49m\u001b[43m]\u001b[49m\n",
      "\u001b[1;31mTypeError\u001b[0m: list indices must be integers or slices, not str"
     ]
    }
   ],
   "source": [
    "data['Which is your favorite animal?']"
   ]
  },
  {
   "cell_type": "code",
   "execution_count": null,
   "id": "de044290",
   "metadata": {},
   "outputs": [],
   "source": [
    "# now to see all of the commuting selections, I'll iterate through data (ie look at each row) and see the commuting selection\n",
    "for row in data:\n",
    "    print(row[3])"
   ]
  },
  {
   "cell_type": "code",
   "execution_count": null,
   "id": "93c71f52",
   "metadata": {},
   "outputs": [],
   "source": [
    "# I could use a dictionary and count how many people chose each option\n",
    "\n",
    "commuting_choices = {} # create an empty dictionary\n",
    "for row in data:\n",
    "    curr_choice = row[3]                      # commuting_choice represents the option selected for this row (ie person) \n",
    "    if curr_choice in commuting_choices:      # see if that choice is already in the dictionary\n",
    "        commuting_choices[curr_choice] += 1   # if it already exists, add one\n",
    "    else:\n",
    "        commuting_choices[curr_choice] = 1    # else, add it to the dictionary and initialize it to one (because so far, one person selected this option)\n",
    "        \n",
    "commuting_choices"
   ]
  },
  {
   "cell_type": "code",
   "execution_count": null,
   "id": "f48af4b5",
   "metadata": {},
   "outputs": [],
   "source": [
    "# I can also see how many years the longest and newest London resident has lived here\n",
    "\n",
    "# let's use a list comprehension this time\n",
    "# how_many_years will be a list containing all the different years folks have lived in London\n",
    "how_many_years = [row[2] for row in data]\n",
    "\n",
    "print(how_many_years)\n",
    "print(max(how_many_years))   # longest resident\n",
    "print(min(how_many_years))   # newest resident"
   ]
  }
 ],
 "metadata": {
  "kernelspec": {
   "display_name": "Python 3 (ipykernel)",
   "language": "python",
   "name": "python3"
  },
  "language_info": {
   "codemirror_mode": {
    "name": "ipython",
    "version": 3
   },
   "file_extension": ".py",
   "mimetype": "text/x-python",
   "name": "python",
   "nbconvert_exporter": "python",
   "pygments_lexer": "ipython3",
   "version": "3.11.0"
  }
 },
 "nbformat": 4,
 "nbformat_minor": 5
}

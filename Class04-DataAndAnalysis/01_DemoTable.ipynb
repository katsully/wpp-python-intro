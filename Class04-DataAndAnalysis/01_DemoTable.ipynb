{
 "cells": [
  {
   "cell_type": "code",
   "execution_count": null,
   "id": "04abd7df",
   "metadata": {},
   "outputs": [],
   "source": [
    "import csv"
   ]
  },
  {
   "cell_type": "code",
   "execution_count": null,
   "id": "1dd82a89",
   "metadata": {},
   "outputs": [],
   "source": [
    "# let's open the file and print each line\n",
    "with open('DemoTable.csv', newline='') as csvfile:\n",
    "        cvs_reader = csv.reader(csvfile) # returns a reader object which will iterate each row of the file\n",
    "        for row in cvs_reader:\n",
    "            print(row) # note each row will be returned as a list"
   ]
  },
  {
   "cell_type": "code",
   "execution_count": null,
   "id": "0dd945db",
   "metadata": {},
   "outputs": [],
   "source": [
    "# let's do that again and pull out the headers\n",
    "with open('DemoTable.csv', newline='') as csvfile:\n",
    "        cvs_reader = csv.reader(csvfile) \n",
    "        headers = next(cvs_reader) # skip the first row and store it in the variable headers\n",
    "        for row in cvs_reader:\n",
    "            print(row) "
   ]
  },
  {
   "cell_type": "code",
   "execution_count": null,
   "id": "d00bffda",
   "metadata": {},
   "outputs": [],
   "source": [
    "# now we can just print the headers as well\n",
    "headers"
   ]
  },
  {
   "cell_type": "code",
   "execution_count": null,
   "id": "63bfebad",
   "metadata": {},
   "outputs": [],
   "source": [
    "# let's see all the commuting selections\n",
    "row[3]"
   ]
  },
  {
   "cell_type": "code",
   "execution_count": null,
   "id": "410026d3",
   "metadata": {},
   "outputs": [],
   "source": [
    "# hmmm, can only access the last row (do you know why?)\n",
    "# let's try this one more time and save the rows in a nested list (ie a list of lists)\n",
    "with open('DemoTable.csv', newline='') as csvfile:\n",
    "        cvs_reader = csv.reader(csvfile) \n",
    "        headers = next(cvs_reader) \n",
    "        data = [] # this will hold all of the rows\n",
    "        for row in cvs_reader:\n",
    "            data.append(row)"
   ]
  },
  {
   "cell_type": "code",
   "execution_count": null,
   "id": "cd8c63c7",
   "metadata": {},
   "outputs": [],
   "source": [
    "# I can see how many folks completed the questions\n",
    "len(data)"
   ]
  },
  {
   "cell_type": "code",
   "execution_count": null,
   "id": "de044290",
   "metadata": {},
   "outputs": [],
   "source": [
    "# now to see all of the commuting selections, I'll iterate through data (ie look at each row) and see the commuting selection\n",
    "for row in data:\n",
    "    print(row[3])"
   ]
  },
  {
   "cell_type": "code",
   "execution_count": null,
   "id": "93c71f52",
   "metadata": {},
   "outputs": [],
   "source": [
    "# I could use a dictionary and count how many people chose each option\n",
    "\n",
    "commuting_choices = {} # create an empty dictionary\n",
    "for row in data:\n",
    "    curr_choice = row[3]                      # commuting_choice represents the option selected for this row (ie person) \n",
    "    if curr_choice in commuting_choices:      # see if that choice is already in the dictionary\n",
    "        commuting_choices[curr_choice] += 1   # if it already exists, add one\n",
    "    else:\n",
    "        commuting_choices[curr_choice] = 1    # else, add it to the dictionary and initialize it to one (because so far, one person selected this option)\n",
    "        \n",
    "commuting_choices"
   ]
  },
  {
   "cell_type": "code",
   "execution_count": null,
   "id": "f48af4b5",
   "metadata": {},
   "outputs": [],
   "source": [
    "# I can also see how many years the longest and newest London resident has lived here\n",
    "\n",
    "# let's use a list comprehension this time\n",
    "# how_many_years will be a list containing all the different years folks have lived in London\n",
    "how_many_years = [row[2] for row in data]\n",
    "\n",
    "print(how_many_years)\n",
    "print(max(how_many_years))   # longest resident\n",
    "print(min(how_many_years))   # newest resident"
   ]
  }
 ],
 "metadata": {
  "kernelspec": {
   "display_name": "Python 3 (ipykernel)",
   "language": "python",
   "name": "python3"
  },
  "language_info": {
   "codemirror_mode": {
    "name": "ipython",
    "version": 3
   },
   "file_extension": ".py",
   "mimetype": "text/x-python",
   "name": "python",
   "nbconvert_exporter": "python",
   "pygments_lexer": "ipython3",
   "version": "3.7.8"
  }
 },
 "nbformat": 4,
 "nbformat_minor": 5
}

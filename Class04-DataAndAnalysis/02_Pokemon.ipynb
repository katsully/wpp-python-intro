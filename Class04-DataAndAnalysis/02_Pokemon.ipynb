{
 "cells": [
  {
   "cell_type": "code",
   "execution_count": null,
   "id": "4fcd8d4c",
   "metadata": {},
   "outputs": [],
   "source": [
    "import csv"
   ]
  },
  {
   "cell_type": "code",
   "execution_count": null,
   "id": "545169bd",
   "metadata": {},
   "outputs": [],
   "source": [
    "# remember learning about ASCII? That's the default encoder but only covers the english lettering system\n",
    "# if we want all characters (ie japanese) we'll need to use Unicode\n",
    "# remember that the first row is our headers, we want to keep this separate from our data\n",
    "# we will also want to store the data\n",
    "with open('pokemon_data.csv', encoding='utf-8', newline='') as f:\n",
    "    reader = csv.reader(f)\n",
    "    headers = next(reader)\n",
    "    data = []\n",
    "    for row in reader:\n",
    "        data.append(row)\n",
    "\n",
    "data"
   ]
  },
  {
   "cell_type": "code",
   "execution_count": null,
   "id": "3f7dea2e",
   "metadata": {},
   "outputs": [],
   "source": [
    "headers"
   ]
  },
  {
   "cell_type": "code",
   "execution_count": null,
   "id": "4ee2f296",
   "metadata": {},
   "outputs": [],
   "source": [
    "# let's print out all of our pokemons and their types\n",
    "name_idx = headers.index('name')\n",
    "classification_idx = headers.index('classfication')\n",
    "for pokemon in data:\n",
    "    print(pokemon[name_idx] + \" is a \" + pokemon[classification_idx])"
   ]
  },
  {
   "cell_type": "code",
   "execution_count": null,
   "id": "0df9087f",
   "metadata": {},
   "outputs": [],
   "source": [
    "# always getting the index is going to get annoying, let's try this again but this time use a list of dictionaries\n",
    "# right now we have a list of lists (that we line up with another list - headers)\n",
    "\n",
    "# Note: csv.DictReader will return OrderDicts (we have been using regular dicts), it may look a little different when you print\n",
    "# it out, but will function the same as a regular dict. The main difference is an OrderDict retains the order of key/value\n",
    "# pairs, while a regular dict does not\n",
    "\n",
    "pokemons = []\n",
    "\n",
    "with open(\"pokemon_data.csv\", encoding='utf-8') as f:\n",
    "    reader = csv.DictReader(f)\n",
    "    for row in reader:\n",
    "        print(row)\n",
    "        pokemons.append(row)\n",
    "\n",
    "       "
   ]
  },
  {
   "cell_type": "code",
   "execution_count": null,
   "id": "284962fc",
   "metadata": {},
   "outputs": [],
   "source": [
    "# let's try and make a little battle simulator!\n",
    "# first let's select a random pokemon\n",
    "import random\n",
    "pokemon1 = random.choice(pokemons)\n",
    "print(\"I choose you \" + pokemon1['name'])"
   ]
  },
  {
   "cell_type": "code",
   "execution_count": null,
   "id": "ca1786dd",
   "metadata": {},
   "outputs": [],
   "source": [
    "# now let's choose an opponent\n",
    "pokemon2 = random.choice(pokemons)\n",
    "print(\"And I choose you \" + pokemon2['name'])"
   ]
  },
  {
   "cell_type": "code",
   "execution_count": null,
   "id": "00f971ff",
   "metadata": {},
   "outputs": [],
   "source": [
    "# now we need to see how they stack up against each other\n",
    "# let's look at what type they are\n",
    "print(pokemon1['name'] + \" is \" + pokemon1['type1'] + \" type\")\n",
    "print(pokemon2['name'] + \" is \" + pokemon2['type1'] + \" type\")"
   ]
  },
  {
   "cell_type": "code",
   "execution_count": null,
   "id": "272e6c64",
   "metadata": {},
   "outputs": [],
   "source": [
    "# now we can compare the two types against each other\n",
    "# an example of how this work:\n",
    "# \"Magnezone is 0.5 against normal type\" means Magnezone takes half the damage against pokemons of type normal\n",
    "\n",
    "# a fun little 'issue' with this dataset\n",
    "# for most types I can use the logic, if the type value is 'water', the column I want is 'against_water'\n",
    "# however, for 'fighting' type, the column name is 'against_fight'\n",
    "# this is why consistent naming conventions are important!!\n",
    "if pokemon1['type1'] == \"fighting\":\n",
    "    against_type1 = \"against_fight\"\n",
    "else:\n",
    "    against_type1 = \"against_\" + pokemon1['type1']\n",
    "if pokemon2['type1'] == \"fighting\":\n",
    "    against_type2 = \"against_fight\"\n",
    "else:\n",
    "    against_type2 = \"against_\" + pokemon2['type1']\n",
    "print(pokemon1['name'] + \" is \" + pokemon1[against_type2] + \" against \" + pokemon2['type1'] + \" type\")\n",
    "print(pokemon2['name'] + \" is \" + pokemon2[against_type1] + \" against \" + pokemon1['type1'] + \" type\")"
   ]
  },
  {
   "cell_type": "code",
   "execution_count": null,
   "id": "c906a33c",
   "metadata": {},
   "outputs": [],
   "source": [
    "# so to simplify things, we'll say whoever has the lowest number against opposing their opposing type wins\n",
    "# we want the lowest number because that means they would be taking less damage\n",
    "if pokemon1[against_type2] < pokemon2[against_type1]:\n",
    "    print(pokemon1['name'] + \" wins!\")\n",
    "elif pokemon1[against_type2] > pokemon2[against_type1]:\n",
    "    print(pokemon2['name'] + \" wins!\")\n",
    "else:\n",
    "    print(\"Tie!\")"
   ]
  },
  {
   "cell_type": "code",
   "execution_count": null,
   "id": "5052c690",
   "metadata": {},
   "outputs": [],
   "source": [
    "# don't love ties\n",
    "# let's use HP to settle ties\n",
    "if pokemon1[against_type2] < pokemon2[against_type1]:\n",
    "    print(pokemon1['name'] + \" wins!\")\n",
    "elif pokemon1[against_type2] > pokemon2[against_type1]:\n",
    "    print(pokemon2['name'] + \" wins!\")\n",
    "else:\n",
    "    if pokemon1['hp'] > pokemon2['hp']:\n",
    "        print(pokemon1['name'] + \" wins!\")\n",
    "    elif pokemon1['hp'] < pokemon2['hp']:\n",
    "        print(pokemon2['name'] + \" wins!\")\n",
    "    else:\n",
    "        print(\"It's a total tie\")\n",
    "    "
   ]
  },
  {
   "cell_type": "code",
   "execution_count": null,
   "id": "3d0b071e",
   "metadata": {},
   "outputs": [],
   "source": [
    "# ok, but I don't want to reexecute all this code everything i want to see a battle\n",
    "# let's put this all together\n",
    "# you can run this code over and over again!\n",
    "\n",
    "pokemon1 = random.choice(pokemons)\n",
    "print(\"I choose you \" + pokemon1['name'])\n",
    "pokemon2 = random.choice(pokemons)\n",
    "print(\"And I choose you \" + pokemon2['name'])\n",
    "print()\n",
    "\n",
    "print(pokemon1['name'] + \" is \" + pokemon1['type1'] + \" type\")\n",
    "print(pokemon2['name'] + \" is \" + pokemon2['type1'] + \" type\")\n",
    "print()\n",
    "\n",
    "if pokemon1['type1'] == \"fighting\":\n",
    "    against_type1 = \"against_fight\"\n",
    "else:\n",
    "    against_type1 = \"against_\" + pokemon1['type1']\n",
    "if pokemon2['type1'] == \"fighting\":\n",
    "    against_type2 = \"against_fight\"\n",
    "else:\n",
    "    against_type2 = \"against_\" + pokemon2['type1']\n",
    "print(pokemon1['name'] + \" is \" + pokemon1[against_type2] + \" against \" + pokemon2['type1'] + \" type\")\n",
    "print(pokemon2['name'] + \" is \" + pokemon2[against_type1] + \" against \" + pokemon1['type1'] + \" type\")\n",
    "print()\n",
    "\n",
    "if pokemon1[against_type2] < pokemon2[against_type1]:\n",
    "    print(pokemon1['name'] + \" wins!\")\n",
    "elif pokemon1[against_type2] > pokemon2[against_type1]:\n",
    "    print(pokemon2['name'] + \" wins!\")\n",
    "else:\n",
    "    if pokemon1['hp'] > pokemon2['hp']:\n",
    "        print(pokemon1['name'] + \" has a higher HP and wins!\")\n",
    "    elif pokemon1['hp'] < pokemon2['hp']:\n",
    "        print(pokemon2['name'] + \" has a higher HP and wins!\")\n",
    "    else:\n",
    "        print(\"It's a total tie\")"
   ]
  }
 ],
 "metadata": {
  "kernelspec": {
   "display_name": "Python 3 (ipykernel)",
   "language": "python",
   "name": "python3"
  },
  "language_info": {
   "codemirror_mode": {
    "name": "ipython",
    "version": 3
   },
   "file_extension": ".py",
   "mimetype": "text/x-python",
   "name": "python",
   "nbconvert_exporter": "python",
   "pygments_lexer": "ipython3",
   "version": "3.7.8"
  }
 },
 "nbformat": 4,
 "nbformat_minor": 5
}

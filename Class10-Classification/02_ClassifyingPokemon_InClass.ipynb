{
 "cells": [
  {
   "cell_type": "code",
   "execution_count": null,
   "id": "4bb98b89",
   "metadata": {},
   "outputs": [],
   "source": [
    "# import pandas and rename as pd\n",
    "import pandas as pd"
   ]
  },
  {
   "cell_type": "code",
   "execution_count": null,
   "id": "f009f2a6",
   "metadata": {},
   "outputs": [],
   "source": [
    "# set the path to our file\n",
    "path = 'pokemon_data.csv'\n",
    "# convert our csv file to a pandas DataFrame\n",
    "# converters allows pandas to know that abilities is a list, not a string\n",
    "pokemon = pd.read_csv(path, converters={'abilities': pd.eval})"
   ]
  },
  {
   "cell_type": "code",
   "execution_count": null,
   "id": "e0e99808",
   "metadata": {},
   "outputs": [],
   "source": [
    "# print out our dataset\n",
    "pokemon"
   ]
  },
  {
   "cell_type": "code",
   "execution_count": null,
   "id": "8283086a",
   "metadata": {},
   "outputs": [],
   "source": [
    "# we can use dot notation, because we are using the pandas library AND\n",
    "# no space in the column\n",
    "abilities = pokemon.abilities"
   ]
  },
  {
   "cell_type": "code",
   "execution_count": null,
   "id": "6ee01c44",
   "metadata": {},
   "outputs": [],
   "source": [
    "# print the array of ablilities for the first pokemon\n",
    "abilities[0]"
   ]
  },
  {
   "cell_type": "code",
   "execution_count": null,
   "id": "9f2409b1",
   "metadata": {},
   "outputs": [],
   "source": [
    "# check what data type this is\n",
    "type(abilities[0])"
   ]
  },
  {
   "cell_type": "code",
   "execution_count": null,
   "id": "315a70f9",
   "metadata": {},
   "outputs": [],
   "source": [
    "# see how many different pokemon types there are\n",
    "len(pokemon.type1.unique())"
   ]
  },
  {
   "cell_type": "code",
   "execution_count": null,
   "id": "208e6720",
   "metadata": {},
   "outputs": [],
   "source": [
    "# establishing a base line for our algorithm\n",
    "1/18"
   ]
  },
  {
   "cell_type": "code",
   "execution_count": null,
   "id": "a4d0e70e",
   "metadata": {},
   "outputs": [],
   "source": [
    "# defining our features\n",
    "# key-value pairs\n",
    "# the keys will be the same for everyone, the values will differ\n",
    "# JUST AN EXAMPLE\n",
    "# {'first_move': Overgrow, 'second_move': Chlorophyll}"
   ]
  },
  {
   "cell_type": "code",
   "execution_count": null,
   "id": "82a8b8f4",
   "metadata": {},
   "outputs": [],
   "source": [
    "# our first function!\n",
    "def create_features(pk_moves):\n",
    "    if len(pk_moves) == 1:\n",
    "        pk_moves.append('Nothing')\n",
    "    return {'first_move': pk_moves[0], 'second_move': pk_moves[1]}"
   ]
  },
  {
   "cell_type": "code",
   "execution_count": null,
   "id": "5cd38217",
   "metadata": {},
   "outputs": [],
   "source": [
    "# zip combines our two columns\n",
    "# we are making tuples\n",
    "# syntax for tuple (thing1, thing2)\n",
    "# ([Overgrow, Chlorophyll], grass)\n",
    "features_and_labels = zip(pokemon.abilities, pokemon.type1)\n",
    "features_and_labels"
   ]
  },
  {
   "cell_type": "code",
   "execution_count": null,
   "id": "1c38ad95",
   "metadata": {},
   "outputs": [],
   "source": [
    "# using list comprehension\n",
    "# we are creating a list of tuples\n",
    "feature_sets = [ (create_features(x), y) for x, y in features_and_labels ]\n",
    "feature_sets"
   ]
  },
  {
   "cell_type": "code",
   "execution_count": null,
   "id": "4e479ff1",
   "metadata": {},
   "outputs": [],
   "source": [
    "# always want to shuffle your dataset before classifying\n",
    "import random\n",
    "random.shuffle(feature_sets)"
   ]
  },
  {
   "cell_type": "code",
   "execution_count": null,
   "id": "5a1a6abd",
   "metadata": {},
   "outputs": [],
   "source": [
    "# let's look at how many feature sets we have\n",
    "len(feature_sets)"
   ]
  },
  {
   "cell_type": "code",
   "execution_count": null,
   "id": "21c4fe2b",
   "metadata": {},
   "outputs": [],
   "source": [
    "# determine what 80% of this number would look like\n",
    "801 * .8"
   ]
  },
  {
   "cell_type": "code",
   "execution_count": null,
   "id": "f7ca14e6",
   "metadata": {},
   "outputs": [],
   "source": [
    "# spliting our training set and testing set into a 80/20 ratio\n",
    "# training is about 'learning'\n",
    "# testing is to determine accuracy \n",
    "training_set = feature_sets[:640]\n",
    "testing_set = feature_sets[640:]"
   ]
  },
  {
   "cell_type": "code",
   "execution_count": null,
   "id": "594cc93a",
   "metadata": {},
   "outputs": [],
   "source": [
    "import nltk\n",
    "\n",
    "# build our first classifier!\n",
    "classifier = nltk.NaiveBayesClassifier.train(training_set)"
   ]
  },
  {
   "cell_type": "code",
   "execution_count": null,
   "id": "ed1c9d11",
   "metadata": {},
   "outputs": [],
   "source": [
    "# test out our classifier\n",
    "classifier.classify(create_features(['Blaze', 'Solar Power']))"
   ]
  },
  {
   "cell_type": "code",
   "execution_count": null,
   "id": "ef17733c",
   "metadata": {},
   "outputs": [],
   "source": [
    "# how accurate is our classifier?\n",
    "print(nltk.classify.accuracy(classifier, testing_set))"
   ]
  },
  {
   "cell_type": "code",
   "execution_count": null,
   "id": "f3825991",
   "metadata": {},
   "outputs": [],
   "source": [
    "# show which features were most important for the algorithm\n",
    "classifier.show_most_informative_features(12)"
   ]
  }
 ],
 "metadata": {
  "kernelspec": {
   "display_name": "Python 3 (ipykernel)",
   "language": "python",
   "name": "python3"
  },
  "language_info": {
   "codemirror_mode": {
    "name": "ipython",
    "version": 3
   },
   "file_extension": ".py",
   "mimetype": "text/x-python",
   "name": "python",
   "nbconvert_exporter": "python",
   "pygments_lexer": "ipython3",
   "version": "3.11.0"
  }
 },
 "nbformat": 4,
 "nbformat_minor": 5
}

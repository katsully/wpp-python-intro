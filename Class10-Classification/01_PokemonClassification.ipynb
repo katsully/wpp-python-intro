{
 "cells": [
  {
   "cell_type": "code",
   "execution_count": null,
   "id": "fb059aee",
   "metadata": {},
   "outputs": [],
   "source": [
    "import pandas as pd  "
   ]
  },
  {
   "cell_type": "code",
   "execution_count": null,
   "id": "3b747d42",
   "metadata": {},
   "outputs": [],
   "source": [
    "path = 'pokemon_data.csv'\n",
    "# the converters argument will let Python read the ability column as a list, not a string\n",
    "pokemon = pd.read_csv(path, converters={'abilities' : pd.eval})"
   ]
  },
  {
   "cell_type": "code",
   "execution_count": null,
   "id": "8091edb0",
   "metadata": {},
   "outputs": [],
   "source": [
    "def move_features(abilities):\n",
    "    if len(abilities) == 1:\n",
    "        abilities.append('None')\n",
    "    return {'first_move': abilities[0], 'second_move': abilities[1]}\n",
    "\n",
    "move_features(['Overgrow', 'Chlorophyll'])"
   ]
  },
  {
   "cell_type": "code",
   "execution_count": null,
   "id": "a1b946a8",
   "metadata": {},
   "outputs": [],
   "source": [
    "# now we want to combine abilities with type\n",
    "# we can do this with the zip function - which will produce an iterator of tuples\n",
    "# each tuple will have the format: (['ability1', 'ability2'], type)\n",
    "zipped_features = zip(pokemon.abilities, pokemon.type1)"
   ]
  },
  {
   "cell_type": "code",
   "execution_count": null,
   "id": "4889c771",
   "metadata": {},
   "outputs": [],
   "source": [
    "# I know need the ability list to have the syntax needed for a classifier\n",
    "# for this, we can use our move_feature function\n",
    "featuresets = [(move_features(abilities), p_type) for abilities, p_type in zipped_features ]\n",
    "featuresets"
   ]
  },
  {
   "cell_type": "code",
   "execution_count": null,
   "id": "6334623a",
   "metadata": {},
   "outputs": [],
   "source": [
    "import random\n",
    "# best to shuffle before training\n",
    "# or else the earlier classifications will get more training than the classifications that come later\n",
    "# ie, all the bugs get trained, none of the water types \n",
    "random.shuffle(featuresets)"
   ]
  },
  {
   "cell_type": "code",
   "execution_count": null,
   "id": "4da63f7f",
   "metadata": {},
   "outputs": [],
   "source": [
    "import nltk\n",
    "import math\n",
    "\n",
    "split_num = math.floor(len(featuresets)*.8)\n",
    "\n",
    "# split feature sets into training and test sets (here we'll try 80% train, 20% test)\n",
    "train_set, test_set = featuresets[:split_num], featuresets[split_num+1:]"
   ]
  },
  {
   "cell_type": "code",
   "execution_count": null,
   "id": "809955d2",
   "metadata": {},
   "outputs": [],
   "source": [
    "# build a classifier based on the training set\n",
    "classifier = nltk.NaiveBayesClassifier.train(train_set)"
   ]
  },
  {
   "cell_type": "code",
   "execution_count": null,
   "id": "aba3d642",
   "metadata": {},
   "outputs": [],
   "source": [
    "classifier.classify(move_features(['Stench', 'Sticky Hold', 'Aftermath']))"
   ]
  },
  {
   "cell_type": "code",
   "execution_count": null,
   "id": "f5896585",
   "metadata": {},
   "outputs": [],
   "source": [
    "# Lets evaluate the classifier on a much larger quantity of unseen data - robustness of our model\n",
    "print(nltk.classify.accuracy(classifier, test_set))"
   ]
  },
  {
   "cell_type": "code",
   "execution_count": null,
   "id": "8e18b610",
   "metadata": {},
   "outputs": [],
   "source": [
    "# Precision: the number of True Positives divided by the number of True Positives and False Positives\n",
    "# --> it is the number of positive predictions divided by the total number of positive class values predicted\n",
    "# --> effectively a measure of a classifier's exactness (low precision indicates a large number of False Positives)\n",
    "\n",
    "\n",
    "# Recall: the number of True Positives divided by the number of True Positives and the number of False Negatives\n",
    "# --> number of positive predictions divided by the number of positive class values in the test data.\n",
    "# --> effectively a measure of a classifier's completeness (low recall indicates many False Negatives)\n",
    "\n",
    "\n",
    "# F1 Score: (also called F measure) conveys the balance between the precision and recall"
   ]
  },
  {
   "cell_type": "code",
   "execution_count": null,
   "id": "c64dbb34",
   "metadata": {},
   "outputs": [],
   "source": [
    "# Finally, we can examine the classifier to determine which features it found most \n",
    "# effective for distinguishing the pokemone type\n",
    "\n",
    "# Return a list of the 'most informative' features used by this\n",
    "#         classifier.  For the purpose of this function, the\n",
    "#         informativeness of a feature ``(fname,fval)`` is equal to the\n",
    "#         highest value of P(fname=fval|label), for any label, divided by\n",
    "#         the lowest value of P(fname=fval|label), for any label:\n",
    "\n",
    "classifier.show_most_informative_features(12)"
   ]
  }
 ],
 "metadata": {
  "kernelspec": {
   "display_name": "Python 3 (ipykernel)",
   "language": "python",
   "name": "python3"
  },
  "language_info": {
   "codemirror_mode": {
    "name": "ipython",
    "version": 3
   },
   "file_extension": ".py",
   "mimetype": "text/x-python",
   "name": "python",
   "nbconvert_exporter": "python",
   "pygments_lexer": "ipython3",
   "version": "3.7.8"
  }
 },
 "nbformat": 4,
 "nbformat_minor": 5
}

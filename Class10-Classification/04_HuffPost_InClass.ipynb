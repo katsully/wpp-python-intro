{
 "cells": [
  {
   "cell_type": "code",
   "execution_count": null,
   "id": "f18fba89",
   "metadata": {},
   "outputs": [],
   "source": [
    "# import pandas and rename is as pd\n",
    "import pandas as pd"
   ]
  },
  {
   "cell_type": "code",
   "execution_count": null,
   "id": "717a85ff",
   "metadata": {},
   "outputs": [],
   "source": [
    "# set up the path to your csv file\n",
    "path = 'NewsCategorizer.csv'\n",
    "# convert your csv file to a pandas DataFrame\n",
    "news = pd.read_csv(path)"
   ]
  },
  {
   "cell_type": "code",
   "execution_count": null,
   "id": "111f60cf",
   "metadata": {},
   "outputs": [],
   "source": [
    "# print out the dataframe\n",
    "news"
   ]
  },
  {
   "cell_type": "code",
   "execution_count": null,
   "id": "99ea11f6",
   "metadata": {},
   "outputs": [],
   "source": [
    "# print out the different category names\n",
    "news.category.unique()"
   ]
  },
  {
   "cell_type": "code",
   "execution_count": null,
   "id": "aa24be7e",
   "metadata": {},
   "outputs": [],
   "source": [
    "from stop_words import get_stop_words\n",
    "\n",
    "# here's the template for how we want to structure our features\n",
    "# {'first_keyword': slkdjfsl, 'second_keyword': lsdjfls, 'third_keyword': slkdjf}\n",
    "def create_features(headline):\n",
    "    # make all the words lowercase\n",
    "    headline = headline.lower()\n",
    "    # split the headline into a list of words\n",
    "    words = headline.split()\n",
    "    # using list comprehension to create a list of keywords\n",
    "    keywords = [ x for x in words if x not in get_stop_words('english')  ]\n",
    "    # make sure all keyword lists have three elements\n",
    "    while len(keywords) < 3:\n",
    "        keywords.append('None')\n",
    "    return {'first_keyword': keywords[0], 'second_keyword': keywords[1], 'third_keyword': keywords[2]}"
   ]
  },
  {
   "cell_type": "code",
   "execution_count": null,
   "id": "efcb5f9f",
   "metadata": {},
   "outputs": [],
   "source": [
    "# bring together the category(label), and the headline(features)\n",
    "\n",
    "zipped_feature_and_labels = zip(news.headline, news.category)"
   ]
  },
  {
   "cell_type": "code",
   "execution_count": null,
   "id": "72288039",
   "metadata": {},
   "outputs": [],
   "source": [
    "# we are creating a list of tuples\n",
    "# we want () around our headline and category to show they are tuples\n",
    "feature_sets = [ (create_features(headline),category) for headline,category in zipped_feature_and_labels   ]\n",
    "feature_sets"
   ]
  },
  {
   "cell_type": "code",
   "execution_count": null,
   "id": "b169b85a",
   "metadata": {},
   "outputs": [],
   "source": [
    "# always shuffle your featureset before classifying!\n",
    "import random\n",
    "random.shuffle(feature_sets)"
   ]
  },
  {
   "cell_type": "code",
   "execution_count": null,
   "id": "59a54a82",
   "metadata": {},
   "outputs": [],
   "source": [
    "import math\n",
    "\n",
    "split_num = math.floor(len(feature_sets) * .8)\n",
    "\n",
    "# 80% of my data\n",
    "training_set = feature_sets[:split_num]\n",
    "# 20% of my data\n",
    "testing_set = feature_sets[split_num:]"
   ]
  },
  {
   "cell_type": "code",
   "execution_count": null,
   "id": "6505a6ce",
   "metadata": {},
   "outputs": [],
   "source": [
    "import nltk\n",
    "# create our classifier\n",
    "classifier = nltk.NaiveBayesClassifier.train(training_set)"
   ]
  },
  {
   "cell_type": "code",
   "execution_count": null,
   "id": "d48582ef",
   "metadata": {},
   "outputs": [],
   "source": [
    "# try out our classifier using a headline\n",
    "classifier.classify(create_features(\"Keir Starmer Dashes Jeremy Corbyn's Hopes Of Returning As Labour MP\"))"
   ]
  },
  {
   "cell_type": "code",
   "execution_count": null,
   "id": "e1faaa30",
   "metadata": {},
   "outputs": [],
   "source": [
    "# determine the accuracy of our classifier\n",
    "print(nltk.classify.accuracy(classifier, testing_set))"
   ]
  },
  {
   "cell_type": "code",
   "execution_count": null,
   "id": "e5a9af17",
   "metadata": {},
   "outputs": [],
   "source": [
    "# show the most important features for our algorithm\n",
    "classifier.show_most_informative_features(12)"
   ]
  }
 ],
 "metadata": {
  "kernelspec": {
   "display_name": "Python 3 (ipykernel)",
   "language": "python",
   "name": "python3"
  },
  "language_info": {
   "codemirror_mode": {
    "name": "ipython",
    "version": 3
   },
   "file_extension": ".py",
   "mimetype": "text/x-python",
   "name": "python",
   "nbconvert_exporter": "python",
   "pygments_lexer": "ipython3",
   "version": "3.11.0"
  }
 },
 "nbformat": 4,
 "nbformat_minor": 5
}

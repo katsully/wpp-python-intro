{
 "cells": [
  {
   "cell_type": "code",
   "execution_count": null,
   "id": "981f51b0",
   "metadata": {},
   "outputs": [],
   "source": [
    "# import your libraries\n",
    "import tweepy\n",
    "import json\n",
    "import requests\n",
    "from nltk.corpus import stopwords\n",
    "import pandas as pd\n",
    "import numpy as np\n",
    "import datetime as dt"
   ]
  },
  {
   "cell_type": "code",
   "execution_count": null,
   "id": "fb783ee0",
   "metadata": {},
   "outputs": [],
   "source": [
    "# open file with twitter keys (only need bearer token for this example)\n",
    "credentials = \"keys.json\"\n",
    "with open(credentials, \"r\") as keys:\n",
    "    api_tokens = json.load(keys)"
   ]
  },
  {
   "cell_type": "code",
   "execution_count": null,
   "id": "5c8af4ef",
   "metadata": {},
   "outputs": [],
   "source": [
    "bearer_token = api_tokens[\"bearer_token\"]"
   ]
  },
  {
   "cell_type": "code",
   "execution_count": null,
   "id": "27c4f9b9",
   "metadata": {},
   "outputs": [],
   "source": [
    "# create the client object which will allow you to interact with the Twitter API\n",
    "client = tweepy.Client(bearer_token=bearer_token)"
   ]
  },
  {
   "cell_type": "code",
   "execution_count": null,
   "id": "146f7d43",
   "metadata": {},
   "outputs": [],
   "source": [
    "duolingo_data = client.search_recent_tweets(\n",
    "    # building a query string: https://developer.twitter.com/en/docs/twitter-api/tweets/search/integrate/build-a-query\n",
    "    query = \"#Duolingo365 -is:retweet lang:en\",\n",
    "    max_results = 100\n",
    ")\n",
    "\n",
    "duolingo_data.data"
   ]
  },
  {
   "cell_type": "code",
   "execution_count": null,
   "id": "14e5397b",
   "metadata": {},
   "outputs": [],
   "source": [
    "# create a list to only store the tweets, none of the metadata\n",
    "tweets_duolingo = []\n",
    "\n",
    "for tweet in duolingo_data.data:\n",
    "    tweets_duolingo.append(tweet.text)\n",
    "    \n",
    "tweets_duolingo"
   ]
  },
  {
   "cell_type": "code",
   "execution_count": null,
   "id": "260c5888",
   "metadata": {},
   "outputs": [],
   "source": [
    "morgan_data = client.search_recent_tweets(\n",
    "    query=\"Piers Morgan -is:retweet lang:en\",\n",
    "    max_results = 100\n",
    ")\n",
    "\n",
    "morgan_data.data"
   ]
  },
  {
   "cell_type": "code",
   "execution_count": null,
   "id": "7e5aa590",
   "metadata": {},
   "outputs": [],
   "source": [
    "morgan_tweets = []\n",
    "for tweet in morgan_data.data:\n",
    "    morgan_tweets.append(tweet.text)\n",
    "    \n",
    "morgan_tweets"
   ]
  },
  {
   "cell_type": "code",
   "execution_count": null,
   "id": "85459ea1",
   "metadata": {},
   "outputs": [],
   "source": [
    "import random\n",
    "\n",
    "# create a function to format our tweet into a collection of key-value pairs (ie features)\n",
    "def setup_features(text):\n",
    "    # create array of keywords\n",
    "    # make text lowercase\n",
    "    text = text.lower()\n",
    "    # split the text into an array of words\n",
    "    words_list = text.split()\n",
    "    # this isn't nessecary but will make the next part shorter\n",
    "    s_words = stopwords.words('english')\n",
    "    keywords = [ term for term in words_list if term not in s_words and 'http' not in term] \n",
    "    random.shuffle(keywords)\n",
    "    while len(keywords) < 3:\n",
    "        keywords.append('None')\n",
    "    return {'first_keyword': keywords[0], 'second_keyword': keywords[1], 'third_keyword': keywords[2]}"
   ]
  },
  {
   "cell_type": "code",
   "execution_count": null,
   "id": "233e8505",
   "metadata": {},
   "outputs": [],
   "source": [
    "# create a list of tuples containing the featureset and the label\n",
    "# features and label list will contain my features and my label\n",
    "features_and_labels = []\n",
    "for tweet in tweets_duolingo:\n",
    "    features_and_labels.append(  (setup_features(tweet), 'Duolingo')    )"
   ]
  },
  {
   "cell_type": "code",
   "execution_count": null,
   "id": "fb3acb3b",
   "metadata": {},
   "outputs": [],
   "source": [
    "for tweet in morgan_tweets:\n",
    "    features_and_labels.append(  (setup_features(tweet), 'Piers Morgan')    )"
   ]
  },
  {
   "cell_type": "code",
   "execution_count": null,
   "id": "090cdbaf",
   "metadata": {},
   "outputs": [],
   "source": [
    "# print out our features and labels\n",
    "features_and_labels"
   ]
  },
  {
   "cell_type": "code",
   "execution_count": null,
   "id": "09be1e12",
   "metadata": {},
   "outputs": [],
   "source": [
    "# ALWAYS SHUFFLE YOUR FEATURES AND LABELS!!!!\n",
    "random.shuffle(features_and_labels)"
   ]
  },
  {
   "cell_type": "code",
   "execution_count": null,
   "id": "e4f65b4d",
   "metadata": {},
   "outputs": [],
   "source": [
    "# print out our shuffled features and labels\n",
    "features_and_labels"
   ]
  },
  {
   "cell_type": "code",
   "execution_count": null,
   "id": "7b6cb3fb",
   "metadata": {},
   "outputs": [],
   "source": [
    "# split 80:20 training data and testing data\n",
    "\n",
    "import math\n",
    "\n",
    "# get how many elements in my list is 80%\n",
    "split_num = math.floor(len(features_and_labels) * .8)\n",
    "split_num"
   ]
  },
  {
   "cell_type": "code",
   "execution_count": null,
   "id": "f7c4169e",
   "metadata": {},
   "outputs": [],
   "source": [
    "# 80% of my data\n",
    "training_set = features_and_labels[:split_num]\n",
    "# 20% of my data\n",
    "testing_set = features_and_labels[split_num:]"
   ]
  },
  {
   "cell_type": "code",
   "execution_count": null,
   "id": "9349ea72",
   "metadata": {},
   "outputs": [],
   "source": [
    "import nltk\n",
    "# create our classifier\n",
    "\n",
    "# My baseline is 50% because I have two labels/outcomes - we are hoping to do better than the baseline!\n",
    "my_classifier = nltk.NaiveBayesClassifier.train(training_set)"
   ]
  },
  {
   "cell_type": "code",
   "execution_count": null,
   "id": "49c4689e",
   "metadata": {},
   "outputs": [],
   "source": [
    "# grab a random tweet from Twitter and see if it is classified correctly\n",
    "my_classifier.classify(setup_features(\"Big Piers Morgan getting told off by specsavers has made my day.\"))"
   ]
  },
  {
   "cell_type": "code",
   "execution_count": null,
   "id": "c0cc3481",
   "metadata": {},
   "outputs": [],
   "source": [
    "# test our accuracy\n",
    "nltk.classify.accuracy(my_classifier, testing_set)"
   ]
  },
  {
   "cell_type": "code",
   "execution_count": null,
   "id": "213540f5",
   "metadata": {},
   "outputs": [],
   "source": [
    "classifier.show_most_informative_features(10)"
   ]
  }
 ],
 "metadata": {
  "kernelspec": {
   "display_name": "Python 3 (ipykernel)",
   "language": "python",
   "name": "python3"
  },
  "language_info": {
   "codemirror_mode": {
    "name": "ipython",
    "version": 3
   },
   "file_extension": ".py",
   "mimetype": "text/x-python",
   "name": "python",
   "nbconvert_exporter": "python",
   "pygments_lexer": "ipython3",
   "version": "3.11.0"
  }
 },
 "nbformat": 4,
 "nbformat_minor": 5
}

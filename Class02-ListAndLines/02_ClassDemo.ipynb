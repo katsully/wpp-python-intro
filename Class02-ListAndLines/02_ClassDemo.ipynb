{
 "cells": [
  {
   "cell_type": "code",
   "execution_count": null,
   "id": "52b4e2ad",
   "metadata": {},
   "outputs": [],
   "source": [
    "# Value types\n",
    "# strings, floats, integers, booleans\n",
    "my_str = \"This is a string\",\n",
    "my_int = 5\n",
    "my_float = 7.5\n",
    "my_bool = False"
   ]
  },
  {
   "cell_type": "code",
   "execution_count": null,
   "id": "2b5f35af",
   "metadata": {},
   "outputs": [],
   "source": [
    "# because python is a dynamically typed language, all of these values types\n",
    "# can live in the same list\n",
    "fun_time_list = [my_str, my_int, my_float, my_bool]"
   ]
  },
  {
   "cell_type": "code",
   "execution_count": null,
   "id": "597d2f57",
   "metadata": {},
   "outputs": [],
   "source": [
    "print(fun_time_list)"
   ]
  },
  {
   "cell_type": "code",
   "execution_count": null,
   "id": "e2ae3f8c",
   "metadata": {},
   "outputs": [],
   "source": [
    "# you can use expressions in a list as well\n",
    "list_with_math = [6*3, 12-3, 49/7, 3-1]"
   ]
  },
  {
   "cell_type": "code",
   "execution_count": null,
   "id": "a14bac0d",
   "metadata": {},
   "outputs": [],
   "source": [
    "print(list_with_math)"
   ]
  },
  {
   "cell_type": "code",
   "execution_count": null,
   "id": "241efaa6",
   "metadata": {},
   "outputs": [],
   "source": [
    "# just like with strings, you can use indexing to pull values at index x\n",
    "list_with_math[3]"
   ]
  },
  {
   "cell_type": "code",
   "execution_count": null,
   "id": "04858b7c",
   "metadata": {},
   "outputs": [],
   "source": [
    "list_with_math[0]"
   ]
  },
  {
   "cell_type": "code",
   "execution_count": null,
   "id": "22b3c018",
   "metadata": {},
   "outputs": [],
   "source": [
    "# how many elements are in this list\n",
    "len(list_with_math)"
   ]
  },
  {
   "cell_type": "code",
   "execution_count": null,
   "id": "3706ed7e",
   "metadata": {},
   "outputs": [],
   "source": [
    "# get a subsection of the list with indexing\n",
    "list_with_math[1:4]"
   ]
  },
  {
   "cell_type": "code",
   "execution_count": null,
   "id": "c81679b6",
   "metadata": {},
   "outputs": [],
   "source": [
    "# index 4 does not exist - you will be sad\n",
    "list_with_math[4]"
   ]
  },
  {
   "cell_type": "code",
   "execution_count": null,
   "id": "65687a2a",
   "metadata": {},
   "outputs": [],
   "source": [
    "# if you don't specify a starting index, it will assume 0 as the start\n",
    "list_with_math[:3]"
   ]
  },
  {
   "cell_type": "code",
   "execution_count": null,
   "id": "650334d1",
   "metadata": {},
   "outputs": [],
   "source": [
    "# if you don't specify an ending index, it will assume to want everything til \n",
    "# end of the list\n",
    "list_with_math[2:]"
   ]
  },
  {
   "cell_type": "code",
   "execution_count": null,
   "id": "224bf524",
   "metadata": {},
   "outputs": [],
   "source": [
    "# no starting or ending index, will give you the entire list\n",
    "list_with_math[:]"
   ]
  },
  {
   "cell_type": "code",
   "execution_count": null,
   "id": "1f996f55",
   "metadata": {},
   "outputs": [],
   "source": [
    "# this will pull the last element in the list\n",
    "list_with_math[-1]"
   ]
  },
  {
   "cell_type": "code",
   "execution_count": null,
   "id": "d8cea7b5",
   "metadata": {},
   "outputs": [],
   "source": [
    "# this will pull the second to last value in the list\n",
    "list_with_math[-2]"
   ]
  },
  {
   "cell_type": "code",
   "execution_count": null,
   "id": "f2f50470",
   "metadata": {},
   "outputs": [],
   "source": [
    "# think about it this way\n",
    "# len of list = 4\n",
    "# 4 -3 = 1\n",
    "# the index at 1 is 9\n",
    "list_with_math[-3]"
   ]
  },
  {
   "cell_type": "code",
   "execution_count": null,
   "id": "fc94f763",
   "metadata": {},
   "outputs": [],
   "source": [
    "# this is the same as list_with_math[-3]\n",
    "list_with_math[len(list_with_math)-3]"
   ]
  },
  {
   "cell_type": "code",
   "execution_count": null,
   "id": "5ec0f94d",
   "metadata": {},
   "outputs": [],
   "source": [
    "# starting index is third to last element\n",
    "list_with_math[-3:]"
   ]
  },
  {
   "cell_type": "code",
   "execution_count": null,
   "id": "51a22aa4",
   "metadata": {},
   "outputs": [],
   "source": [
    "kat_list_of_things = ['fireworks', 'treason', 'roast']"
   ]
  },
  {
   "cell_type": "code",
   "execution_count": null,
   "id": "47eeebe1",
   "metadata": {},
   "outputs": [],
   "source": [
    "# adding something to my list\n",
    "kat_list_of_things.append('dog')"
   ]
  },
  {
   "cell_type": "code",
   "execution_count": null,
   "id": "1f8a0a55",
   "metadata": {},
   "outputs": [],
   "source": [
    "kat_list_of_things"
   ]
  },
  {
   "cell_type": "code",
   "execution_count": null,
   "id": "5b328871",
   "metadata": {},
   "outputs": [],
   "source": [
    "# remove elements by name\n",
    "kat_list_of_things.remove('treason')"
   ]
  },
  {
   "cell_type": "code",
   "execution_count": null,
   "id": "62efe1da",
   "metadata": {},
   "outputs": [],
   "source": [
    "# reverse is a function \n",
    "# () like someone saying 'GO'\n",
    "kat_list_of_things.reverse()"
   ]
  },
  {
   "cell_type": "code",
   "execution_count": null,
   "id": "d2c6b364",
   "metadata": {},
   "outputs": [],
   "source": [
    "kat_list_of_things"
   ]
  },
  {
   "cell_type": "code",
   "execution_count": null,
   "id": "e273f4ed",
   "metadata": {},
   "outputs": [],
   "source": [
    "kat_list_of_things[0:2]"
   ]
  },
  {
   "cell_type": "code",
   "execution_count": null,
   "id": "bac8c22f",
   "metadata": {},
   "outputs": [],
   "source": [
    "# if you want to add at index x\n",
    "# parameters: index (ie where does it go), the element (ie what are we adding)\n",
    "kat_list_of_things.insert(1, 'unpacking')"
   ]
  },
  {
   "cell_type": "code",
   "execution_count": null,
   "id": "85f11a43",
   "metadata": {},
   "outputs": [],
   "source": [
    "kat_list_of_things"
   ]
  },
  {
   "cell_type": "code",
   "execution_count": null,
   "id": "a482a3f7",
   "metadata": {},
   "outputs": [],
   "source": [
    "# make new empty list\n",
    "# good idea for list names to end in s (lists are a collection of things, \n",
    "# plural names emphasize this)\n",
    "excited_list_of_things = []\n",
    "\n",
    "# variable name for each element (ie thing) \n",
    "for thing in kat_list_of_things:\n",
    "    if(len(thing) > 3):\n",
    "        excited_list_of_things.append(thing.upper()) "
   ]
  },
  {
   "cell_type": "code",
   "execution_count": null,
   "id": "498853ea",
   "metadata": {},
   "outputs": [],
   "source": [
    "# let's try the same thing with list comprenhesion "
   ]
  },
  {
   "cell_type": "code",
   "execution_count": null,
   "id": "8e5da53c",
   "metadata": {},
   "outputs": [],
   "source": [
    "# list comprehenesion - oh my gosh!\n",
    "# what this is doing:\n",
    "# excited_list_of_things = ['DOG', 'UNPACKING', 'ROAST', 'FIREWORKS']\n",
    "excited_list_of_things = [ thing.upper() for thing in kat_list_of_things]"
   ]
  },
  {
   "cell_type": "code",
   "execution_count": null,
   "id": "45bc053f",
   "metadata": {},
   "outputs": [],
   "source": [
    "excited_list_of_things"
   ]
  },
  {
   "cell_type": "code",
   "execution_count": null,
   "id": "771905a4",
   "metadata": {},
   "outputs": [],
   "source": [
    "# only use elements who have more than 3 characters in their name\n",
    "excited_list_of_things = [ thing.upper() for thing in kat_list_of_things if len(thing) > 3]"
   ]
  },
  {
   "cell_type": "code",
   "execution_count": null,
   "id": "38dadba6",
   "metadata": {},
   "outputs": [],
   "source": [
    "excited_list_of_things"
   ]
  },
  {
   "cell_type": "code",
   "execution_count": null,
   "id": "27b6e818",
   "metadata": {},
   "outputs": [],
   "source": [
    "# get a list of numbers starting at 1, and up to (but not including) 10\n",
    "list_nums = list(range(1,10))"
   ]
  },
  {
   "cell_type": "code",
   "execution_count": null,
   "id": "152fa21e",
   "metadata": {},
   "outputs": [],
   "source": [
    "list_nums"
   ]
  },
  {
   "cell_type": "code",
   "execution_count": null,
   "id": "814c7795",
   "metadata": {},
   "outputs": [],
   "source": [
    "divisble_by3 = [ x for x in list_nums if x % 3 == 0 ]"
   ]
  },
  {
   "cell_type": "code",
   "execution_count": null,
   "id": "5540b0f3",
   "metadata": {},
   "outputs": [],
   "source": [
    "divisble_by3"
   ]
  },
  {
   "cell_type": "code",
   "execution_count": null,
   "id": "bbc7d512",
   "metadata": {},
   "outputs": [],
   "source": [
    "my_list_mixed = [4,5,6,7.8,2.3,6.7]"
   ]
  },
  {
   "cell_type": "code",
   "execution_count": null,
   "id": "931fad20",
   "metadata": {},
   "outputs": [],
   "source": [
    "my_list_ints = [   x for x in my_list_mixed if isinstance(x, int) ]"
   ]
  },
  {
   "cell_type": "code",
   "execution_count": null,
   "id": "961149a7",
   "metadata": {},
   "outputs": [],
   "source": [
    "my_list_ints"
   ]
  },
  {
   "cell_type": "code",
   "execution_count": null,
   "id": "a308428f",
   "metadata": {},
   "outputs": [],
   "source": [
    "my_list_mixed.sort()"
   ]
  },
  {
   "cell_type": "code",
   "execution_count": null,
   "id": "d2119a0e",
   "metadata": {},
   "outputs": [],
   "source": [
    "my_list_mixed"
   ]
  },
  {
   "cell_type": "code",
   "execution_count": null,
   "id": "7d59e0b8",
   "metadata": {},
   "outputs": [],
   "source": [
    "my_complex_list = [True, 5, \"hello\", [\"b\", \"c\", \"d\"]]"
   ]
  },
  {
   "cell_type": "code",
   "execution_count": null,
   "id": "33e91c14",
   "metadata": {},
   "outputs": [],
   "source": [
    "my_normal_list = [x for x in my_complex_list ]"
   ]
  }
 ],
 "metadata": {
  "kernelspec": {
   "display_name": "Python 3 (ipykernel)",
   "language": "python",
   "name": "python3"
  },
  "language_info": {
   "codemirror_mode": {
    "name": "ipython",
    "version": 3
   },
   "file_extension": ".py",
   "mimetype": "text/x-python",
   "name": "python",
   "nbconvert_exporter": "python",
   "pygments_lexer": "ipython3",
   "version": "3.11.0"
  }
 },
 "nbformat": 4,
 "nbformat_minor": 5
}

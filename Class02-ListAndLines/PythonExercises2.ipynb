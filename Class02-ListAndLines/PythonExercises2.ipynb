{
 "cells": [
  {
   "cell_type": "markdown",
   "id": "27eecb4e",
   "metadata": {},
   "source": [
    "<h2>Introduction to Creative Coding: Homework 2</h2>\n",
    "To complete this assignment, download this notebook and edit the code to produce the expected output. Be sure to upload the file to the shared drive before next class."
   ]
  },
  {
   "cell_type": "markdown",
   "id": "cd496064",
   "metadata": {},
   "source": [
    "<h3>Problem 1</h3>\n",
    "Print the first element and last element of the list below using indexing\n",
    "<br/>Expected Output: <code>18 14</code> <--- Note that they are on the same line and have a space inbetween!"
   ]
  },
  {
   "cell_type": "code",
   "execution_count": null,
   "id": "9074a327",
   "metadata": {},
   "outputs": [],
   "source": [
    "my_list = [18, 56, 43, 65, 12, 14]\n",
    "print()"
   ]
  },
  {
   "cell_type": "markdown",
   "id": "8541d0fc",
   "metadata": {},
   "source": [
    "<h3>Problem 2</h3>\n",
    "Print the reverse of my_list. (And don't just rewrite the list!) Hint: reverse the list, then print\n",
    "<br/>Expected Output: <code>[14, 12, 65, 43, 56, 18]"
   ]
  },
  {
   "cell_type": "code",
   "execution_count": null,
   "id": "be1310c8",
   "metadata": {},
   "outputs": [],
   "source": []
  },
  {
   "cell_type": "markdown",
   "id": "e16c3a49",
   "metadata": {},
   "source": [
    "<h3>Problem 3</h3>\n",
    "Print the smallest and largest number in my_list\n",
    "<br/>Expected Output: <code>12 65</code>"
   ]
  },
  {
   "cell_type": "code",
   "execution_count": null,
   "id": "9d1d6a02",
   "metadata": {},
   "outputs": [],
   "source": []
  },
  {
   "cell_type": "markdown",
   "id": "ffeab443",
   "metadata": {},
   "source": [
    "<h3>Problem 4</h3>\n",
    "Print the length of my_list\n",
    "<br/>Expected Output: <code>6</code>"
   ]
  },
  {
   "cell_type": "code",
   "execution_count": null,
   "id": "2c37bdf5",
   "metadata": {},
   "outputs": [],
   "source": []
  },
  {
   "cell_type": "markdown",
   "id": "3c3cbca4",
   "metadata": {},
   "source": [
    "<h3>Problem 5</h3>\n",
    "Write an expression that evaluates to a sublist of my_list starting with the third element and ending with sixth (exclusive). Use indexing!\n",
    "<br/>Expected Output: <code>[43, 56, 18]</code>"
   ]
  },
  {
   "cell_type": "code",
   "execution_count": null,
   "id": "913a9b5b",
   "metadata": {},
   "outputs": [],
   "source": []
  },
  {
   "cell_type": "markdown",
   "id": "4614832c",
   "metadata": {},
   "source": [
    "<h3>Problem 6</h3>\n",
    "Write a list comprehension to create a new list comprised of all the numbers in number_list that are divisble by 3.\n",
    "<br/>Expected Output: <code>[12, 435, 234, 231]</code>"
   ]
  },
  {
   "cell_type": "code",
   "execution_count": null,
   "id": "0b8999d6",
   "metadata": {},
   "outputs": [],
   "source": [
    "number_list = [12, 435, 234, 231, 65, 34, 4]\n"
   ]
  },
  {
   "cell_type": "markdown",
   "id": "778a3373",
   "metadata": {},
   "source": [
    "<h3>Problem 7</h3>\n",
    "Using a list comprehension, write an expression that evaluates to a list comprised of only elements starting with the letter 'j' from programming_langs\n",
    "<br/>Expected Output: <code>[\"java\", \"javascript\"]</code>"
   ]
  },
  {
   "cell_type": "code",
   "execution_count": null,
   "id": "89c944dd",
   "metadata": {},
   "outputs": [],
   "source": [
    "programming_langs = [\"java\", \"python\", \"c++\", \"javascript\", \"ruby\"]\n"
   ]
  },
  {
   "cell_type": "markdown",
   "id": "044d56d4",
   "metadata": {},
   "source": [
    "<h3>Problem 8</h3>\n",
    "Write a list comprension that evaluates to a list of the first ten multiples of 3. Hint: use the range function!\n",
    "<br/>Expected Output: <code>[0, 3, 6, 9, 12, 15, 18, 21, 24, 27]</code>"
   ]
  },
  {
   "cell_type": "code",
   "execution_count": null,
   "id": "b39d1adb",
   "metadata": {},
   "outputs": [],
   "source": []
  },
  {
   "cell_type": "markdown",
   "id": "c0495e32",
   "metadata": {},
   "source": [
    "<h3>Problem 9</h3>\n",
    "Update the code inside the for loop to print the square of each value x\n",
    "<br/>Expected Output:\n",
    "<br/><code>0\n",
    "1\n",
    "4\n",
    "9\n",
    "16\n",
    "25\n",
    "36\n",
    "49\n",
    "64\n",
    "81\n",
    "</code>"
   ]
  },
  {
   "cell_type": "code",
   "execution_count": null,
   "id": "fcb6cb6d",
   "metadata": {},
   "outputs": [],
   "source": [
    "for x in range(10):\n",
    "    print(1)"
   ]
  },
  {
   "cell_type": "markdown",
   "id": "2a8cd83d",
   "metadata": {},
   "source": [
    "<h3>Problem 10</h3>\n",
    "Using the earlier list, programming_langs, write a for loop where you print out the length of each string\n",
    "<br/>Expected Output: \n",
    "<br/><code>4\n",
    "6\n",
    "3\n",
    "10\n",
    "4\n",
    "</code>"
   ]
  },
  {
   "cell_type": "code",
   "execution_count": null,
   "id": "634573d8",
   "metadata": {},
   "outputs": [],
   "source": []
  }
 ],
 "metadata": {
  "kernelspec": {
   "display_name": "Python 3 (ipykernel)",
   "language": "python",
   "name": "python3"
  },
  "language_info": {
   "codemirror_mode": {
    "name": "ipython",
    "version": 3
   },
   "file_extension": ".py",
   "mimetype": "text/x-python",
   "name": "python",
   "nbconvert_exporter": "python",
   "pygments_lexer": "ipython3",
   "version": "3.7.8"
  }
 },
 "nbformat": 4,
 "nbformat_minor": 5
}

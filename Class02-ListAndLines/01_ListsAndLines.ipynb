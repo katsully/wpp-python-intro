{
 "cells": [
  {
   "cell_type": "code",
   "execution_count": 1,
   "id": "c8ed4d35",
   "metadata": {},
   "outputs": [],
   "source": [
    "# So far we have dealt with several types of values: ints, floats, strings, and booleans\n",
    "example_int = 5\n",
    "example_float = 2.35\n",
    "example_string = \"Hello World\"\n",
    "example_boolean = True"
   ]
  },
  {
   "cell_type": "code",
   "execution_count": 3,
   "id": "428bc53c",
   "metadata": {},
   "outputs": [
    {
     "name": "stdout",
     "output_type": "stream",
     "text": [
      "[1, 2, 3]\n"
     ]
    }
   ],
   "source": [
    "# python lets us combine with values into something called a LIST\n",
    "my_first_list = [1,2,3]\n",
    "print(my_first_list)"
   ]
  },
  {
   "cell_type": "code",
   "execution_count": 5,
   "id": "2dcb3ffd",
   "metadata": {},
   "outputs": [
    {
     "name": "stdout",
     "output_type": "stream",
     "text": [
      "[1, False, 'Hello', 6.7]\n"
     ]
    }
   ],
   "source": [
    "# because python is a DYNAMICALLY typed language, you can use different types of values in the same list\n",
    "# this is something you cannot do with a statically typed language\n",
    "mixed_values_list = [1,False,\"Hello\",6.7]\n",
    "print(mixed_values_list)"
   ]
  },
  {
   "cell_type": "code",
   "execution_count": null,
   "id": "bc5ce17d",
   "metadata": {},
   "outputs": [],
   "source": []
  }
 ],
 "metadata": {
  "kernelspec": {
   "display_name": "Python 3 (ipykernel)",
   "language": "python",
   "name": "python3"
  },
  "language_info": {
   "codemirror_mode": {
    "name": "ipython",
    "version": 3
   },
   "file_extension": ".py",
   "mimetype": "text/x-python",
   "name": "python",
   "nbconvert_exporter": "python",
   "pygments_lexer": "ipython3",
   "version": "3.7.8"
  }
 },
 "nbformat": 4,
 "nbformat_minor": 5
}

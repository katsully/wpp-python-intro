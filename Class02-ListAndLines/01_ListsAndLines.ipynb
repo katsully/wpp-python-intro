{
 "cells": [
  {
   "cell_type": "code",
   "execution_count": 1,
   "id": "6e094105",
   "metadata": {},
   "outputs": [],
   "source": [
    "# So far we have dealt with several types of values: ints, floats, strings, and booleans\n",
    "example_int = 5\n",
    "example_float = 2.35\n",
    "example_string = \"Hello World\"\n",
    "example_boolean = True"
   ]
  },
  {
   "cell_type": "code",
   "execution_count": 3,
   "id": "79ceb42a",
   "metadata": {},
   "outputs": [
    {
     "name": "stdout",
     "output_type": "stream",
     "text": [
      "[1, 2, 3]\n"
     ]
    }
   ],
   "source": [
    "# python lets us combine with values into something called a LIST\n",
    "my_first_list = [1, 2, 3]\n",
    "print(my_first_list)"
   ]
  },
  {
   "cell_type": "code",
   "execution_count": 15,
   "id": "fc356310",
   "metadata": {},
   "outputs": [
    {
     "name": "stdout",
     "output_type": "stream",
     "text": [
      "[4, 20, 24, 36]\n"
     ]
    }
   ],
   "source": [
    "# you can also have expressions be values in a list\n",
    "expression_list = [1*4, 5*4, 3*8, 9*4]\n",
    "print(expression_list)"
   ]
  },
  {
   "cell_type": "code",
   "execution_count": 5,
   "id": "ce3c3bcf",
   "metadata": {},
   "outputs": [
    {
     "name": "stdout",
     "output_type": "stream",
     "text": [
      "[1, False, 'Hello', 6.7]\n"
     ]
    }
   ],
   "source": [
    "# because python is a DYNAMICALLY typed language, you can use different types of values in the same list\n",
    "# this is something you cannot do with a statically typed language\n",
    "mixed_values_list = [1, False, \"Hello\", 6.7]\n",
    "print(mixed_values_list)"
   ]
  },
  {
   "cell_type": "code",
   "execution_count": 8,
   "id": "4c5a2574",
   "metadata": {},
   "outputs": [
    {
     "name": "stdout",
     "output_type": "stream",
     "text": [
      "[]\n"
     ]
    }
   ],
   "source": [
    "# a list does not need to contain anything to be considered a list\n",
    "# you can define an empty list like so\n",
    "empty_list = []\n",
    "print(empty_list)"
   ]
  },
  {
   "cell_type": "code",
   "execution_count": 10,
   "id": "86688450",
   "metadata": {},
   "outputs": [
    {
     "name": "stdout",
     "output_type": "stream",
     "text": [
      "0\n",
      "4\n"
     ]
    }
   ],
   "source": [
    "# just like you can get the length of a string, you can get the length of a list using len()\n",
    "print(len(empty_list))\n",
    "print(len(mixed_values_list))"
   ]
  },
  {
   "cell_type": "code",
   "execution_count": 33,
   "id": "18038fb4",
   "metadata": {},
   "outputs": [
    {
     "name": "stdout",
     "output_type": "stream",
     "text": [
      "1 11 13\n"
     ]
    }
   ],
   "source": [
    "# Also like our strings, we can use string indexing to pull a certain element from the list\n",
    "# remember in programming that we start counting from 0\n",
    "# we can also use variables to index a list\n",
    "idx = 6\n",
    "my_list = [1, 2, 3, 5, 7, 11, 13]\n",
    "print(my_list[0], my_list[5], my_list[idx])"
   ]
  },
  {
   "cell_type": "code",
   "execution_count": 14,
   "id": "d60a28ac",
   "metadata": {},
   "outputs": [
    {
     "name": "stdout",
     "output_type": "stream",
     "text": [
      "[1, 2, 3]\n",
      "[5, 7]\n",
      "[11, 13]\n"
     ]
    }
   ],
   "source": [
    "# we can also create partial lists using indexing\n",
    "# remember the syntax [starting_index: ending index], this will go up to but NOT including the ending index\n",
    "print(my_list[:3]) # if there is no starting index, it will assume starting index = 0\n",
    "print(my_list[3:5])\n",
    "print(my_list[5:]) # if there is no ending index, it will assume ending index = end of list"
   ]
  },
  {
   "cell_type": "code",
   "execution_count": 16,
   "id": "fe5d8020",
   "metadata": {},
   "outputs": [
    {
     "ename": "IndexError",
     "evalue": "list index out of range",
     "output_type": "error",
     "traceback": [
      "\u001b[1;31m---------------------------------------------------------------------------\u001b[0m",
      "\u001b[1;31mIndexError\u001b[0m                                Traceback (most recent call last)",
      "\u001b[1;32m~\\AppData\\Local\\Temp\\ipykernel_21780\\3262010261.py\u001b[0m in \u001b[0;36m<module>\u001b[1;34m\u001b[0m\n\u001b[0;32m      1\u001b[0m \u001b[1;31m# we can see my list has 7 elements, so the last number (13) would be the 6th element\u001b[0m\u001b[1;33m\u001b[0m\u001b[1;33m\u001b[0m\u001b[1;33m\u001b[0m\u001b[0m\n\u001b[0;32m      2\u001b[0m \u001b[1;31m# what happens if we try to call the 7th element?\u001b[0m\u001b[1;33m\u001b[0m\u001b[1;33m\u001b[0m\u001b[1;33m\u001b[0m\u001b[0m\n\u001b[1;32m----> 3\u001b[1;33m \u001b[0mprint\u001b[0m\u001b[1;33m(\u001b[0m\u001b[0mmy_list\u001b[0m\u001b[1;33m[\u001b[0m\u001b[1;36m7\u001b[0m\u001b[1;33m]\u001b[0m\u001b[1;33m)\u001b[0m\u001b[1;33m\u001b[0m\u001b[1;33m\u001b[0m\u001b[0m\n\u001b[0m",
      "\u001b[1;31mIndexError\u001b[0m: list index out of range"
     ]
    }
   ],
   "source": [
    "# we can see my list has 7 elements, so the last number (13) would be the 6th element\n",
    "# what happens if we try to call the 7th element?\n",
    "print(my_list[7])"
   ]
  },
  {
   "cell_type": "code",
   "execution_count": 41,
   "id": "b35d3b1e",
   "metadata": {},
   "outputs": [
    {
     "name": "stdout",
     "output_type": "stream",
     "text": [
      "13\n",
      "11\n"
     ]
    }
   ],
   "source": [
    "# what happens if we use a negative number?\n",
    "print(my_list[-1])\n",
    "print(my_list[-2])"
   ]
  },
  {
   "cell_type": "code",
   "execution_count": 44,
   "id": "eec64b74",
   "metadata": {},
   "outputs": [
    {
     "data": {
      "text/plain": [
       "[7, 11, 13]"
      ]
     },
     "execution_count": 44,
     "metadata": {},
     "output_type": "execute_result"
    }
   ],
   "source": [
    "# we see for index -1 we get the last number in the list, and -2 gives us the second to last element\n",
    "# in the list\n",
    "# negative numbers can also give us the x last elements in a list\n",
    "my_list[-3:]"
   ]
  },
  {
   "cell_type": "code",
   "execution_count": 47,
   "id": "b0ee9838",
   "metadata": {},
   "outputs": [
    {
     "name": "stdout",
     "output_type": "stream",
     "text": [
      "Hello\n"
     ]
    },
    {
     "ename": "TypeError",
     "evalue": "'str' object does not support item assignment",
     "output_type": "error",
     "traceback": [
      "\u001b[1;31m---------------------------------------------------------------------------\u001b[0m",
      "\u001b[1;31mTypeError\u001b[0m                                 Traceback (most recent call last)",
      "\u001b[1;32m~\\AppData\\Local\\Temp\\ipykernel_21780\\2899646264.py\u001b[0m in \u001b[0;36m<module>\u001b[1;34m\u001b[0m\n\u001b[0;32m      2\u001b[0m \u001b[0mmy_string\u001b[0m \u001b[1;33m=\u001b[0m \u001b[1;34m\"Hello\"\u001b[0m\u001b[1;33m\u001b[0m\u001b[1;33m\u001b[0m\u001b[0m\n\u001b[0;32m      3\u001b[0m \u001b[0mprint\u001b[0m\u001b[1;33m(\u001b[0m\u001b[0mmy_string\u001b[0m\u001b[1;33m)\u001b[0m\u001b[1;33m\u001b[0m\u001b[1;33m\u001b[0m\u001b[0m\n\u001b[1;32m----> 4\u001b[1;33m \u001b[0mmy_string\u001b[0m\u001b[1;33m[\u001b[0m\u001b[1;36m2\u001b[0m\u001b[1;33m]\u001b[0m \u001b[1;33m=\u001b[0m \u001b[1;34m\"a\"\u001b[0m\u001b[1;33m\u001b[0m\u001b[1;33m\u001b[0m\u001b[0m\n\u001b[0m\u001b[0;32m      5\u001b[0m \u001b[0mprint\u001b[0m\u001b[1;33m(\u001b[0m\u001b[0mmy_string\u001b[0m\u001b[1;33m)\u001b[0m\u001b[1;33m\u001b[0m\u001b[1;33m\u001b[0m\u001b[0m\n",
      "\u001b[1;31mTypeError\u001b[0m: 'str' object does not support item assignment"
     ]
    }
   ],
   "source": [
    "# strings are immutable, which means it does not support item assignment\n",
    "my_string = \"Hello\"\n",
    "print(my_string)\n",
    "my_string[2] = \"a\"\n",
    "print(my_string)"
   ]
  },
  {
   "cell_type": "code",
   "execution_count": 2,
   "id": "800c7bf2",
   "metadata": {},
   "outputs": [
    {
     "name": "stdout",
     "output_type": "stream",
     "text": [
      "[4, 5, 6, 7]\n",
      "[4, 5, 9, 7]\n"
     ]
    }
   ],
   "source": [
    "# however, lists are mutable, which allows us to assign new values to any item\n",
    "new_list = [4, 5, 6, 7]\n",
    "print(new_list)\n",
    "new_list[2] = 9\n",
    "print(new_list)"
   ]
  },
  {
   "cell_type": "code",
   "execution_count": 3,
   "id": "d264333e",
   "metadata": {},
   "outputs": [
    {
     "name": "stdout",
     "output_type": "stream",
     "text": [
      "[1, 2, 9, 7]\n"
     ]
    }
   ],
   "source": [
    "# we can even replace slices of the list\n",
    "new_list[:2] = [1,2]\n",
    "print(new_list)"
   ]
  },
  {
   "cell_type": "code",
   "execution_count": 4,
   "id": "09497166",
   "metadata": {},
   "outputs": [
    {
     "name": "stdout",
     "output_type": "stream",
     "text": [
      "[1, 2, 9, 10]\n",
      "[10, 9, 2, 1]\n",
      "[]\n"
     ]
    }
   ],
   "source": [
    "# the append method will add new items to a list\n",
    "# the remove method will remove an item\n",
    "# the reverse method will reverse the list\n",
    "# you can clear a list by assigning the variable to the empty list\n",
    "new_list.append(10)\n",
    "new_list.remove(7)\n",
    "print(new_list)\n",
    "new_list.reverse()\n",
    "print(new_list)\n",
    "new_list = []\n",
    "print(new_list)"
   ]
  },
  {
   "cell_type": "code",
   "execution_count": 35,
   "id": "ca0769c3",
   "metadata": {},
   "outputs": [
    {
     "name": "stdout",
     "output_type": "stream",
     "text": [
      "True\n",
      "False\n"
     ]
    }
   ],
   "source": [
    "# in is a reserved word in Python\n",
    "# in will tell us whether an element is in a list\n",
    "print(3 in my_list)\n",
    "print(4 in my_list)"
   ]
  },
  {
   "cell_type": "code",
   "execution_count": 37,
   "id": "7c4bd535",
   "metadata": {},
   "outputs": [
    {
     "name": "stdout",
     "output_type": "stream",
     "text": [
      "13\n",
      "1\n"
     ]
    }
   ],
   "source": [
    "# max() will give you the highest number in the list, min() will give the lowest\n",
    "print(max(my_list))\n",
    "print(min(my_list))"
   ]
  },
  {
   "cell_type": "code",
   "execution_count": 40,
   "id": "6f67b1b4",
   "metadata": {},
   "outputs": [
    {
     "name": "stdout",
     "output_type": "stream",
     "text": [
      "30\n",
      "[2, 2, 3, 4, 5, 6, 8]\n"
     ]
    }
   ],
   "source": [
    "# the sum function will add all the elements together while the sorted function will put them in order\n",
    "random_list = [4, 5, 3, 2, 6, 8, 2]\n",
    "print(sum(random_list))\n",
    "print(sorted(random_list))"
   ]
  },
  {
   "cell_type": "code",
   "execution_count": 52,
   "id": "7c186a71",
   "metadata": {},
   "outputs": [
    {
     "name": "stdout",
     "output_type": "stream",
     "text": [
      "w\n",
      " \n",
      "[' ', ' ', ' ', ' ', 'H', 'a', 'a', 'e', 'e', 'e', 'e', 'g', 'i', 'i', 'm', 'n', 'n', 'o', 'r', 'r', 's', 's', 's', 't', 'w']\n"
     ]
    }
   ],
   "source": [
    "# while we can't assign certain items in a string in a new value, we can use most other list funtions on a string\n",
    "string_test = \"Here is an awesome string\"\n",
    "print(max(string_test))\n",
    "print(min(string_test)) # note python views a space as the 'smallest' character\n",
    "print(sorted(string_test))"
   ]
  },
  {
   "cell_type": "code",
   "execution_count": 7,
   "id": "ca8808ba",
   "metadata": {},
   "outputs": [
    {
     "data": {
      "text/plain": [
       "range(1, 10)"
      ]
     },
     "execution_count": 7,
     "metadata": {},
     "output_type": "execute_result"
    }
   ],
   "source": [
    "# we can use the range function to generate lists\n",
    "# note we need to use the list function as well (unless we're using a list comprehension - but we'll get there)\n",
    "list(range(1,10))"
   ]
  },
  {
   "cell_type": "code",
   "execution_count": 6,
   "id": "9b86b61d",
   "metadata": {},
   "outputs": [
    {
     "name": "stdout",
     "output_type": "stream",
     "text": [
      "[0, 1, 2, 3, 4]\n",
      "[4, 5]\n",
      "[10, 11, 12, 13, 14, 15, 16, 17, 18, 19]\n",
      "[1, 3, 5, 7, 9]\n",
      "[1, 4, 7]\n"
     ]
    }
   ],
   "source": [
    "# for the range function we need two numbers, the beginning number and ending number (note the ending number means up to but\n",
    "# not including). We can also include an optional third number for how many numbers to increment by (default is 1)\n",
    "print(list(range(5))) # if only one number, we assume the beginning index is 0\n",
    "print(list(range(4,6)))\n",
    "print(list(range(10,20)))\n",
    "print(list(range(1,10,2)))\n",
    "print(list(range(1,10,3)))"
   ]
  },
  {
   "cell_type": "code",
   "execution_count": 31,
   "id": "748bd698",
   "metadata": {},
   "outputs": [
    {
     "name": "stdout",
     "output_type": "stream",
     "text": [
      "1\n",
      "2\n",
      "3\n",
      "4\n",
      "5\n",
      "6\n",
      "7\n",
      "8\n",
      "9\n"
     ]
    }
   ],
   "source": [
    "# lists are very powerful tool in python, and they become even more powerful when combined with a for loop\n",
    "for i in list(range(1,10)):\n",
    "    print(i)"
   ]
  },
  {
   "cell_type": "code",
   "execution_count": 32,
   "id": "270b0fad",
   "metadata": {},
   "outputs": [
    {
     "name": "stdout",
     "output_type": "stream",
     "text": [
      "2\n",
      "4\n",
      "6\n",
      "8\n",
      "10\n",
      "12\n",
      "14\n",
      "16\n",
      "18\n"
     ]
    }
   ],
   "source": [
    "# let's break that down\n",
    "# a for loop is saying for every element in a certain list, I'm going to do something to that element\n",
    "# in the above example we simply printed every element in my list\n",
    "\n",
    "# looking at the syntax of a for loop, note that 'for' and 'in' are bold. These are reserved words in Python. Python has code \n",
    "# that lets it understand what we mean when we type those key terms. \n",
    "# i is simply a variable. I could have used x, a, or puppydog instead of i and it would have worked\n",
    "# list(range(1,10)) is the list we will be iterating over\n",
    "\n",
    "# let's try another for loop\n",
    "for x in list(range(1,10)):\n",
    "    print(x * 2)   # note that i'm using x instead of i, but I made the code inside the loop used x instead of i as well"
   ]
  },
  {
   "cell_type": "code",
   "execution_count": 54,
   "id": "69dd8d59",
   "metadata": {},
   "outputs": [
    {
     "data": {
      "text/plain": [
       "[2, 4, 6, 8, 10, 12, 14, 16, 18]"
      ]
     },
     "execution_count": 54,
     "metadata": {},
     "output_type": "execute_result"
    }
   ],
   "source": [
    "# now that we've looked at for loops, let's try list comprehensions - another very powerful tool!\n",
    "# we'll take the above example and convert it to a list comprehension\n",
    "[x*2 for x in list(range(1,10))]"
   ]
  },
  {
   "cell_type": "code",
   "execution_count": 56,
   "id": "a7a6e4c2",
   "metadata": {},
   "outputs": [
    {
     "data": {
      "text/plain": [
       "[1, 2, 3, 4, 5, 6, 7, 8, 9]"
      ]
     },
     "execution_count": 56,
     "metadata": {},
     "output_type": "execute_result"
    }
   ],
   "source": [
    "# list comprehension creates a new list \n",
    "# in the previous example we are saying for every element x (and we can call x anything) in list(range(1,10)), multiply by 2\n",
    "# a list comprehension that simply recreates the source list would be\n",
    "[x for x in list(range(1,10))]   # list(range(1,10)) is the source"
   ]
  },
  {
   "cell_type": "code",
   "execution_count": 58,
   "id": "0066d7d2",
   "metadata": {},
   "outputs": [
    {
     "data": {
      "text/plain": [
       "[False, True, False, True, False, True, False, True, False]"
      ]
     },
     "execution_count": 58,
     "metadata": {},
     "output_type": "execute_result"
    }
   ],
   "source": [
    "# list comprehensions can get quite complicated so let's start with a simple list\n",
    "# I want to take my source list (1...9) and elevate whether each number is divisble by 2, this should give me a list of False, \n",
    "# True, False, True, etc\n",
    "[x % 2 == 0 for x in list(range(1,10))]"
   ]
  },
  {
   "cell_type": "code",
   "execution_count": 8,
   "id": "efd7c064",
   "metadata": {},
   "outputs": [
    {
     "data": {
      "text/plain": [
       "[2, 4, 6, 8]"
      ]
     },
     "execution_count": 8,
     "metadata": {},
     "output_type": "execute_result"
    }
   ],
   "source": [
    "# Or I could create a list that only contains numbers that are divisble by 2 from my source list\n",
    "[x for x in range(1,10) if x % 2 == 0]"
   ]
  }
 ],
 "metadata": {
  "kernelspec": {
   "display_name": "Python 3 (ipykernel)",
   "language": "python",
   "name": "python3"
  },
  "language_info": {
   "codemirror_mode": {
    "name": "ipython",
    "version": 3
   },
   "file_extension": ".py",
   "mimetype": "text/x-python",
   "name": "python",
   "nbconvert_exporter": "python",
   "pygments_lexer": "ipython3",
   "version": "3.7.8"
  }
 },
 "nbformat": 4,
 "nbformat_minor": 5
}

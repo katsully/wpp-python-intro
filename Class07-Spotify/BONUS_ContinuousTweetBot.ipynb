{
 "cells": [
  {
   "cell_type": "code",
   "execution_count": 1,
   "id": "aabdf0d7",
   "metadata": {},
   "outputs": [],
   "source": [
    "import tweepy\n",
    "import json"
   ]
  },
  {
   "cell_type": "code",
   "execution_count": 2,
   "id": "1c288e29",
   "metadata": {},
   "outputs": [],
   "source": [
    "# open file with keys and set the path to your credentials JSON file\n",
    "# you'll need to replace my file with yours\n",
    "credentials = \"keys.json\"\n",
    "with open(credentials, \"r\") as keys:\n",
    "    api_tokens = json.load(keys)"
   ]
  },
  {
   "cell_type": "code",
   "execution_count": 3,
   "id": "c5a13754",
   "metadata": {},
   "outputs": [],
   "source": [
    "# read the keys and assign each to a variable\n",
    "bearer_token = api_tokens[\"bearer_token\"]\n",
    "api_key = api_tokens[\"api_key\"]\n",
    "api_secret = api_tokens[\"api_secret\"]\n",
    "access_token = api_tokens[\"access_token\"]\n",
    "access_secret = api_tokens[\"access_secret\"]"
   ]
  },
  {
   "cell_type": "code",
   "execution_count": 4,
   "id": "6f6f510f",
   "metadata": {},
   "outputs": [
    {
     "name": "stdout",
     "output_type": "stream",
     "text": [
      "Authentication OK\n"
     ]
    }
   ],
   "source": [
    "auth = tweepy.OAuthHandler(api_key, api_secret)\n",
    "\n",
    "auth.set_access_token(access_token, access_secret)\n",
    "\n",
    "api = tweepy.API(auth)\n",
    "\n",
    "try:\n",
    "\n",
    "    api.verify_credentials()\n",
    "\n",
    "    print(\"Authentication OK\")\n",
    "\n",
    "except:\n",
    "\n",
    "    print(\"Error during authentication\")"
   ]
  },
  {
   "cell_type": "code",
   "execution_count": 5,
   "id": "17d885ac",
   "metadata": {},
   "outputs": [],
   "source": [
    "search = 'Pythonista'\n",
    "numberOfTweets = 10"
   ]
  },
  {
   "cell_type": "code",
   "execution_count": 15,
   "id": "4d402cc7",
   "metadata": {},
   "outputs": [],
   "source": [
    "import random\n",
    "def postIt():\n",
    "    # post tweet plus random numbers\n",
    "    api.update_status('Testing my new Twitter app ' + str(random.randint(1,100)))"
   ]
  },
  {
   "cell_type": "code",
   "execution_count": 8,
   "id": "d3f4afa2",
   "metadata": {},
   "outputs": [],
   "source": [
    "import time"
   ]
  },
  {
   "cell_type": "code",
   "execution_count": 16,
   "id": "92ef7bc3",
   "metadata": {},
   "outputs": [
    {
     "ename": "KeyboardInterrupt",
     "evalue": "",
     "output_type": "error",
     "traceback": [
      "\u001b[1;31m---------------------------------------------------------------------------\u001b[0m",
      "\u001b[1;31mKeyboardInterrupt\u001b[0m                         Traceback (most recent call last)",
      "\u001b[1;32m~\\AppData\\Local\\Temp\\ipykernel_17320\\1106720452.py\u001b[0m in \u001b[0;36m<module>\u001b[1;34m\u001b[0m\n\u001b[0;32m      3\u001b[0m \u001b[1;32mwhile\u001b[0m \u001b[1;32mTrue\u001b[0m\u001b[1;33m:\u001b[0m\u001b[1;33m\u001b[0m\u001b[1;33m\u001b[0m\u001b[0m\n\u001b[0;32m      4\u001b[0m     \u001b[0mpostIt\u001b[0m\u001b[1;33m(\u001b[0m\u001b[1;33m)\u001b[0m\u001b[1;33m\u001b[0m\u001b[1;33m\u001b[0m\u001b[0m\n\u001b[1;32m----> 5\u001b[1;33m     \u001b[0mtime\u001b[0m\u001b[1;33m.\u001b[0m\u001b[0msleep\u001b[0m\u001b[1;33m(\u001b[0m\u001b[1;36m30\u001b[0m\u001b[1;33m)\u001b[0m   \u001b[1;31m# so we'll post a new tweet every 30 seconds\u001b[0m\u001b[1;33m\u001b[0m\u001b[1;33m\u001b[0m\u001b[0m\n\u001b[0m",
      "\u001b[1;31mKeyboardInterrupt\u001b[0m: "
     ]
    }
   ],
   "source": [
    "# run this code and check if you have a new tweet\n",
    "# 30 seconds later there should be another (and another 30 seconds after that and so on)\n",
    "\n",
    "while True:\n",
    "    postIt()\n",
    "    time.sleep(30)   # so we'll post a new tweet every 30 seconds"
   ]
  },
  {
   "cell_type": "code",
   "execution_count": null,
   "id": "1b99a478",
   "metadata": {},
   "outputs": [],
   "source": [
    "# but if we want a Twitter bot that will run for days, weeks, months this isn't a great way to do it\n",
    "# so the next few examples we'll be leaving the notebook for a text editor"
   ]
  }
 ],
 "metadata": {
  "kernelspec": {
   "display_name": "Python 3 (ipykernel)",
   "language": "python",
   "name": "python3"
  },
  "language_info": {
   "codemirror_mode": {
    "name": "ipython",
    "version": 3
   },
   "file_extension": ".py",
   "mimetype": "text/x-python",
   "name": "python",
   "nbconvert_exporter": "python",
   "pygments_lexer": "ipython3",
   "version": "3.7.8"
  }
 },
 "nbformat": 4,
 "nbformat_minor": 5
}
